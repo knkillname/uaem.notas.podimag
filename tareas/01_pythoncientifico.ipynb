{
 "cells": [
  {
   "cell_type": "markdown",
   "metadata": {},
   "source": [
    "# Tarea 1: Python en el ámbito científico"
   ]
  },
  {
   "cell_type": "markdown",
   "metadata": {},
   "source": [
    "- **Facilitador**: [Mario Abarca](mario.abarca@uaem.edu.mx)\n",
    "- **Sujeto de aprendizaje**: [<!--Añadir nombre-->](<!-- Correo oficial -->)\n",
    "\n",
    "*Doble clic aquí para editar esta celda y colocar nombre y correo electrónico.*"
   ]
  },
  {
   "cell_type": "markdown",
   "metadata": {},
   "source": [
    "**NOTA**: Esta tarea cuenta con un sistema de evaluación automática que podrás\n",
    "encontrar al final del documento.\n",
    "El sistema de evaluación es muy estricto en cuanto al formato de la respuesta,\n",
    "por lo que es importante que escribas la respuesta exactamente como se te pide."
   ]
  },
  {
   "cell_type": "code",
   "execution_count": null,
   "metadata": {},
   "outputs": [],
   "source": [
    "# Primero nos aseguramos de que las dependencias estén al día.\n",
    "!cd .. && pipenv sync --dev"
   ]
  },
  {
   "cell_type": "code",
   "execution_count": null,
   "metadata": {},
   "outputs": [],
   "source": [
    "import hashlib\n",
    "import unittest\n",
    "\n",
    "import matplotlib.pyplot as plt\n",
    "import numpy as np"
   ]
  },
  {
   "cell_type": "markdown",
   "metadata": {},
   "source": [
    "## 1. Uso de Jupyter"
   ]
  },
  {
   "cell_type": "markdown",
   "metadata": {},
   "source": [
    "### Ejercicio 1.1"
   ]
  },
  {
   "cell_type": "markdown",
   "metadata": {},
   "source": [
    "Busca la web oficial de la documentación de Jupyter y asigna la dirección a la\n",
    "variable `respuesta_1_1`.\n",
    "Escribe solamente la dirección web sin protocolo ni subdirectorio; por ejemplo,\n",
    "si la dirección es `https://www.ejemplo.com/documentacion`, entonces el valor\n",
    "de la variable será `\"www.ejemplo.com\"`."
   ]
  },
  {
   "cell_type": "code",
   "execution_count": null,
   "metadata": {},
   "outputs": [],
   "source": [
    "respuesta_1_1 = \"www.ejemplo.com\"  # Sustituye esta cadena con la respuesta correcta"
   ]
  },
  {
   "cell_type": "markdown",
   "metadata": {},
   "source": [
    "### Ejercicio 1.2"
   ]
  },
  {
   "cell_type": "markdown",
   "metadata": {},
   "source": [
    "Como mencionamos en clase, puedes ejecutar sentencias de la terminal\n",
    "directamente desde Jupyter si antepones el signo de exclamación `!`.\n",
    "Por ejemplo, si quieres ver la versión de Python que estás usando, puedes\n",
    "ejecutar `!python --version`."
   ]
  },
  {
   "cell_type": "code",
   "execution_count": null,
   "metadata": {},
   "outputs": [],
   "source": [
    "!python --version"
   ]
  },
  {
   "cell_type": "markdown",
   "metadata": {},
   "source": [
    "Navega en el sitio web de la documentación de Jupyter hacia *Usage* → *The\n",
    "jupyter Command*.\n",
    "Ahí se explica cómo ejecutar Jupyter desde la línea de comandos.\n",
    "Ejecuta el comando que te permite mostrar información de ayuda sobre el\n",
    "comando `jupyter` a continuación"
   ]
  },
  {
   "cell_type": "code",
   "execution_count": null,
   "metadata": {},
   "outputs": [],
   "source": [
    "# Cambia la siguiente línea para que muestre la ayuda de Jupyter.\n",
    "!uname"
   ]
  },
  {
   "cell_type": "markdown",
   "metadata": {},
   "source": [
    "Según el mensaje de ayuda, ¿cuál es, *textualmente*, la descripción de la opción\n",
    "`--debug`?"
   ]
  },
  {
   "cell_type": "code",
   "execution_count": null,
   "metadata": {},
   "outputs": [],
   "source": [
    "respuesta_1_2 = \"sin respuesta\""
   ]
  },
  {
   "cell_type": "markdown",
   "metadata": {},
   "source": [
    "### Ejercicio 1.3"
   ]
  },
  {
   "cell_type": "markdown",
   "metadata": {},
   "source": [
    "A continuación te presento una pregunta de relacionar columnas, pero al estilo\n",
    "de Python.\n",
    "Se te proporcionará una lista de opciones como esta:\n",
    "\n",
    "- **a**. este\n",
    "- **b**. es\n",
    "- **c**. un\n",
    "- **d**. ejemplo\n",
    "\n",
    "Deberás llenar la variable con un diccionario que asigne a cada llave la letra\n",
    "de la opción correspondiente.\n",
    "\n",
    "<!-- Este es un ejemplo de respuesta; no lo modifiques. -->\n",
    "```python\n",
    "respuesta = {\n",
    "    \"adjetivo\": \"c\",\n",
    "    \"sustantivo\": \"d\",\n",
    "    \"verbo\": \"b\",\n",
    "    \"pronombre\": \"a\"\n",
    "}\n",
    "```"
   ]
  },
  {
   "cell_type": "markdown",
   "metadata": {},
   "source": [
    "Relaciona las siguientes descripciones con su módulo correspondiente en Python.\n",
    "\n",
    "- **a**. Proporciona estructuras de datos y herramientas para el análisis de\n",
    "  datos tabulados.\n",
    "- **b**. Ofrece herramientas para realizar cálculos numéricos eficientes y\n",
    "  operaciones con arrays multidimensionales.\n",
    "- **c**. Permite la creación de gráficos y visualizaciones de datos de alta\n",
    "  calidad.\n",
    "- **d**. Proporciona algoritmos y herramientas para problemas de matemáticas,\n",
    "  ciencia e ingeniería.\n",
    "- **e**. Proporciona funcionalidades para álgebra simbólica y cálculo\n",
    "  matemático.\n",
    "- **f**. Es una aplicación web que permite crear y compartir documentos que\n",
    "  contienen código, ecuaciones, visualizaciones y texto explicativo."
   ]
  },
  {
   "cell_type": "code",
   "execution_count": null,
   "metadata": {},
   "outputs": [],
   "source": [
    "respuesta_1_3 = {\n",
    "    \"jupyter\": \"\",\n",
    "    \"matplotlib\": \"\",\n",
    "    \"numpy\": \"\",\n",
    "    \"pandas\": \"\",\n",
    "    \"scipy\": \"\",\n",
    "    \"sympy\": \"\",\n",
    "}"
   ]
  },
  {
   "cell_type": "markdown",
   "metadata": {},
   "source": [
    "### Ejercicio 1.4"
   ]
  },
  {
   "cell_type": "markdown",
   "metadata": {},
   "source": [
    "Como vimos en clase, el comando mágico `%lsmagic` te permite listar todos los\n",
    "comandos mágicos disponibles en Jupyter.\n",
    "Un comando relacionado pero más amigable es `%quickref`, que te muestra una\n",
    "pequeña guía de referencia rápida.\n",
    "\n",
    "Ejecuta el comando `%quickref` y responde a la siguiente pregunta."
   ]
  },
  {
   "cell_type": "code",
   "execution_count": null,
   "metadata": {},
   "outputs": [],
   "source": [
    "# Ejecuta aquí el comando mágico que se te pide"
   ]
  },
  {
   "cell_type": "markdown",
   "metadata": {},
   "source": [
    "Según la guía rápida, ¿cuál es el comando mágico que te permite guardar el\n",
    "cuaderno actual de forma automática cada cierto tiempo?"
   ]
  },
  {
   "cell_type": "code",
   "execution_count": null,
   "metadata": {},
   "outputs": [],
   "source": [
    "respuesta_1_4 = \"%ejemplo\"  # Cambia esto por tu respuesta"
   ]
  },
  {
   "cell_type": "markdown",
   "metadata": {},
   "source": [
    "## 2. Uso de NumPy"
   ]
  },
  {
   "cell_type": "markdown",
   "metadata": {},
   "source": [
    "### Ejercicio 2.1"
   ]
  },
  {
   "cell_type": "markdown",
   "metadata": {},
   "source": [
    "Captura la siguiente matriz de números enteros en una variable llamada\n",
    "`respuesta_2_1` utilizando NumPy.\n",
    "\n",
    "$$\\begin{bmatrix}\n",
    "2 & 3 & 5 \\\\\n",
    "7 & 11 & 13 \\\\\n",
    "17 & 19 & 23 \\\\\n",
    "29 & 31 & 37 \\\\\n",
    "\\end{bmatrix}$$"
   ]
  },
  {
   "cell_type": "code",
   "execution_count": null,
   "metadata": {},
   "outputs": [],
   "source": [
    "respuesta_2_1 = ..."
   ]
  },
  {
   "cell_type": "markdown",
   "metadata": {},
   "source": [
    "### Ejercicio 2.2"
   ]
  },
  {
   "cell_type": "markdown",
   "metadata": {},
   "source": [
    "¿Cuál es la forma de la matriz capturada?"
   ]
  },
  {
   "cell_type": "code",
   "execution_count": null,
   "metadata": {},
   "outputs": [],
   "source": [
    "respuesta_2_2 = ..."
   ]
  },
  {
   "cell_type": "markdown",
   "metadata": {},
   "source": [
    "### Ejercicio 2.3"
   ]
  },
  {
   "cell_type": "markdown",
   "metadata": {},
   "source": [
    "¿Cuál es el tamaño en bytes de la matriz capturada?"
   ]
  },
  {
   "cell_type": "code",
   "execution_count": null,
   "metadata": {},
   "outputs": [],
   "source": [
    "respuesta_2_3 = ..."
   ]
  },
  {
   "cell_type": "markdown",
   "metadata": {},
   "source": [
    "### Ejercicio 2.4"
   ]
  },
  {
   "cell_type": "markdown",
   "metadata": {},
   "source": [
    "¿Qué tipo de datos almacena la matriz capturada?"
   ]
  },
  {
   "cell_type": "code",
   "execution_count": null,
   "metadata": {},
   "outputs": [],
   "source": [
    "respuesta_2_4 = ..."
   ]
  },
  {
   "cell_type": "markdown",
   "metadata": {},
   "source": [
    "### Ejercicio 2.5"
   ]
  },
  {
   "cell_type": "markdown",
   "metadata": {},
   "source": [
    "¿Cuál es el elemento que está en el renglón 2, columna 0?"
   ]
  },
  {
   "cell_type": "code",
   "execution_count": null,
   "metadata": {},
   "outputs": [],
   "source": [
    "respuesta_2_5 = ..."
   ]
  },
  {
   "cell_type": "markdown",
   "metadata": {},
   "source": [
    "### Ejercicio 2.6"
   ]
  },
  {
   "cell_type": "markdown",
   "metadata": {},
   "source": [
    "¿Cuál es el renglón 2 de la matriz capturada?"
   ]
  },
  {
   "cell_type": "code",
   "execution_count": null,
   "metadata": {},
   "outputs": [],
   "source": [
    "respuesta_2_6 = ..."
   ]
  },
  {
   "cell_type": "markdown",
   "metadata": {},
   "source": [
    "### Ejercicio 2.7"
   ]
  },
  {
   "cell_type": "markdown",
   "metadata": {},
   "source": [
    "¿Cuál es la columna 1 de la matriz capturada?"
   ]
  },
  {
   "cell_type": "code",
   "execution_count": null,
   "metadata": {},
   "outputs": [],
   "source": [
    "respuesta_2_7 = ..."
   ]
  },
  {
   "cell_type": "markdown",
   "metadata": {},
   "source": [
    "### Ejercicio 2.8"
   ]
  },
  {
   "cell_type": "markdown",
   "metadata": {},
   "source": [
    "Utiliza una función de NumPy para generar un arreglo `x` de 50 números \n",
    "equidistantes en el intervalo $[-1, 1]$."
   ]
  },
  {
   "cell_type": "code",
   "execution_count": null,
   "metadata": {},
   "outputs": [],
   "source": [
    "x = ...  # Cambia esto por tu respuesta\n",
    "respuesta_2_8 = x  # No cambies esta línea"
   ]
  },
  {
   "cell_type": "markdown",
   "metadata": {},
   "source": [
    "### Ejercicio 2.9"
   ]
  },
  {
   "cell_type": "markdown",
   "metadata": {},
   "source": [
    "Utiliza el arreglo `x` para generar un arreglo `y` de acuerdo a la siguiente\n",
    "ecuación:\n",
    "$$y = x\\,\\sin\\left(\\frac{1}{x}\\right) - 1$$"
   ]
  },
  {
   "cell_type": "code",
   "execution_count": null,
   "metadata": {},
   "outputs": [],
   "source": [
    "y = ...\n",
    "respuesta_2_9 = y  # No cambies esta línea"
   ]
  },
  {
   "cell_type": "markdown",
   "metadata": {},
   "source": [
    "### Ejercicio 2.10"
   ]
  },
  {
   "cell_type": "markdown",
   "metadata": {},
   "source": [
    "El siguiente algoritmo *de Euclides* es una forma de encontrar el máximo común\n",
    "divisor de dos números enteros positivos:\n",
    "\n",
    "```python\n",
    "def mcd(a, b):\n",
    "    while b != 0:\n",
    "        a, b = b, a % b\n",
    "    return a\n",
    "```\n",
    "\n",
    "Primero modifica este algoritmo para que devuelva el número de iteraciones que\n",
    "realiza antes de terminar; es decir, la cantidad de veces que se ejecuta el\n",
    "cuerpo del ciclo `while`."
   ]
  },
  {
   "cell_type": "code",
   "execution_count": null,
   "metadata": {},
   "outputs": [],
   "source": [
    "def cuenta_mcd(a, b):\n",
    "    ...\n",
    "\n",
    "respuesta_2_10 = cuenta_mcd  # No cambies esta línea"
   ]
  },
  {
   "cell_type": "markdown",
   "metadata": {},
   "source": [
    "### Ejercicio 2.11"
   ]
  },
  {
   "cell_type": "markdown",
   "metadata": {},
   "source": [
    "Utiliza `np.frompyfunc` para convertir `cuenta_mcd` en una función vectorizada\n",
    "que acepte dos arreglos de NumPy `a` y `b` y devuelva un arreglo con la cantidad\n",
    "de iteraciones que realiza el algoritmo de Euclides para cada par de elementos\n",
    "de `a` y `b`."
   ]
  },
  {
   "cell_type": "code",
   "execution_count": null,
   "metadata": {},
   "outputs": [],
   "source": [
    "vec_cuenta_mcd = np.frompyfunc(...)  # Cambia esto por tu respuesta\n",
    "\n",
    "respuesta_2_11 = vec_cuenta_mcd  # No cambies esta línea"
   ]
  },
  {
   "cell_type": "markdown",
   "metadata": {},
   "source": [
    "### Ejercicio 2.12"
   ]
  },
  {
   "cell_type": "markdown",
   "metadata": {},
   "source": [
    "Utiliza `np.meshgrid` para generar dos arreglos `a` y `b` de números enteros\n",
    "que te permitan evaluar la función vectorizada en el rango bidimensional\n",
    "$[0, 99] \\times [0, 99]$.\n",
    "La función vectorizada debe devolver un arreglo bidimensional de tipo `np.int_`.\n",
    "\n",
    "Para ello, considera que la funcion `np.arange` genera un arreglo de números\n",
    "enteros de la misma forma que `range` de Python, solo que en forma de arreglo de\n",
    "NumPy; por ejemplo, `np.arange(5)` devuelve `array([0, 1, 2, 3, 4])`."
   ]
  },
  {
   "cell_type": "code",
   "execution_count": null,
   "metadata": {},
   "outputs": [],
   "source": [
    "a, b = np.meshgrid(...)\n",
    "c = ...  # Usa vec_cuenta_mcd y convierte el resultado a tipo entero\n",
    "\n",
    "respuesta_2_12 = (a, b, c)  # No cambies esta línea"
   ]
  },
  {
   "cell_type": "markdown",
   "metadata": {},
   "source": [
    "## 3. Uso de Matplotlib"
   ]
  },
  {
   "cell_type": "markdown",
   "metadata": {},
   "source": [
    "#### Ejercicio 3.1"
   ]
  },
  {
   "cell_type": "markdown",
   "metadata": {},
   "source": [
    "Utiliza la función `plot` de Matplotlib para dibujar una letra \"M\" que se\n",
    "ajusta al área $[0, 2] \\times [0, 2]$.\n",
    "La letra \"M\" debe estar formada por una línea quebrada de 5 vértices comenzando\n",
    "en el extremo inferior izquierdo y terminando en el extremo inferior derecho.\n",
    "Utiliza sólo números enteros en las coordenadas de los vértices."
   ]
  },
  {
   "cell_type": "code",
   "execution_count": null,
   "metadata": {},
   "outputs": [],
   "source": [
    "x = ...\n",
    "y = ...\n",
    "\n",
    "plt.plot(...)\n",
    "\n",
    "respuesta_3_1 = plt.gcf(), plt.gca()  # No cambies esta línea"
   ]
  },
  {
   "cell_type": "markdown",
   "metadata": {},
   "source": [
    "### Ejercicio 3.2"
   ]
  },
  {
   "cell_type": "markdown",
   "metadata": {},
   "source": [
    "Grafica la función del ejercicio 2.9 en el intervalo $[-1, 1]$.\n",
    "\n",
    "- Etiqueta a la línea con la fórmla $y = x\\,\\sin\\left(\\frac{1}{x}\\right) - 1$.\n",
    "- Cambia el color de la línea a \"goldenrod\" y el grosor a 5.\n",
    "- Cambia el color de fondo a negro (usa `ax.set_facecolor`).\n",
    "- Cambia el título del eje a *Batman*"
   ]
  },
  {
   "cell_type": "code",
   "execution_count": null,
   "metadata": {},
   "outputs": [],
   "source": [
    "x, y = respuesta_2_8, respuesta_2_9\n",
    "\n",
    "fig, ax = ...\n",
    "...  # Rellena todas las líneas que hagan falta\n",
    "\n",
    "respuesta_3_2 = fig, ax"
   ]
  },
  {
   "cell_type": "markdown",
   "metadata": {},
   "source": [
    "### Ejercicio 3.3"
   ]
  },
  {
   "cell_type": "markdown",
   "metadata": {},
   "source": [
    "Grafica la función del ejercicio 2.12.\n",
    "\n",
    "- Utiliza el mapa de colores \"cooper\".\n",
    "- Remueve los ejes para que estos no sean visibles."
   ]
  },
  {
   "cell_type": "code",
   "execution_count": null,
   "metadata": {},
   "outputs": [],
   "source": [
    "arr = respuesta_2_12[2]\n",
    "\n",
    "fig, ax = ...\n",
    "...  # Rellena todas las líneas que hagan falta\n",
    "\n",
    "respuesta_3_3 = fig, ax  # No cambies esta línea"
   ]
  },
  {
   "cell_type": "markdown",
   "metadata": {},
   "source": [
    "## Evaluación"
   ]
  },
  {
   "cell_type": "markdown",
   "metadata": {},
   "source": [
    "Las pruebas unitarias son pequeños programas que verifican la corrección de tu\n",
    "código mediante la comparación del resultado de tu programa con un valor\n",
    "esperado.\n",
    "A continuación he preparado varias pruebas unitarias para que puedas verificar\n",
    "por ti mismo si tus respuestas son correctas."
   ]
  },
  {
   "cell_type": "code",
   "execution_count": null,
   "metadata": {},
   "outputs": [],
   "source": [
    "class TestTarea(unittest.TestCase):\n",
    "    \"\"\"Evaluación de la tarea.\"\"\"\n",
    "\n",
    "    def test_respuesta_1_1(self):\n",
    "        \"\"\"Verificando la respuesta 1-1\"\"\"\n",
    "        self.assertIsInstance(\n",
    "            respuesta_1_1, str, \"La respuesta debería ser una cadena.\"\n",
    "        )\n",
    "        self.assertFalse(\n",
    "            respuesta_1_1.startswith(\"http\"),\n",
    "            \"La respuesta no debe contener el protocolo.\",\n",
    "        )\n",
    "        self.assertFalse(\n",
    "            respuesta_1_1.endswith(\"/\"),\n",
    "            \"La respuesta no debe terminar con una diagonal.\",\n",
    "        )\n",
    "        self.assertEqual(\n",
    "            hashlib.sha256((respuesta_1_1 + \"salt\").encode(\"utf8\")).hexdigest(),\n",
    "            \"f5e2589d3b27b3d66758277bb44f74188b077fd9f37b4582a983d517edd3fbe9\",\n",
    "            \"La respuesta no es correcta.\",\n",
    "        )\n",
    "\n",
    "    def test_respuesta_1_2(self):\n",
    "        \"\"\"Verificando la respuesta 1-2\"\"\"\n",
    "        self.assertIsInstance(\n",
    "            respuesta_1_2, str, \"La respuesta debería ser una cadena.\"\n",
    "        )\n",
    "        self.assertEqual(\n",
    "            hashlib.sha256((respuesta_1_2 + \"salt\").encode(\"utf8\")).hexdigest(),\n",
    "            \"b3da46755d8dca0e11bf32a1feaff3f41f536d87e2471337395a6e7e350d98f6\",\n",
    "            \"La respuesta no es correcta.\",\n",
    "        )\n",
    "\n",
    "    def test_respuesta_1_3(self):\n",
    "        \"\"\"Verificando la respuesta 1-3\"\"\"\n",
    "        self.assertIsInstance(\n",
    "            respuesta_1_3, dict, \"La respuesta debería ser un diccionario.\"\n",
    "        )\n",
    "        for v in respuesta_1_3.values():\n",
    "            self.assertIsInstance(\n",
    "                v, str, \"Los valores del diccionario deberían ser cadenas de texto.\"\n",
    "            )\n",
    "        clave = \"\".join(respuesta_1_3[k] for k in sorted(respuesta_1_3.keys()))\n",
    "        self.assertEqual(\n",
    "            \"\".join(sorted(clave)),\n",
    "            \"abcdef\",\n",
    "            'Las respuestas deben ser una permutación de \"a\", \"b\", \"c\", \"d\", \"e\" y \"f\"',\n",
    "        )\n",
    "        self.assertEqual(\n",
    "            hashlib.sha256((clave + \"salt\").encode(\"utf8\")).hexdigest(),\n",
    "            \"d01e5978e5b30998a4f3df922770738264d5734cf69014a39d33a1532522a508\",\n",
    "            \"La respuesta no es correcta.\",\n",
    "        )\n",
    "\n",
    "    def test_respuesta_1_4(self):\n",
    "        \"\"\"Verificando la respuesta 1-4\"\"\"\n",
    "        self.assertIsInstance(\n",
    "            respuesta_1_4, str, \"La respuesta debería ser una cadena.\"\n",
    "        )\n",
    "        self.assertTrue(\n",
    "            respuesta_1_4.startswith(\"%\"),\n",
    "            \"La respuesta debería ser un comando mágico de Jupyter.\",\n",
    "        )\n",
    "        self.assertEqual(\n",
    "            hashlib.sha256((respuesta_1_4 + \"salt\").encode(\"utf8\")).hexdigest(),\n",
    "            \"589887ce2383827732bde7abe1ce751680cc0087cdce9a79fcdcbe9f68be0d03\",\n",
    "            \"La respuesta no es correcta.\",\n",
    "        )\n",
    "\n",
    "    def test_respuesta_2_01(self):\n",
    "        \"\"\"Verificando la respuesta 2-1\"\"\"\n",
    "        self.assertIsInstance(\n",
    "            respuesta_2_1,\n",
    "            np.ndarray,\n",
    "            \"La respuesta debería ser un arreglo de NumPy. \"\n",
    "            f\"Se obtuvo {type(respuesta_2_1)}.\",\n",
    "        )\n",
    "        self.assertIs(\n",
    "            respuesta_2_1.dtype.type,\n",
    "            np.int_,\n",
    "            f\"El arreglo debería contener enteros. Se obtuvo {respuesta_2_1.dtype}.\",\n",
    "        )\n",
    "        self.assertEqual(\n",
    "            respuesta_2_1.shape,\n",
    "            (4, 3),\n",
    "            \"El arreglo debería tener forma (4, 3). \"\n",
    "            f\"Se obtuvo {respuesta_2_1.shape}.\",\n",
    "        )\n",
    "        repr_ = repr(respuesta_2_1.tolist())\n",
    "        self.assertEqual(\n",
    "            hashlib.sha256((repr_ + \"salt\").encode(\"utf8\")).hexdigest(),\n",
    "            \"7984aae256ef94234c416c52936374de1e2966c8f44aad4013efb63ab52a9dcb\",\n",
    "        )\n",
    "\n",
    "    def test_respuesta_2_02(self):\n",
    "        \"\"\"Verificando la respuesta 2-2\"\"\"\n",
    "        self.assertIsInstance(\n",
    "            respuesta_2_2,\n",
    "            tuple,\n",
    "            f\"La respuesta debería ser una tupla. Se obtuvo {type(respuesta_2_2)}.\",\n",
    "        )\n",
    "        self.assertEqual(\n",
    "            len(respuesta_2_2),\n",
    "            2,\n",
    "            \"La respuesta debería tener dos elementos.\"\n",
    "            f\"Se obtuvo {len(respuesta_2_2)}.\",\n",
    "        )\n",
    "        self.assertEqual(bytes(respuesta_2_2), b\"\\x04\\x03\")\n",
    "\n",
    "    def test_respuesta_2_03(self):\n",
    "        \"\"\"Verificando la respuesta 2-3\"\"\"\n",
    "        self.assertIsInstance(\n",
    "            respuesta_2_3,\n",
    "            int,\n",
    "            f\"La respuesta debería ser un entero. Se obtuvo {type(respuesta_2_3)}.\",\n",
    "        )\n",
    "        self.assertEqual(bytes([respuesta_2_3]), b\"`\", \"La respuesta no es correcta.\")\n",
    "\n",
    "    def test_respuesta_2_04(self):\n",
    "        \"\"\"Verificando la respuesta 2-4\"\"\"\n",
    "        self.assertIsInstance(\n",
    "            respuesta_2_4,\n",
    "            np.dtype,\n",
    "            \"La respuesta debería ser un tipo de dato de NumPy. \"\n",
    "            f\"Se obtuvo {type(respuesta_2_4)}.\",\n",
    "        )\n",
    "        self.assertEqual(respuesta_2_4.name, \"int64\", \"El tipo de dato no es correcto.\")\n",
    "\n",
    "    def test_respuesta_2_05(self):\n",
    "        \"\"\"Verificando la respuesta 2-5\"\"\"\n",
    "        self.assertIsInstance(\n",
    "            respuesta_2_5,\n",
    "            np.int64,\n",
    "            \"La respuesta no tiene el tipo correcto, ¿quizás \"\n",
    "            \"escribiste la respuesta a mano en lugar de usar NumPy?\",\n",
    "        )\n",
    "        self.assertEqual(respuesta_2_5, 17, \"La respuesta no es correcta.\")\n",
    "\n",
    "    def test_respuesta_2_06(self):\n",
    "        \"\"\"Verificando la respuesta 2-6\"\"\"\n",
    "        self.assertIsInstance(\n",
    "            respuesta_2_6,\n",
    "            np.ndarray,\n",
    "            \"La respuesta no tiene el tipo correcto, ¿quizás \"\n",
    "            \"escribiste la respuesta a mano en lugar de usar NumPy?\",\n",
    "        )\n",
    "        self.assertEqual(\n",
    "            respuesta_2_6.shape, (3,), \"La forma del arreglo no es correcta.\"\n",
    "        )\n",
    "        self.assertEqual(\n",
    "            bytes(respuesta_2_6.tolist()),\n",
    "            b\"\\x11\\x13\\x17\",\n",
    "            \"La respuesta no es correcta.\",\n",
    "        )\n",
    "\n",
    "    def test_respuesta_2_07(self):\n",
    "        \"\"\"Verificando la respuesta 2-7\"\"\"\n",
    "        self.assertIsInstance(\n",
    "            respuesta_2_7,\n",
    "            np.ndarray,\n",
    "            \"La respuesta no tiene el tipo correcto, ¿quizás \"\n",
    "            \"escribiste la respuesta a mano en lugar de usar NumPy?\",\n",
    "        )\n",
    "        self.assertEqual(\n",
    "            respuesta_2_7.shape, (4,), \"La forma del arreglo no es correcta.\"\n",
    "        )\n",
    "        self.assertEqual(\n",
    "            bytes(respuesta_2_7.tolist()),\n",
    "            b\"\\x03\\x0b\\x13\\x1f\",\n",
    "            \"La respuesta no es correcta.\",\n",
    "        )\n",
    "\n",
    "    def test_respuesta_2_08(self):\n",
    "        \"\"\"Verificando la respuesta 2-8\"\"\"\n",
    "        self.assertIsInstance(\n",
    "            respuesta_2_8,\n",
    "            np.ndarray,\n",
    "            f\"Se esperaba un arreglo de NumPy. Se obtuvo {type(respuesta_2_8)}.\",\n",
    "        )\n",
    "        self.assertEqual(\n",
    "            respuesta_2_8.shape,\n",
    "            (50,),\n",
    "            f\"Se esperaba un arreglo de forma (50,). Se obtuvo {respuesta_2_8.shape}.\",\n",
    "        )\n",
    "        self.assertTrue(\n",
    "            np.isclose(np.diff(respuesta_2_8), 2 / 49).all(),\n",
    "            \"Los valores no están a la distancia esperada.\",\n",
    "        )\n",
    "        self.assertEqual(\n",
    "            respuesta_2_8[[0, -1]].tolist(), [-1.0, 1.0],\n",
    "            \"El rango del arreglo no es correcto.\"\n",
    "        )\n",
    "\n",
    "    def test_respuesta_2_09(self):\n",
    "        \"\"\"Verificando la respuesta 2-9\"\"\"\n",
    "        self.assertIsInstance(\n",
    "            respuesta_2_9,\n",
    "            np.ndarray,\n",
    "            f\"Se esperaba un arreglo de NumPy. Se obtuvo {type(respuesta_2_9)}.\",\n",
    "        )\n",
    "        self.assertEqual(\n",
    "            respuesta_2_9.shape,\n",
    "            (50,),\n",
    "            f\"Se esperaba un arreglo de forma (50,). Se obtuvo {respuesta_2_9.shape}.\",\n",
    "        )\n",
    "        repr_ = repr(np.round(respuesta_2_9, 3).tolist())\n",
    "        self.assertEqual(\n",
    "            hashlib.sha256(repr_.encode(\"utf8\")).hexdigest(),\n",
    "            \"2161efbb8161dd140fbdd5165e4ad37ec9e06d22998b9ff7cbc0c32ec634bdb2\",\n",
    "        )\n",
    "\n",
    "    def test_respuesta_2_10(self):\n",
    "        \"\"\"Verificando la respuesta 2-10\"\"\"\n",
    "        self.assertTrue(\n",
    "            callable(respuesta_2_10), \"La respuesta debería ser una función.\"\n",
    "        )\n",
    "        instancias = {\n",
    "            (815, 400): 4,\n",
    "            (296, 481): 6,\n",
    "            (303, 536): 6,\n",
    "            (624, 892): 5,\n",
    "            (250, 524): 6,\n",
    "            (954, 561): 6,\n",
    "            (650, 789): 7,\n",
    "            (281, 109): 8,\n",
    "            (980, 944): 4,\n",
    "            (295, 713): 7,\n",
    "        }\n",
    "        for args, cuenta in instancias.items():\n",
    "            with self.subTest(args=args):\n",
    "                self.assertEqual(\n",
    "                    respuesta_2_10(*args),\n",
    "                    cuenta,\n",
    "                    f\"El resultado no es correcto para la entrada {args}.\",\n",
    "                )\n",
    "\n",
    "    def test_respuesta_2_11(self):\n",
    "        \"\"\"Verificando la respuesta 2-11\"\"\"\n",
    "        self.assertIsInstance(\n",
    "            respuesta_2_11,\n",
    "            np.ufunc,\n",
    "            \"La respuesta debería ser una función universal de NumPy.\",\n",
    "        )\n",
    "        self.assertEqual(\n",
    "            respuesta_2_11.nin,\n",
    "            2,\n",
    "            \"La función debería recibir dos argumentos.\",\n",
    "        )\n",
    "        self.assertEqual(\n",
    "            respuesta_2_11.nout,\n",
    "            1,\n",
    "            \"La función debería regresar un solo valor.\",\n",
    "        )\n",
    "        a = np.array([815, 296, 303, 624, 250, 954, 650, 281, 980, 295])\n",
    "        b = np.array([400, 481, 536, 892, 524, 561, 789, 109, 944, 713])\n",
    "        c = np.array([4, 6, 6, 5, 6, 6, 7, 8, 4, 7])\n",
    "        self.assertTrue(\n",
    "            (respuesta_2_11(a, b) == c).all(),\n",
    "            \"La función no regresa los valores esperados.\",\n",
    "        )\n",
    "\n",
    "    def test_respuesta_2_12(self):\n",
    "        \"\"\"Verificando la respuesta 2-12\"\"\"\n",
    "        self.assertIsInstance(\n",
    "            respuesta_2_12,\n",
    "            tuple,\n",
    "            \"La respuesta debería ser una tupla.\",\n",
    "        )\n",
    "        self.assertEqual(\n",
    "            len(respuesta_2_12),\n",
    "            3,\n",
    "            \"La respuesta debería tener tres elementos.\",\n",
    "        )\n",
    "        for i in range(3):\n",
    "            self.assertIsInstance(\n",
    "                respuesta_2_12[i],\n",
    "                np.ndarray,\n",
    "                f\"El elemento {i} de la respuesta debería ser un arreglo de NumPy.\",\n",
    "            )\n",
    "            self.assertEqual(\n",
    "                respuesta_2_12[i].shape,\n",
    "                (100, 100),\n",
    "                \"La forma del arreglo {i} no es correcta.\",\n",
    "            )\n",
    "            self.assertIs(\n",
    "                respuesta_2_12[i].dtype.type,\n",
    "                np.int_,\n",
    "                \"Los arreglos deberían contener enteros.\"\n",
    "                \"¿Quizás se te olvidó convertir la salida de tu función a entero?\",\n",
    "            )\n",
    "        a, b, c = respuesta_2_12\n",
    "        self.assertTrue(\n",
    "            all(a[i, :].tolist() == list(range(100)) for i in range(100)),\n",
    "            \"El arreglo a no tiene los valores esperados.\",\n",
    "        )\n",
    "        self.assertTrue(\n",
    "            all(b[:, j].tolist() == list(range(100)) for j in range(100)),\n",
    "            \"El arreglo b no tiene los valores esperados.\",\n",
    "        )\n",
    "        c_repr = repr(c.tolist()).encode(\"utf8\")\n",
    "        self.assertEqual(\n",
    "            hashlib.sha256(c_repr).hexdigest(),\n",
    "            \"39701bd6629744e60e1ea1aa41a17171e901f56e781d3c7e23671069397f1c54\",\n",
    "            \"El arreglo c no tiene los valores esperados.\",\n",
    "        )\n",
    "\n",
    "    def test_respuesta_3_1(self):\n",
    "        \"\"\"Verificando la respuesta 3-1\"\"\"\n",
    "        fig, ax = respuesta_3_1\n",
    "        lineas = ax.get_lines()\n",
    "        self.assertEqual(\n",
    "            len(lineas),\n",
    "            1,\n",
    "            \"Se esperaba que el gráfico tuviera una sola línea.\",\n",
    "        )\n",
    "        x = lineas[0].get_xdata().tolist()\n",
    "        y = lineas[0].get_ydata().tolist()\n",
    "        self.assertEqual(\n",
    "            len(x),\n",
    "            5,\n",
    "            \"La línea trazada debería tener cinco vértices.\",\n",
    "        )\n",
    "        self.assertTrue(\n",
    "            all(isinstance(v, int) for v in x) and all(isinstance(v, int) for v in y),\n",
    "            \"Los vértices de la línea deberían tener coordenadas enteras.\",\n",
    "        )\n",
    "        repr_ = repr([x, y]).encode(\"utf-8\")\n",
    "        self.assertEqual(\n",
    "            hashlib.sha256(repr_).hexdigest(),\n",
    "            \"99039f87715cbde21cecf2201372c73d0fe683c93deb2691ae51dbcea44ca000\",\n",
    "            \"La línea trazada no es la esperada.\",\n",
    "        )\n",
    "\n",
    "    def test_respuesta_3_2(self):\n",
    "        \"\"\"Verificando la respuesta 3-2\"\"\"\n",
    "        fig, ax = respuesta_3_2\n",
    "        lineas = ax.get_lines()\n",
    "        self.assertEqual(\n",
    "            len(lineas),\n",
    "            1,\n",
    "            \"Se esperaba que el gráfico tuviera una sola línea.\",\n",
    "        )\n",
    "        linea = lineas[0]\n",
    "        x = linea.get_xdata().tolist()\n",
    "        y = linea.get_ydata().tolist()\n",
    "        self.assertEqual(\n",
    "            linea.get_color(),\n",
    "            \"goldenrod\",\n",
    "            \"El color de la línea no es el esperado.\",\n",
    "        )\n",
    "        self.assertEqual(\n",
    "            linea.get_linewidth(),\n",
    "            5,\n",
    "            \"El ancho de la línea no es el esperado.\",\n",
    "        )\n",
    "        self.assertEqual(\n",
    "            linea.get_label(),\n",
    "            r\"$x \\sin\\left(\\frac{1}{x}\\right) - 1$\",\n",
    "            \"La etiqueta de la línea no es la esperada.\",\n",
    "        )\n",
    "        self.assertEqual(\n",
    "            ax.get_facecolor(),\n",
    "            (0.0, 0.0, 0.0, 1.0),  # Equivalente a \"black\"\n",
    "            \"El fondo del eje no es el esperado.\",\n",
    "        )\n",
    "        self.assertEqual(\n",
    "            ax.get_title(),\n",
    "            \"Batman\",\n",
    "            \"El título del eje no es el esperado.\",\n",
    "        )\n",
    "\n",
    "    def test_respuesta_3_3(self):\n",
    "        \"\"\"Verificando la respuesta 3-3\"\"\"\n",
    "        fig, ax = respuesta_3_3\n",
    "        self.assertEqual(\n",
    "            len(ax.images),\n",
    "            1,\n",
    "            \"Se esperaba que el eje tuviera una sola imagen.\",\n",
    "        )\n",
    "        imagen = ax.images[0]\n",
    "        self.assertEqual(\n",
    "            imagen.get_cmap().name,\n",
    "            \"copper\",\n",
    "            \"El mapa de color de la imagen no es el esperado.\",\n",
    "        )\n",
    "        self.assertFalse(\n",
    "            ax.axison,\n",
    "            \"Los ejes deberían estar apagados.\",\n",
    "        )"
   ]
  },
  {
   "cell_type": "markdown",
   "metadata": {},
   "source": [
    "Para iniciar las pruebas, ejecuta la celda siguiente.\n",
    "\n",
    "- Si alguna de las respuestas es incorrecta, la celda te imprimirá un mensaje de\n",
    "  `FAIL` (falla), junto con una explicación de cuál es el error.\n",
    "- Si la celda produce un `ERROR`, significa que tu código produce un error al\n",
    "  ejecutarse.\n",
    "  Esto es diferente de una falla (*fail*), ya que en este caso tu código no\n",
    "  produce ningún resultado, ya sea correcto o incorrecto.\n",
    "  Si obtienes un error, deberás leer el mensaje de error para corregir tu\n",
    "  respuesta, y quizás sea buena idea usar el comando mágico `%debug` para\n",
    "  investigar qué salió mal.\n",
    "- Por defecto, la celda está configurada para ejecutar todas las pruebas\n",
    "  unitarias.\n",
    "  Si quieres ejecutar solamente una prueba unitaria, cambia el parámetro\n",
    "  `defaultTest` al nombre de la prueba que quieres ejecutar.\n",
    "  Por ejemplo, si quieres ejecutar solamente la prueba unitaria del ejercicio\n",
    "  1.1, el valor de `defaultTest` debería ser `\"TestTarea.test_respuesta_1_1\"`\n",
    "  (entre comillas).\n",
    "- He ajustado el parámetro `verbosity` a 2, lo que significa que la celda te\n",
    "  indicará qué prueba se está ejecutando en cada momento.\n",
    "  Si no quieres ver tantos mensajes, puedes cambiar el valor a 1 para ver\n",
    "  solamente las pruebas que fallaron."
   ]
  },
  {
   "cell_type": "code",
   "execution_count": null,
   "metadata": {},
   "outputs": [],
   "source": [
    "if __name__ == \"__main__\":\n",
    "    unittest.main(argv=[\"\"], defaultTest=\"TestTarea\", verbosity=2, exit=False)"
   ]
  },
  {
   "cell_type": "markdown",
   "metadata": {},
   "source": [
    "## Puntos extras"
   ]
  },
  {
   "cell_type": "markdown",
   "metadata": {},
   "source": [
    "Mira [este video][mccandless] acerca de la visualización de datos y escribe un\n",
    "pequeño ensayo de ~500 palabras que aborde las siguientes preguntas:\n",
    "\n",
    "[mccandless]: https://www.ted.com/talks/david_mccandless_the_beauty_of_data_visualization?subtitle=es\n",
    "\n",
    "\n",
    "1. ¿Cuál crees que es el problema más frecuente y/o problemático de los que\n",
    "   menciona el ponente?\n",
    "2. ¿Es verdad que “*ahora todos somos visualizadores; todos exigimos un aspecto\n",
    "   visual a nuestra información*”?\n",
    "3. ¿Qué opinas de la simplificación de la información que propone McCandless?\n",
    "   ¿Es siempre una buena idea simplificar la información?\n",
    "4. ¿Qué opinas de la visualización de datos como una forma de arte?"
   ]
  },
  {
   "cell_type": "markdown",
   "metadata": {},
   "source": [
    "**Respuesta**:"
   ]
  }
 ],
 "metadata": {
  "kernelspec": {
   "display_name": ".venv",
   "language": "python",
   "name": "python3"
  },
  "language_info": {
   "codemirror_mode": {
    "name": "ipython",
    "version": 3
   },
   "file_extension": ".py",
   "mimetype": "text/x-python",
   "name": "python",
   "nbconvert_exporter": "python",
   "pygments_lexer": "ipython3",
   "version": "3.11.6"
  }
 },
 "nbformat": 4,
 "nbformat_minor": 2
}
