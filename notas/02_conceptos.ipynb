{
 "cells": [
  {
   "cell_type": "code",
   "execution_count": null,
   "metadata": {},
   "outputs": [],
   "source": [
    "from pathlib import Path\n",
    "import time\n",
    "from random import Random\n",
    "\n",
    "import IPython.display as display\n",
    "import ipywidgets as widgets\n",
    "import matplotlib.pyplot as plt\n",
    "import numpy as np\n",
    "from matplotlib import animation\n",
    "\n",
    "from materiales import describir_imagen, descargar_sipi"
   ]
  },
  {
   "cell_type": "code",
   "execution_count": null,
   "metadata": {},
   "outputs": [],
   "source": [
    "random = Random(42)  # Para reproducibilidad; cambiar para obtener distintos resultados"
   ]
  },
  {
   "cell_type": "markdown",
   "metadata": {},
   "source": [
    "# Introducción al procesamiento de imágenes"
   ]
  },
  {
   "cell_type": "markdown",
   "metadata": {},
   "source": [
    "## 1. Imágenes digitales y su representación"
   ]
  },
  {
   "cell_type": "markdown",
   "metadata": {},
   "source": [
    "Una imagen digital es una representación bidimensional de una escena visual.\n",
    "Existen dos tipos de representaciones digitales de imágenes: **raster** y\n",
    "**vectorial**.\n",
    "\n",
    "- **Raster**: Las imágenes raster son representadas como una matriz de píxeles.\n",
    "  Cada píxel tiene un valor que representa el color de la imagen en esa\n",
    "  posición. Las imágenes raster son las más comunes en aplicaciones de\n",
    "  procesamiento de imágenes.\n",
    "\n",
    "- **Vectorial**: Las imágenes vectoriales son representadas como una colección\n",
    "  de objetos geométricos, como líneas, círculos y polígonos. Las imágenes\n",
    "  vectoriales son comúnmente usadas en aplicaciones de diseño gráfico."
   ]
  },
  {
   "cell_type": "markdown",
   "metadata": {},
   "source": [
    "### 1.1 Los modelos de color"
   ]
  },
  {
   "cell_type": "markdown",
   "metadata": {},
   "source": [
    "El modelo de color es un método para representar colores en una imagen.\n",
    "Cuando haces zoom a un monitor de computadora, verás que la imagen está\n",
    "compuesta por pequeños puntos de colores; a su vez, cada uno de estos puntos\n",
    "está compuesto por tres diodos emisores de luz (LED) de color rojo, verde y\n",
    "azul, que son los colores primarios de la luz (o *additivos*).\n",
    "A este modelo de color se le conoce como **RGB** (por sus siglas en inglés:\n",
    "*Red*, *Green* y *Blue*).\n",
    "\n",
    "<figure>\n",
    "    <img src=\"img/monitor.jpg\"\n",
    "         alt=\"Zoom a monitor de computadora.\">\n",
    "    <figcaption>\n",
    "    <strong>Figura 1.</strong> Zoom al monitor de la computadora del autor.\n",
    "    La imagen muestra la punta del cursor.\n",
    "    </figcaption>\n",
    "</figure>\n",
    "\n",
    "En el modelo RGB, cada color es una tríada de números $(r, g, b)$, donde $r$,\n",
    "$g$ y $b$ son los valores de intensidad de los colores rojo, verde y azul \n",
    "respectivamente.\n",
    "Entre más alto sea el valor de un color, más brillante e intenso será en la\n",
    "imagen.\n",
    "Estos valores usualmente ocupan 1 byte cada uno, por lo que pueden tomar\n",
    "valores entre 0 y 255.\n",
    "Así, por ejemplo, el rojo puro se representa como $(255, 0, 0)$, el gris\n",
    "medio como $(128, 128, 128)$ y el blanco como $(255, 255, 255)$.\n",
    "En los sitios web, los colores se representan en hexadecimal con RGB, de manera\n",
    "que ocupan 6 dígitos hexadecimales, dos para cada componente; por ejemplo, el\n",
    "rojo `#FF0000`, el gris medio `#808080` y el blanco `#FFFFFF`."
   ]
  },
  {
   "cell_type": "markdown",
   "metadata": {},
   "source": [
    "A continuación mostramos un widget de selección de color que nos permite\n",
    "explorar el modelo RGB y otros modelos más."
   ]
  },
  {
   "cell_type": "code",
   "execution_count": null,
   "metadata": {},
   "outputs": [],
   "source": [
    "# NOTA: Necesitas correr este notebook interactivamente para ver el widget.\n",
    "widgets.ColorPicker()"
   ]
  },
  {
   "cell_type": "markdown",
   "metadata": {},
   "source": [
    "Si haces clic en el las flechas a la derecha de \"RGB\", podrás seleccionar\n",
    "el modelo *HSL*.\n",
    "Este modelo representa los colores como una tríada de números $(h, s, l)$,\n",
    "donde\n",
    "- $h$ es un ángulo ($0^\\circ$ a $360^\\circ$) que representa el tono del\n",
    "  color (los colores están organizados en un disco arcoíris),\n",
    "- $s$ es la saturación o pureza del color (0% a 100%), y\n",
    "- $l$ es la luminosidad (la cantidad de luz que refleja el color)."
   ]
  },
  {
   "cell_type": "markdown",
   "metadata": {},
   "source": [
    "<figure>\n",
    "    <img src=\"https://upload.wikimedia.org/wikipedia/commons/1/13/Color_solid_comparison_hsl_hsv_rgb_cone_sphere_cube_cylinder.png\"\n",
    "         alt=\"Modelos de color RGB, HSL y HSV.\"\n",
    "         style=\"height: 400px;\">\n",
    "    <figcaption><strong>Figura 2.</strong>\n",
    "    Modelos de color RGB, HSL y HSV. Imagen de <a href=\"https://commons.wikimedia.org/wiki/File:Color_solid_comparison_hsl_hsv_rgb_cone_sphere_cube_cylinder.png\">SharkD</a>, <a href=\"https://creativecommons.org/licenses/by-sa/3.0\">CC BY-SA 3.0</a>, via Wikimedia Commons.\n",
    "    </figcaption>\n",
    "</figure>"
   ]
  },
  {
   "cell_type": "markdown",
   "metadata": {},
   "source": [
    "### 1.2 Imágenes vectoriales"
   ]
  },
  {
   "cell_type": "markdown",
   "metadata": {},
   "source": [
    "Dado que casi todo el procesamiento de imágenes se realiza sobre imágenes\n",
    "raster, no se profundizará en las imágenes vectoriales.\n",
    "Sin embargo, es importante mencionar que las imágenes vectoriales tienen\n",
    "ventajas sobre las imágenes raster, como la escalabilidad y la facilidad para\n",
    "realizar modificaciones.\n",
    "En la web es común encontrar imágenes vectoriales en el formato estándar **SVG**\n",
    "(*Scalable Vector Graphics*), basado en XML.\n",
    "\n",
    "Por ejemplo, el siguiente código crea un pino con tres triángulos y un\n",
    "rectángulo.\n",
    "Nótese el uso de colores en el atributo `fill` y el uso de coordenadas\n",
    "relativas al centro del lienzo en el atributo `viewBox`.\n",
    "\n",
    "```xml\n",
    "<svg width=\"200\" height=\"300\" viewBox=\"-100 -100 200 200\">\n",
    "  <polygon points=\"0,0 80,120 -80,120\" fill=\"#234236\" />\n",
    "  <polygon points=\"0,-40 60,60 -60,60\" fill=\"#0C5C4C\" />\n",
    "  <polygon points=\"0,-80 40,0 -40,0\" fill=\"#38755B\" />\n",
    "  <rect x=\"-20\" y=\"120\" width=\"40\" height=\"30\" fill=\"brown\" />\n",
    "</svg>\n",
    "```\n",
    "\n",
    "<svg width=\"200\" height=\"300\" viewBox=\"-100 -100 200 200\">\n",
    "  <polygon points=\"0,0 80,120 -80,120\" fill=\"#234236\" />\n",
    "  <polygon points=\"0,-40 60,60 -60,60\" fill=\"#0C5C4C\" />\n",
    "  <polygon points=\"0,-80 40,0 -40,0\" fill=\"#38755B\" />\n",
    "  <rect x=\"-20\" y=\"120\" width=\"40\" height=\"30\" fill=\"brown\" />\n",
    "</svg>\n",
    "\n",
    "En [este enlace](https://youtu.be/kBT90nwUb_o) puedes ver un video tutorial\n",
    "sobre cómo crear imágenes vectoriales en SVG usando el editor de código.\n",
    "En la práctica, es más común usar un editor gráfico como\n",
    "[Inkscape](https://inkscape.org/), con el que puedes crear imágenes vectoriales\n",
    "[bastante complejas](https://youtu.be/1U4hVbvRr_g).\n",
    "Estoy seguro de que encontrarás útil aprender a usar Inkscape, ya que es un\n",
    "programa de código abierto que te permitirá ilustrar tus proyectos de\n",
    "investigación, presentaciones y publicaciones."
   ]
  },
  {
   "cell_type": "markdown",
   "metadata": {},
   "source": [
    "### 1.3 Modelo Raster: La matriz de píxeles como imagen"
   ]
  },
  {
   "cell_type": "markdown",
   "metadata": {},
   "source": [
    "Vamos a dibujar en un lienzo de $96 \\times 96$ píxeles la gráfica de la\n",
    "función\n",
    "$$f(x, y) = (1 - x/2 + x^5 + y^3) \\exp(-x^2 - y^2).$$\n",
    "En los intervalos $x \\in [-3, 3]$ e $y \\in [-3, 3]$."
   ]
  },
  {
   "cell_type": "code",
   "execution_count": null,
   "metadata": {},
   "outputs": [],
   "source": [
    "x, y = np.linspace(-3, 3, 96), np.linspace(-3, 3, 96)\n",
    "x, y = np.meshgrid(x, y)\n",
    "\n",
    "# Calculamos la matriz z como función de x e y\n",
    "z = (1 - x / 2 + x**5 + y**3) * np.exp(-(x**2) - y**2)"
   ]
  },
  {
   "cell_type": "markdown",
   "metadata": {},
   "source": [
    "A continuación mostramos esta matriz usando `imshow` de `matplotlib`."
   ]
  },
  {
   "cell_type": "code",
   "execution_count": null,
   "metadata": {},
   "outputs": [],
   "source": [
    "fig, ax = plt.subplots()\n",
    "\n",
    "# Usa plt.colormaps() para ver una lista de mapas de colores disponibles\n",
    "# además de \"twilight\". Prueba con \"magma\", \"viridis\", etc.\n",
    "im = ax.imshow(z, cmap=\"twilight\", origin=\"lower\", extent=[-3, 3, -3, 3])\n",
    "fig.colorbar(im, ax=ax)"
   ]
  },
  {
   "cell_type": "markdown",
   "metadata": {},
   "source": [
    "Esta gráfica de función ya tiene una representación como imagen digital, sin\n",
    "embargo, las imágenes digitales suelen tener valores enteros entre 0 y 255.\n",
    "En nuestro caso, la imagen tiene un único valor de intensidad para cada píxel,\n",
    "por lo que es una imagen en escala de grises.\n",
    "Para representarla visualmente la reescalaremos a valores enteros entre 0 y 255."
   ]
  },
  {
   "cell_type": "markdown",
   "metadata": {},
   "source": [
    "En general tenemos la siguiente regla de dedo para identificar el tipo de\n",
    "imagen:\n",
    "- Si la imagen es de tipo *bool*, es decir, solo tiene valores 0 o 1, entonces\n",
    "  es una imagen binaria, también llamada *máscara* (como la cinta adhesiva que\n",
    "  usamos para pintar sin manchar).\n",
    "- Si la imagen tiene un solo canal de color, es una imagen en escala de grises.\n",
    "- Si la imagen tiene tres canales de color, es una imagen en color RGB.\n",
    "- Si la imagen tiene cuatro canales de color, es una imagen en color RGBA.\n",
    "- Si la imagen es de tipo *float*, sus valores están en el rango $[0, 1]$,\n",
    "  miebtras que si es de tipo *int*, sus valores están en el rango $[0, 255]$."
   ]
  },
  {
   "cell_type": "code",
   "execution_count": null,
   "metadata": {},
   "outputs": [],
   "source": [
    "# Normalizamos z\n",
    "max_z, min_z = z.max(), z.min()\n",
    "z_norm = (z - min_z) / (max_z - min_z)\n",
    "\n",
    "describir_imagen(z_norm, \"z_norm\")\n",
    "\n",
    "# Renormalizamos al rango [0, 255] en enteros (1 byte por pixel)\n",
    "z_int = (z_norm * 255).astype(np.uint8)\n",
    "\n",
    "fig, ax = plt.subplots()\n",
    "ax.imshow(z_int, cmap=\"gray\", origin=\"lower\", extent=[-3, 3, -3, 3])\n",
    "_ = ax.axis(\"off\")"
   ]
  },
  {
   "cell_type": "code",
   "execution_count": null,
   "metadata": {},
   "outputs": [],
   "source": [
    "# Obtener un mapa de colores\n",
    "nombre_mapa = \"twilight\"\n",
    "cmap = plt.get_cmap(nombre_mapa)\n",
    "\n",
    "# Observamos unos cuantos valores de colores:\n",
    "valores = [0, 0.25, 0.5, 0.75, 1]\n",
    "colores = cmap(valores)\n",
    "\n",
    "print(\n",
    "    f\"El mapa de colores '{nombre_mapa}' es de tipo \"\n",
    "    f\"{type(cmap).__name__} y produce colores RGBA de 0 a 1.\"\n",
    ")\n",
    "\n",
    "for valor, color in zip(valores, colores):\n",
    "    print(f\"{nombre_mapa}({valor})\\t=\\t{color}\")"
   ]
  },
  {
   "cell_type": "code",
   "execution_count": null,
   "metadata": {},
   "outputs": [],
   "source": [
    "z_color = cmap(z_norm)\n",
    "describir_imagen(z_color, \"z_color\")\n",
    "\n",
    "fig, ax = plt.subplots()\n",
    "_ = ax.imshow(z_color, origin=\"lower\", extent=[-3, 3, -3, 3])\n",
    "_ = ax.axis(\"off\")"
   ]
  },
  {
   "cell_type": "code",
   "execution_count": null,
   "metadata": {},
   "outputs": [],
   "source": [
    "# Renormalizar la matriz z para que sus valores estén entre 0 y 255 (enteros de 8 bits)\n",
    "z_int = (z_color[..., :3] * 255 + 0.5).astype(np.uint8)\n",
    "\n",
    "describir_imagen(z_int, \"z_int\")"
   ]
  },
  {
   "cell_type": "markdown",
   "metadata": {},
   "source": [
    "Más adeltante te mostraré cómo guardar esta imagen."
   ]
  },
  {
   "cell_type": "markdown",
   "metadata": {},
   "source": [
    "#### Bases de datos de imágenes"
   ]
  },
  {
   "cell_type": "markdown",
   "metadata": {},
   "source": [
    "En internet puedes encontrar muchas bases de datos de imágenes que puedes usar\n",
    "para tus proyectos de investigación y educación.\n",
    "Existen, sin embargo, algunas restricciones en el uso de estas imágenes.\n",
    "Por ejemplo, algunas bases de datos requieren que se cite la fuente de las\n",
    "imágenes, otras no permiten el uso comercial, y otras requieren que se\n",
    "compartan los resultados de la investigación.\n",
    "\n",
    "El Instituto de Procesamiento de Señales e Imágenes de la Universidad California\n",
    "del Sur (**USC-SIPI**)  ha creado una base de datos de imágenes digitales con\n",
    "el propósito de facilitar la investigación en el área.\n",
    "Se puede acceder a la base de datos en el siguiente enlace:\n",
    "https://sipi.usc.edu/database/"
   ]
  },
  {
   "cell_type": "code",
   "execution_count": null,
   "metadata": {},
   "outputs": [],
   "source": [
    "# Descargamos la base de datos miscelánea de la USC-SIPI\n",
    "descargar_sipi(\"misc\")\n",
    "sipi_dir = Path(\"sipi\")"
   ]
  },
  {
   "cell_type": "code",
   "execution_count": null,
   "metadata": {},
   "outputs": [],
   "source": [
    "archivos = list((sipi_dir /\"misc\").iterdir())\n",
    "print(f\"Hay {len(archivos)} imágenes en la base de datos miscelánea.\")"
   ]
  },
  {
   "cell_type": "code",
   "execution_count": null,
   "metadata": {},
   "outputs": [],
   "source": [
    "archivo_imagen = random.choice(archivos)\n",
    "imagen = plt.imread(archivo_imagen)  # Aquí se lee la imagen\n",
    "describir_imagen(imagen, archivo_imagen.name)\n",
    "\n",
    "# Mostrar la imagen\n",
    "fig, ax = plt.subplots()\n",
    "if imagen.ndim == 3:\n",
    "    img = ax.imshow(imagen)\n",
    "else:\n",
    "    img = ax.imshow(imagen, cmap=\"gray\")\n",
    "_ = ax.axis(\"off\")"
   ]
  },
  {
   "cell_type": "markdown",
   "metadata": {},
   "source": [
    "## 2. Uso de NumPy para el procesamiento de imágenes"
   ]
  },
  {
   "cell_type": "markdown",
   "metadata": {},
   "source": [
    "Scikit-Image es una biblioteca de Python que provee una colección de algoritmos\n",
    "para el procesamiento de imágenes.\n",
    "Es parte del ecosistema de Scipy y es de código abierto.\n",
    "Por el momento nos limitaremos a usar Scikit-Image para cargar y mostrar\n",
    "imágenes, y usaremos NumPy para manipularlas.\n",
    "En la siguiente sección veremos cómo usar Scikit-Image para ajustar las imágenes\n",
    "con poderosos algoritmos de procesamiento de imágenes."
   ]
  },
  {
   "cell_type": "code",
   "execution_count": null,
   "metadata": {},
   "outputs": [],
   "source": [
    "import skimage as ski"
   ]
  },
  {
   "cell_type": "code",
   "execution_count": null,
   "metadata": {},
   "outputs": [],
   "source": [
    "archivo_imagen = sipi_dir / \"misc\" / \"5.2.08.tiff\"\n",
    "\n",
    "# Cargar y mostrar una imagen con Scikit-Image\n",
    "img = ski.io.imread(archivo_imagen)\n",
    "ski.io.imshow(img)"
   ]
  },
  {
   "cell_type": "code",
   "execution_count": null,
   "metadata": {},
   "outputs": [],
   "source": [
    "# Para calcular el negativo de la imagen, restamos cada valor de 255\n",
    "img = ski.io.imread(sipi_dir / \"misc\" / \"5.2.08.tiff\"\n",
    ")\n",
    "img_neg = 255 - img\n",
    "ski.io.imshow(img_neg)"
   ]
  },
  {
   "cell_type": "markdown",
   "metadata": {},
   "source": [
    "### Uso de índices de Numpy en la manipulación de imágenes"
   ]
  },
  {
   "cell_type": "code",
   "execution_count": null,
   "metadata": {},
   "outputs": [],
   "source": [
    "img[140:180, 160:190] = 255  # Colocar un rectángulo blanco en la imagen\n",
    "img[155:200, 280:315] = 255  # ... y otro más\n",
    "ski.io.imshow(img)"
   ]
  },
  {
   "cell_type": "code",
   "execution_count": null,
   "metadata": {},
   "outputs": [],
   "source": [
    "n_renglones = img.shape[0]\n",
    "img[np.arange(n_renglones) % 64 == 0, :] = 0\n",
    "ski.io.imshow(img)"
   ]
  },
  {
   "cell_type": "code",
   "execution_count": null,
   "metadata": {},
   "outputs": [],
   "source": [
    "mascara = img > 128\n",
    "describir_imagen(mascara, \"mascara\")\n",
    "ski.io.imshow(mascara)"
   ]
  },
  {
   "cell_type": "code",
   "execution_count": null,
   "metadata": {},
   "outputs": [],
   "source": [
    "img[img < 85] = 0\n",
    "img[(img >= 85) & (img <= 170)] = 127\n",
    "img[img > 170] = 255\n",
    "ski.io.imshow(img)"
   ]
  },
  {
   "cell_type": "markdown",
   "metadata": {},
   "source": [
    "### Uso básico de NumPy para manipular imágenes a color"
   ]
  },
  {
   "cell_type": "code",
   "execution_count": null,
   "metadata": {},
   "outputs": [],
   "source": [
    "archivo_imagen = sipi_dir / \"misc/4.2.03.tiff\"\n",
    "img = ski.io.imread(archivo_imagen)\n",
    "describir_imagen(img)\n",
    "\n",
    "fig, ax = plt.subplots()\n",
    "ski.io.imshow(img)\n",
    "_ = ax.axis(\"off\")"
   ]
  },
  {
   "cell_type": "code",
   "execution_count": null,
   "metadata": {},
   "outputs": [],
   "source": [
    "img = ski.data.astronaut()\n",
    "# Descomponer la imagen en sus canales de color\n",
    "imgs = (img.copy(), img.copy(), img.copy())\n",
    "for i in range(3):\n",
    "    complemento = [k for k in range(3) if k != i]\n",
    "    imgs[i][:, :, complemento] = 0  # Apagar los otros dos canales\n",
    "\n",
    "fig, ax = plt.subplots(2, 2, figsize=(10, 10))\n",
    "ax[0, 0].imshow(imgs[0])\n",
    "ax[0, 0].set_title(\"Canal rojo\")\n",
    "ax[0, 1].imshow(imgs[1])\n",
    "ax[0, 1].set_title(\"Canal verde\")\n",
    "ax[1, 0].imshow(imgs[2])\n",
    "ax[1, 0].set_title(\"Canal azul\")\n",
    "ax[1, 1].imshow(imgs[0] + imgs[1] + imgs[2])\n",
    "ax[1, 1].set_title(\"Imagen compuesta\")\n",
    "for i, j in np.ndindex(2, 2):\n",
    "    ax[i, j].axis(\"off\")"
   ]
  },
  {
   "cell_type": "markdown",
   "metadata": {},
   "source": [
    "### Ajuste de la saturación de una imagen"
   ]
  },
  {
   "cell_type": "markdown",
   "metadata": {},
   "source": [
    "El modelo HSV es más intuitivo que el modelo RGB, ya que el tono, la saturación\n",
    "y la luminosidad son conceptos más fáciles de entender que la combinación de\n",
    "rojo, verde y azul."
   ]
  },
  {
   "cell_type": "markdown",
   "metadata": {},
   "source": [
    "La siguiente imagen muestra un vestido que se hizo famoso en 2015 por la\n",
    "diferencia de percepción del color entre las personas.\n",
    "El vestido es blanco con dorado, pero debido a que la foto fue tomada a\n",
    "contraluz, algunas personas perciben el vestido como azul y oscuro."
   ]
  },
  {
   "cell_type": "code",
   "execution_count": null,
   "metadata": {},
   "outputs": [],
   "source": [
    "import urllib.request\n",
    "url = \"https://upload.wikimedia.org/wikipedia/en/2/21/The_dress_blueblackwhitegold.jpg\"\n",
    "with urllib.request.urlopen(url) as response:\n",
    "    img = plt.imread(response, format=\"jpeg\")\n",
    "\n",
    "describir_imagen(img, \"El vestido\")\n",
    "\n",
    "aux = ski.color.rgb2hsv(img)  # Convertir la imagen a HSV\n",
    "\n",
    "# Mostar la imagen y su histograma de color\n",
    "fig, ax = plt.subplots(1, 2, figsize=(10, 5))\n",
    "ax[0].imshow(img)\n",
    "ax[0].set_title(\"Imagen original\")\n",
    "ax[0].axis(\"off\")\n",
    "ax[1].hist(aux[:, :, 0].ravel(), bins=50, density=True)\n",
    "ax[1].set_xlabel(\"Tono\")\n",
    "ax[1].set_ylabel(\"Densidad (%)\")\n",
    "ax[1].spines[\"top\"].set_visible(False)\n",
    "ax[1].spines[\"right\"].set_visible(False)\n",
    "ax[1].set_title(\"Histograma de color\")\n",
    "fig.tight_layout()"
   ]
  },
  {
   "cell_type": "markdown",
   "metadata": {},
   "source": [
    "Vale la pena observar que los valores del arreglo de la imagen en formato HSV\n",
    "están normalizados entre 0 y 1, incluyendo el valor del ángulo del tono."
   ]
  },
  {
   "cell_type": "code",
   "execution_count": null,
   "metadata": {},
   "outputs": [],
   "source": [
    "# Saturar la imagen\n",
    "hsv_img = aux.copy()\n",
    "hsv_img[:, :, 1] = 1.0\n",
    "img_saturada = ski.color.hsv2rgb(hsv_img)\n",
    "\n",
    "# Desaturar la imagen\n",
    "hsv_img = aux.copy()\n",
    "hsv_img[:, :, 1] = 0.0\n",
    "img_desaturada = ski.color.hsv2rgb(hsv_img)\n",
    "\n",
    "# Mostrar las imágenes\n",
    "fig, ax = plt.subplots(1, 3)\n",
    "ski.io.imshow(img, ax=ax[0])\n",
    "ax[0].set_title(\"Imagen original\")\n",
    "ski.io.imshow(img_saturada, ax=ax[1])\n",
    "ax[1].set_title(\"Imagen saturada\")\n",
    "ski.io.imshow(img_desaturada, ax=ax[2])\n",
    "ax[2].set_title(\"Imagen desaturada\")\n",
    "for i in range(3):\n",
    "    ax[i].axis(\"off\")  # Ocultar los ejes\n",
    "fig.tight_layout()  # Ajustar el espacio entre las figuras"
   ]
  },
  {
   "cell_type": "markdown",
   "metadata": {},
   "source": [
    "\n",
    "Si ves que en tu grupo no hay consenso sobre el color del vestido, no te\n",
    "preocupes, es normal, sólo recuerda que las discusiones sobre el color del\n",
    "vestido no son tan importantes como las discusiones sobre el procesamiento de\n",
    "imágenes.\n",
    "Si te interesa, esta imagen ilustra la explicación de por qué ocurre este\n",
    "fenómeno:\n",
    "\n",
    "<figure>\n",
    "    <img src=\"https://upload.wikimedia.org/wikipedia/commons/0/09/Wikipe-tan_wearing_The_Dress.svg\"\n",
    "         alt=\"Dos interpretaciones del color de <em>el vestido</em>.\"\n",
    "            style=\"height: 400px;\">\n",
    "    <figcaption><strong>Figura 3.</strong> Dos interpretaciones del color de\n",
    "    <em>el vestido</em>.\n",
    "    <a href=\"https://commons.wikimedia.org/wiki/File:Wikipe-tan_wearing_The_Dress.svg\">\n",
    "    via Wikimedia Commons</a>,\n",
    "    <a href=\"http://creativecommons.org/licenses/by-sa/3.0/\">CC BY-SA 3.0</a>.\n",
    "    </figcaption>\n",
    "</figure>"
   ]
  },
  {
   "cell_type": "markdown",
   "metadata": {},
   "source": [
    "### Ajuste del tono de una imagen"
   ]
  },
  {
   "cell_type": "code",
   "execution_count": null,
   "metadata": {},
   "outputs": [],
   "source": [
    "# Scikit-Image también cuenta con imágenes de prueba como esta:\n",
    "img = ski.data.chelsea()\n",
    "ski.io.imshow(img)\n",
    "_ = plt.gca().axis(\"off\")"
   ]
  },
  {
   "cell_type": "code",
   "execution_count": null,
   "metadata": {},
   "outputs": [],
   "source": [
    "# Seleccionar los puntos con mayor canal rojo\n",
    "mascara = img[:, :, 0] > 160\n",
    "ski.io.imshow(mascara)\n",
    "_ = plt.gca().axis(\"off\")"
   ]
  },
  {
   "cell_type": "code",
   "execution_count": null,
   "metadata": {},
   "outputs": [],
   "source": [
    "# Cambiar el color de los puntos seleccionados a verde\n",
    "img[mascara] = [0, 255, 0]\n",
    "ski.io.imshow(img)\n",
    "_ = plt.gca().axis(\"off\")"
   ]
  },
  {
   "cell_type": "markdown",
   "metadata": {},
   "source": [
    "A continuación veamos cómo cambiar el tono usando el modelo HSV."
   ]
  },
  {
   "cell_type": "code",
   "execution_count": null,
   "metadata": {},
   "outputs": [],
   "source": [
    "img = ski.data.chelsea()\n",
    "img_hsv = ski.color.rgb2hsv(img)\n",
    "\n",
    "# Para cambiar el tono de la imagen, sumamos 0.5 al canal H y tomamos el módulo 1\n",
    "# para renormalizarlo a valores entre 0 y 1.\n",
    "img_hsv[:, :, 0] = (img_hsv[:, :, 0] + 0.5) % 1.0\n",
    "img_nueva = ski.color.hsv2rgb(img_hsv)\n",
    "fig, ax = plt.subplots()\n",
    "ski.io.imshow(img_nueva, ax=ax)\n",
    "ax.axis(\"off\")"
   ]
  },
  {
   "cell_type": "markdown",
   "metadata": {},
   "source": [
    "## 3. Operaciones punto a punto"
   ]
  },
  {
   "cell_type": "markdown",
   "metadata": {},
   "source": [
    "Las operaciones punto a punto son operaciones que se realizan sobre todos y cada\n",
    "uno de los píxeles de una imagen de manera individual e independiente."
   ]
  },
  {
   "cell_type": "markdown",
   "metadata": {},
   "source": [
    "### 3.1 Brillo y contraste"
   ]
  },
  {
   "cell_type": "markdown",
   "metadata": {},
   "source": [
    "Si el valor de color en cada píxel representa la intensidad de la luz, entonces\n",
    "el brillo y el contraste de una imagen se pueden ajustar sumando y multiplicando\n",
    "respectivamente los valores de color de cada píxel.\n",
    "\n",
    "En concreto, si $A$ es la matriz de la imagen, $b$ es el brillo y $c$ es el\n",
    "contraste, entonces el brillo y el contraste de la imagen se pueden ajustar\n",
    "como sigue:\n",
    "$$f_{\\text{contraste}}(A, c) = c \\cdot A \\qquad f_{\\text{brillo}}(A, b) = A + b$$\n",
    "\n",
    "Aquí hemos usado la convención de Numpy de que las operaciones aritméticas se\n",
    "realizan punto a punto.\n"
   ]
  },
  {
   "cell_type": "code",
   "execution_count": null,
   "metadata": {},
   "outputs": [],
   "source": [
    "def mostrar_imagen_con_histograma(imagen, figsize=(13, 5)):\n",
    "    fig, ax = plt.subplots(1, 2, figsize=figsize)\n",
    "    ski.io.imshow(imagen, ax=ax[0])\n",
    "    ax[0].axis(\"off\")\n",
    "\n",
    "    # Crear un histograma de la imagen\n",
    "    ax[1].hist(imagen.ravel(), bins=256, density=True)\n",
    "    ax[1].set_xlabel(\"Intensidad\")\n",
    "    ax[1].set_ylabel(\"Densidad\")\n",
    "    ax[1].spines[\"top\"].set_visible(False)\n",
    "    ax[1].spines[\"right\"].set_visible(False)\n",
    "    fig.tight_layout()"
   ]
  },
  {
   "cell_type": "code",
   "execution_count": null,
   "metadata": {},
   "outputs": [],
   "source": [
    "imagen = ski.data.chelsea()/255\n",
    "\n",
    "\n",
    "def ajustar_brillo_y_contrasete(brillo=0.0, contraste=1.0):\n",
    "    imagen_ajustada = contraste * imagen + brillo\n",
    "    imagen_ajustada[imagen_ajustada > 1] = 1\n",
    "    imagen_ajustada[imagen_ajustada < 0] = 0\n",
    "    out.clear_output()\n",
    "    with out:\n",
    "        mostrar_imagen_con_histograma(imagen_ajustada)\n",
    "        plt.show()\n",
    "\n",
    "out = widgets.Output()\n",
    "display.display(out)\n",
    "gui = widgets.interact_manual(\n",
    "    ajustar_brillo_y_contrasete, brillo=(-1.0, 1.0, 0.05), contraste=(0.5, 2.0, 0.05)\n",
    ")\n",
    "gui.widget.children[0].description = \"Brillo\"\n",
    "gui.widget.children[1].description = \"Contraste\"\n",
    "gui.widget.children[2].description = \"Actualizar\"\n",
    "ajustar_brillo_y_contrasete()"
   ]
  },
  {
   "cell_type": "markdown",
   "metadata": {},
   "source": [
    "### 3.2 Corrección Gamma"
   ]
  },
  {
   "cell_type": "markdown",
   "metadata": {},
   "source": [
    "Cada monitor tiene una curva de respuesta de luminancia que no es lineal; es\n",
    "decir, el brillo de cada pixel no es directamente proporcional a los valores\n",
    "RGB que se le envían.\n",
    "Esta curva de respuesta depende del fabricante y modelo del monitor, así como de\n",
    "la configuración del mismo.\n",
    "La **corrección gamma** es una transformación de ley de potencia que se utiliza\n",
    "para corregir la luminancia de una imagen; está definida por la siguiente\n",
    "ecuación:\n",
    "\n",
    "$$V_{\\text{out}} = V_{\\text{in}}^\\gamma$$\n",
    "\n",
    "donde $V_{\\text{in}}$ es el valor de entrada de la imagen, $V_{\\text{out}}$ es\n",
    "el valor de salida y $\\gamma$ es el factor de corrección gamma.\n",
    "Esta transformación manda valores de $[0, 1]$ a $[0, 1]$ de manera monótona\n",
    "para cualquier valor de $\\gamma > 0$."
   ]
  },
  {
   "cell_type": "code",
   "execution_count": null,
   "metadata": {},
   "outputs": [],
   "source": [
    "x = np.linspace(0, 1, num=1000)\n",
    "gamma = np.logspace(-5, 5, num=7, base=2)\n",
    "\n",
    "fig, ax = plt.subplots()\n",
    "for g in gamma:\n",
    "    ax.plot(x, x**g, label=f\"$\\gamma = {g:.3g}$\")\n",
    "\n",
    "ax.legend()\n",
    "ax.set_aspect(1.0)\n",
    "ax.set_xlabel(\"$V_{\\mathrm{in}}$\")\n",
    "ax.set_ylabel(\"$V_{\\mathrm{out}}$\")\n",
    "ax.set_title(\"Curvas de transferencia de un ajuste gamma\")\n",
    "\n",
    "ax.spines[\"top\"].set_visible(False)\n",
    "ax.spines[\"right\"].set_visible(False)"
   ]
  },
  {
   "cell_type": "code",
   "execution_count": null,
   "metadata": {},
   "outputs": [],
   "source": [
    "img = ski.io.imread(sipi_dir / \"misc/4.1.02.tiff\")\n",
    "\n",
    "img = img/255  # Normalizar la imagen a valores entre 0 y 1\n",
    "img_corregida = img**0.5  # Aplica la corrección gamma\n",
    "\n",
    "fig, ax = plt.subplots(1, 2, figsize=(10, 5))\n",
    "\n",
    "ski.io.imshow(img, ax=ax[0])\n",
    "ax[0].set_title(\"Imagen original\")\n",
    "ax[0].axis(\"off\")\n",
    "\n",
    "ski.io.imshow(img_corregida, ax=ax[1])\n",
    "ax[1].set_title(\"Imagen corregida ($\\gamma = 0.5$)\")\n",
    "ax[1].axis(\"off\")\n",
    "\n",
    "fig.tight_layout()"
   ]
  },
  {
   "cell_type": "code",
   "execution_count": null,
   "metadata": {},
   "outputs": [],
   "source": [
    "gamma = np.logspace(-4, 4, num=101, base=2)  # Desde 2**-4 hasta 2**4\n",
    "\n",
    "fig, ax = plt.subplots()\n",
    "img_obj = ax.imshow(img)\n",
    "ax.axis(\"off\")\n",
    "titulo = ax.set_title(f\"Corrección gamma ($\\gamma = {gamma[0]:.3f}$)\", loc=\"left\")\n",
    "fig.tight_layout()\n",
    "plt.close(fig)\n",
    "\n",
    "\n",
    "def actualizar(i):\n",
    "    img_corregida = img ** gamma[i]\n",
    "    titulo.set_text(f\"Corrección gamma ($\\gamma = {gamma[i]:.3f}$)\")\n",
    "    img_obj.set_data(img_corregida)\n",
    "\n",
    "\n",
    "anim = animation.FuncAnimation(fig, actualizar, frames=len(gamma), interval=1000 / 12)\n",
    "\n",
    "inicio = time.perf_counter()\n",
    "anim.save(\"correccion_gamma.mp4\", fps=12, codec=\"h264\")\n",
    "print(f\"La animación se guardó en {time.perf_counter() - inicio:.2f} segundos.\")\n",
    "\n",
    "display.Video(\"correccion_gamma.mp4\")"
   ]
  },
  {
   "cell_type": "markdown",
   "metadata": {},
   "source": [
    "### 3.3 Mezcla de imágenes"
   ]
  },
  {
   "cell_type": "code",
   "execution_count": null,
   "metadata": {},
   "outputs": [],
   "source": [
    "img1 = ski.io.imread(sipi_dir / \"misc/house.tiff\")/255\n",
    "img2 = ski.io.imread(sipi_dir / \"misc/4.2.03.tiff\")/255\n",
    "\n",
    "print(f\"Las imágenes tienen forma {img1.shape} y {img2.shape}.\")\n",
    "\n",
    "# Sumar las imágenes y renormalizar\n",
    "img3 = img1 + img2\n",
    "img3[img3 > 1.0] = 1.0\n",
    "\n",
    "\n",
    "fig, ax = plt.subplots(1, 3, figsize=(15, 5))\n",
    "ax[0].imshow(img1)\n",
    "ax[0].set_title(\"Imagen 1\")\n",
    "ax[1].imshow(img2)\n",
    "ax[1].set_title(\"Imagen 2\")\n",
    "ax[2].imshow(img3)\n",
    "ax[2].set_title(\"Suma\")\n",
    "\n",
    "for i in range(3):\n",
    "    ax[i].axis(\"off\")\n",
    "\n",
    "fig.tight_layout()"
   ]
  },
  {
   "cell_type": "code",
   "execution_count": null,
   "metadata": {},
   "outputs": [],
   "source": [
    "alpha = np.linspace(0, 1, num=100)\n",
    "\n",
    "fig, ax = plt.subplots()\n",
    "img_obj = ax.imshow(img1)\n",
    "ax.axis(\"off\")\n",
    "fig.tight_layout()\n",
    "plt.close(fig)\n",
    "\n",
    "def fotograma(i):\n",
    "    img3 = (1 - alpha[i]) * img1 + alpha[i] * img2  # Combinación convexa\n",
    "    img_obj.set_data(img3)\n",
    "\n",
    "anim = animation.FuncAnimation(fig, fotograma, frames=len(alpha), interval=1000/24)\n",
    "\n",
    "inicio = time.perf_counter()\n",
    "anim.save(\"transicion.mp4\", codec=\"h264\", fps=24)\n",
    "print(f\"La animación se guardó en {time.perf_counter() - inicio:.2f} segundos.\")\n",
    "\n",
    "display.Video(\"transicion.mp4\")"
   ]
  },
  {
   "cell_type": "code",
   "execution_count": null,
   "metadata": {},
   "outputs": [],
   "source": [
    "x = np.linspace(0, 1, num=400)\n",
    "y = np.linspace(0, 1, num=400)\n",
    "x, y = np.meshgrid(x, y)\n",
    "z = x * y\n",
    "\n",
    "fig, ax = plt.subplots(subplot_kw={\"projection\": \"3d\"})\n",
    "img_obj = ax.plot_surface(x, y, z, cmap=\"magma\", label=\"$x \\cdot y$\")\n",
    "ax.legend()\n",
    "_ = ax.set_xlabel(\"x\")\n",
    "_ = ax.set_ylabel(\"y\")\n",
    "_ = ax.set_zlabel(\"z\")"
   ]
  },
  {
   "cell_type": "code",
   "execution_count": null,
   "metadata": {},
   "outputs": [],
   "source": [
    "img3 = img1*img2\n",
    "\n",
    "fig, ax = plt.subplots(1, 3, figsize=(15, 5))\n",
    "ax[0].imshow(img1)\n",
    "ax[0].set_title(\"Imagen 1\")\n",
    "ax[1].imshow(img2)\n",
    "ax[1].set_title(\"Imagen 2\")\n",
    "ax[2].imshow(img3)\n",
    "ax[2].set_title(\"Producto\")\n",
    "\n",
    "for i in range(3):\n",
    "    ax[i].axis(\"off\")\n",
    "\n",
    "fig.tight_layout()\n"
   ]
  },
  {
   "cell_type": "markdown",
   "metadata": {},
   "source": [
    "## 4. Ajuste de imágenes con Scikit-Image"
   ]
  },
  {
   "cell_type": "markdown",
   "metadata": {},
   "source": [
    "Scikit-Image contiene varias rutinas para ajustar imágenes."
   ]
  },
  {
   "cell_type": "code",
   "execution_count": null,
   "metadata": {},
   "outputs": [],
   "source": [
    "def mostrar_imagen_gris_con_histograma(imagen, ejes, intervalos=256):\n",
    "    imagen = ski.img_as_float(imagen)  # Normalizar la imagen a valores entre 0 y 1.\n",
    "    ax_img, ax_hist = ejes\n",
    "    ax_img.imshow(imagen, cmap=\"gray\")\n",
    "    ax_img.axis(\"off\")\n",
    "    ax_hist.hist(\n",
    "        imagen.ravel(), bins=intervalos, histtype=\"stepfilled\", color=\"black\", density=True\n",
    "    )\n",
    "    ax_hist.set_xlabel(\"Intensidad\")\n",
    "    ax_hist.set_ylabel(\"Densidad\")\n",
    "    ax_hist.spines[\"top\"].set_visible(False)\n",
    "    ax_hist.spines[\"right\"].set_visible(False)\n",
    "\n",
    "    # Mostrar la distribución acumulada\n",
    "    img_cdf, bins = ski.exposure.cumulative_distribution(imagen, intervalos)\n",
    "    ax_cdf = ax_hist.twinx()\n",
    "    ax_cdf.plot(bins, img_cdf, \"r\")\n",
    "    ax_cdf.set_yticks([])  # Ocultar los valores del eje y para la distribución acum.\n",
    "    ax_cdf.spines[\"top\"].set_visible(False)\n",
    "    ax_cdf.spines[\"right\"].set_visible(False)\n",
    "\n",
    "    return ax_img, ax_hist, ax_cdf"
   ]
  },
  {
   "cell_type": "code",
   "execution_count": null,
   "metadata": {},
   "outputs": [],
   "source": [
    "img = ski.data.camera()\n",
    "fig, ejes = plt.subplots(1, 2, figsize=(10, 5))\n",
    "mostrar_imagen_gris_con_histograma(img, ejes)"
   ]
  },
  {
   "cell_type": "markdown",
   "metadata": {},
   "source": [
    "### 4.1 Ajuste de brillo, contraste y gamma"
   ]
  },
  {
   "cell_type": "markdown",
   "metadata": {},
   "source": [
    "Una manera común de ajustar automáticamente el contraste de una imagen\n",
    "es reescalar sus valores de intensidad para que ocupen todo el rango de\n",
    "valores posibles."
   ]
  },
  {
   "cell_type": "code",
   "execution_count": null,
   "metadata": {},
   "outputs": [],
   "source": [
    "p2, p98 = np.percentile(img, (2, 98))\n",
    "img_reescalada = ski.exposure.rescale_intensity(img, in_range=(p2, p98))\n",
    "\n",
    "fig, ax = plt.subplots(1, 2, figsize=(10, 5))\n",
    "mostrar_imagen_gris_con_histograma(img_reescalada, ejes=ax)"
   ]
  },
  {
   "cell_type": "markdown",
   "metadata": {},
   "source": [
    "La **ecualización del histograma** es una técnica que ajusta el contraste de\n",
    "una imagen reescalando sus valores de intensidad para que ocupen todo el rango\n",
    "de valores posibles.\n",
    "Esencialmente, la ecualización del histograma redistribuye los valores de\n",
    "intensidad de manera que la distribución acumulada de los valores de intensidad\n",
    "sea lo más parecida a una función lineal."
   ]
  },
  {
   "cell_type": "code",
   "execution_count": null,
   "metadata": {},
   "outputs": [],
   "source": []
  }
 ],
 "metadata": {
  "kernelspec": {
   "display_name": "Python 3 (ipykernel)",
   "language": "python",
   "name": "python3"
  },
  "language_info": {
   "codemirror_mode": {
    "name": "ipython",
    "version": 3
   },
   "file_extension": ".py",
   "mimetype": "text/x-python",
   "name": "python",
   "nbconvert_exporter": "python",
   "pygments_lexer": "ipython3",
   "version": "3.11.8"
  }
 },
 "nbformat": 4,
 "nbformat_minor": 4
}
