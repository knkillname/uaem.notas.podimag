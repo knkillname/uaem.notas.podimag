{
 "cells": [
  {
   "cell_type": "code",
   "execution_count": null,
   "metadata": {},
   "outputs": [],
   "source": [
    "import matplotlib.pyplot as plt\n",
    "import numpy as np"
   ]
  },
  {
   "cell_type": "markdown",
   "metadata": {},
   "source": [
    "# 1. Introducción al procesamiento de imágenes"
   ]
  },
  {
   "cell_type": "markdown",
   "metadata": {},
   "source": [
    "## Imágenes digitales y su representación"
   ]
  },
  {
   "cell_type": "markdown",
   "metadata": {},
   "source": []
  },
  {
   "cell_type": "markdown",
   "metadata": {},
   "source": [
    "## Curvas de Bézier"
   ]
  },
  {
   "cell_type": "markdown",
   "metadata": {},
   "source": [
    "Una **curva de Bézier** es un tipo de curva paramétrica definida por un\n",
    "conjunto de **puntos de control**.\n",
    "Antes de comenzar con la definición formal, vale la pena ver un ejemplo de la\n",
    "consrucción de una curva de Bézier."
   ]
  },
  {
   "cell_type": "code",
   "execution_count": null,
   "metadata": {},
   "outputs": [],
   "source": [
    "# Definimos tres puntos de control:\n",
    "puntos = np.array([[0, 1], [0, 0], [2, .3]], dtype=float)\n",
    "\n",
    "# Interpolamos los tres puntos con dos segmentos de recta:\n",
    "n_particiones = 11\n",
    "segmento1 = np.linspace(puntos[0], puntos[1], n_particiones)\n",
    "segmento2 = np.linspace(puntos[1], puntos[2], n_particiones)\n",
    "\n",
    "# Creamos la figura y los ejes:\n",
    "fig, ax = plt.subplots()\n",
    "ax.set_title(\"Curva de Bézier cuadrática\")\n",
    "ax.set_aspect(\"equal\")\n",
    "\n",
    "# Dibujamos cuerdas entre los segmentos de recta:\n",
    "for p1, p2 in zip(segmento1, segmento2):\n",
    "    ax.plot([p1[0], p2[0]], [p1[1], p2[1]], color=\"slateblue\")\n",
    "\n",
    "# Dibujamos los segmentos de recta:\n",
    "ax.plot(puntos[:, 0], puntos[:, 1], color=\"black\")\n",
    "\n",
    "# Dibujamos los puntos de control:\n",
    "ax.scatter(puntos[:, 0], puntos[:, 1], color=\"tomato\")\n",
    "for i in range(3):\n",
    "    ax.annotate(f\"$P_{i}$\", puntos[i])\n",
    "\n",
    "# Removemos el eje superior y el derecho:\n",
    "ax.spines[\"top\"].set_visible(False)\n",
    "ax.spines[\"right\"].set_visible(False)"
   ]
  }
 ],
 "metadata": {
  "kernelspec": {
   "display_name": ".venv",
   "language": "python",
   "name": "python3"
  },
  "language_info": {
   "codemirror_mode": {
    "name": "ipython",
    "version": 3
   },
   "file_extension": ".py",
   "mimetype": "text/x-python",
   "name": "python",
   "nbconvert_exporter": "python",
   "pygments_lexer": "ipython3",
   "version": "3.11.7"
  }
 },
 "nbformat": 4,
 "nbformat_minor": 2
}
