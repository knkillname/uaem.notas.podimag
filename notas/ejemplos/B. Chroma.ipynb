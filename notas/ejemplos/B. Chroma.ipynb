{
 "cells": [
  {
   "cell_type": "markdown",
   "metadata": {},
   "source": [
    "# Efecto Croma (pantallas verdes)"
   ]
  },
  {
   "cell_type": "markdown",
   "metadata": {},
   "source": [
    "El efecto Croma (pantalla verde) es una técnica utilizada en la postproducción\n",
    "de video y fotografía para combinar dos imágenes o videos en una sola.\n",
    "Seguramente has visto cómo se graban películas de ciencia ficción o programas de\n",
    "televisión donde los actores interactúan con un fondo que no está presente; esto\n",
    "se logra grabando a los actores frente a una pantalla verde y luego reemplazando\n",
    "el color verde por el fondo deseado.\n",
    "\n",
    "En este cuaderno vamos a implementar una versión simplificada del efecto Croma\n",
    "utilizando la técnica de umbralización en scikit-image."
   ]
  },
  {
   "cell_type": "code",
   "execution_count": null,
   "metadata": {},
   "outputs": [],
   "source": [
    "import skimage as ski\n",
    "import matplotlib.pyplot as plt\n",
    "import numpy as np"
   ]
  },
  {
   "cell_type": "markdown",
   "metadata": {},
   "source": [
    "Primero carguemos una imagen de un actor frente a una pantalla verde y una\n",
    "imagen de un fondo que queremos utilizar."
   ]
  },
  {
   "cell_type": "code",
   "execution_count": null,
   "metadata": {},
   "outputs": [],
   "source": [
    "ruta_primer_plano = 'pantallas/Girl_in_front_of_a_green_background.jpg'\n",
    "ruta_fondo = 'pantallas/enchanted_forest_background.jpg'\n",
    "\n",
    "primer_plano = ski.util.img_as_float64(ski.io.imread(ruta_primer_plano))\n",
    "fondo = ski.util.img_as_float64(ski.io.imread(ruta_fondo))\n",
    "# Reescalar el fondo para que tenga la misma altura que el primer plano\n",
    "fondo = ski.transform.resize(fondo, (primer_plano.shape[0], fondo.shape[1]))\n",
    "\n",
    "fig, ax = plt.subplots(1, 2, figsize=(10, 5))\n",
    "ski.io.imshow(primer_plano, ax=ax[0])\n",
    "ski.io.imshow(fondo, ax=ax[1])\n",
    "\n",
    "ax[0].set_title('Primer plano')\n",
    "ax[0].axis('off')\n",
    "ax[1].set_title('Fondo')\n",
    "ax[1].axis('off')\n",
    "fig.tight_layout()"
   ]
  },
  {
   "cell_type": "markdown",
   "metadata": {},
   "source": []
  },
  {
   "cell_type": "code",
   "execution_count": null,
   "metadata": {},
   "outputs": [],
   "source": [
    "llave = np.array([0.0, 1.0, 0.0], dtype=np.float64)\n",
    "distancia_min = 0.6\n",
    "distancia_max = 0.7\n",
    "\n",
    "# Calcular la distancia euclidiana entre el color de cada pixel del primer plano\n",
    "# y el color de la llave\n",
    "distancia = np.linalg.norm(primer_plano - llave, axis=2)\n",
    "\n",
    "# Escalar la distancia y recortar (clip) para que la distancia máxima sea 1\n",
    "# Luego, invertir la distancia para que los pixeles más cercanos a la llave\n",
    "# tengan un valor más alto\n",
    "distancia = 1 - np.clip(\n",
    "    (distancia - distancia_min) / (distancia_max - distancia_min), 0, 1\n",
    ")\n",
    "\n",
    "ski.io.imshow(distancia, cmap=\"gray\")"
   ]
  },
  {
   "cell_type": "code",
   "execution_count": null,
   "metadata": {},
   "outputs": [],
   "source": [
    "# La distancia actúa como una máscara para combinar el primer plano y el fondo\n",
    "# de forma suave. Vamos a centrar la imagen del primer plano en el fondo\n",
    "x_0 = (fondo.shape[1] - primer_plano.shape[1]) // 2\n",
    "x_1 = x_0 + primer_plano.shape[1]\n",
    "y_0 = (fondo.shape[0] - primer_plano.shape[0]) // 2\n",
    "y_1 = y_0 + primer_plano.shape[0]\n",
    "combinado = fondo.copy()\n",
    "\n",
    "# Aplicar la máscara al fondo\n",
    "combinado[y_0:y_1, x_0:x_1] *= distancia[:, :, None]\n",
    "fondo_enmascarado = combinado.copy()\n",
    "\n",
    "# Combinar el primer plano y el fondo\n",
    "primer_plano_enmascarado = primer_plano * (1 - distancia[:, :, None])\n",
    "combinado[y_0:y_1, x_0:x_1] += primer_plano_enmascarado\n",
    "\n",
    "fig, ax = plt.subplots(6, 1, figsize=(10, 25))\n",
    "ax[0].imshow(primer_plano)\n",
    "ax[0].set_title('Primer plano')\n",
    "ax[1].imshow(fondo)\n",
    "ax[1].set_title('Fondo')\n",
    "ax[2].imshow(distancia, cmap='gray')\n",
    "ax[2].set_title('Máscara')\n",
    "ax[3].imshow(fondo_enmascarado)\n",
    "ax[3].set_title('Fondo con máscara')\n",
    "ax[4].imshow(primer_plano_enmascarado)\n",
    "ax[4].set_title('Primer plano con máscara')\n",
    "ax[5].imshow(combinado)\n",
    "ax[5].set_title('Resultado final')\n",
    "\n",
    "for ax_i in ax:\n",
    "    ax_i.axis('off')"
   ]
  },
  {
   "cell_type": "code",
   "execution_count": null,
   "metadata": {},
   "outputs": [],
   "source": []
  }
 ],
 "metadata": {
  "kernelspec": {
   "display_name": ".venv",
   "language": "python",
   "name": "python3"
  },
  "language_info": {
   "codemirror_mode": {
    "name": "ipython",
    "version": 3
   },
   "file_extension": ".py",
   "mimetype": "text/x-python",
   "name": "python",
   "nbconvert_exporter": "python",
   "pygments_lexer": "ipython3",
   "version": "3.11.9"
  }
 },
 "nbformat": 4,
 "nbformat_minor": 2
}
