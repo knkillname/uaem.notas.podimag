{
 "cells": [
  {
   "cell_type": "markdown",
   "metadata": {},
   "source": [
    "# 4. Captura y procesamiento de imágenes"
   ]
  },
  {
   "cell_type": "code",
   "execution_count": null,
   "metadata": {},
   "outputs": [],
   "source": [
    "import skimage as ski\n",
    "import cv2\n",
    "\n",
    "import ipywidgets as widgets\n",
    "import threading\n",
    "from IPython.display import display, Image, Markdown"
   ]
  },
  {
   "cell_type": "markdown",
   "metadata": {},
   "source": [
    "## 4.1. Cómo capturar imágenes"
   ]
  },
  {
   "cell_type": "markdown",
   "metadata": {},
   "source": [
    "Antes de continuar, es necesario dar permiso a la cámara para que pueda ser\n",
    "utilizada por Python.\n",
    "Para ello, usamos el comando `chmod`, que permite cambiar los permisos de un\n",
    "archivo o directorio (en este caso, de un dispositivo).\n",
    "Para saber más acerca de esta orden y de por qué usamos el número 666, puedes\n",
    "consultar la documentación de `chmod` en la terminal con el comando `man chmod`\n",
    "o bien [este enlace](https://es.wikipedia.org/wiki/Chmod) (spoiler: 666 no tiene\n",
    "nada que ver con el diablo)."
   ]
  },
  {
   "cell_type": "code",
   "execution_count": null,
   "metadata": {},
   "outputs": [],
   "source": [
    "!sudo chmod 666 /dev/video*"
   ]
  },
  {
   "cell_type": "markdown",
   "metadata": {},
   "source": [
    "A continuación le pedimos a OpenCV que se conecte a la cámara usando la API de\n",
    "Video for Linux 2 (V4L2); existen otras APIs, pero esta es la más común en\n",
    "Linux."
   ]
  },
  {
   "cell_type": "code",
   "execution_count": null,
   "metadata": {},
   "outputs": [],
   "source": [
    "dispositivo = cv2.VideoCapture(0, cv2.CAP_V4L2)"
   ]
  },
  {
   "cell_type": "markdown",
   "metadata": {},
   "source": [
    "Usamos el método `.read()` para capturar un fotograma de la cámara."
   ]
  },
  {
   "cell_type": "code",
   "execution_count": null,
   "metadata": {},
   "outputs": [],
   "source": [
    "status, cuadro = dispositivo.read()\n",
    "\n",
    "if not status:\n",
    "    print(\"Error al capturar la imagen\")\n",
    "else:\n",
    "    ski.io.imshow(cuadro)"
   ]
  },
  {
   "cell_type": "markdown",
   "metadata": {},
   "source": [
    "En el caso de mi cámara, la imagen está en formato BGR (Blue, Green, Red), por\n",
    "lo que necesitamos convertirla a RGB (Red, Green, Blue) antes de mostrarla."
   ]
  },
  {
   "cell_type": "code",
   "execution_count": null,
   "metadata": {},
   "outputs": [],
   "source": [
    "cuadro_rgb = cv2.cvtColor(cuadro, cv2.COLOR_BGR2RGB)\n",
    "ski.io.imshow(cuadro_rgb)"
   ]
  },
  {
   "cell_type": "markdown",
   "metadata": {},
   "source": [
    "A partir de aquí, podemos hacer lo que queramos con la imagen, como por ejemplo\n",
    "detectar los bordes."
   ]
  },
  {
   "cell_type": "code",
   "execution_count": null,
   "metadata": {},
   "outputs": [],
   "source": [
    "frame_gray = cv2.cvtColor(cuadro, cv2.COLOR_BGR2GRAY)\n",
    "edges = ski.feature.canny(frame_gray, sigma=1)\n",
    "\n",
    "# Convertir los bordes a verde\n",
    "cuadro_rgb[edges] = [0, 255, 0]\n",
    "ski.io.imshow(cuadro_rgb)"
   ]
  },
  {
   "cell_type": "markdown",
   "metadata": {},
   "source": [
    "Para cerrar la conexión con la cámara es necesario *liberarla* con el método\n",
    "`.release()`."
   ]
  },
  {
   "cell_type": "code",
   "execution_count": null,
   "metadata": {},
   "outputs": [],
   "source": [
    "dispositivo.release()"
   ]
  },
  {
   "cell_type": "code",
   "execution_count": null,
   "metadata": {},
   "outputs": [],
   "source": [
    "# En un dispositivo que ya fue liberado, el estatus es False\n",
    "dispositivo.read()"
   ]
  },
  {
   "cell_type": "markdown",
   "metadata": {},
   "source": [
    "### Paréntesis: ¿qué es el display, ipywidgets, y thrading?"
   ]
  },
  {
   "cell_type": "code",
   "execution_count": null,
   "metadata": {},
   "outputs": [],
   "source": [
    "display({\"a\": 1, \"b\": 2})"
   ]
  },
  {
   "cell_type": "code",
   "execution_count": null,
   "metadata": {},
   "outputs": [],
   "source": [
    "texto = \"Este es un texto de prueba con **negritas** y *cursivas*.\"\n",
    "print(texto)\n"
   ]
  },
  {
   "cell_type": "code",
   "execution_count": null,
   "metadata": {},
   "outputs": [],
   "source": [
    "display(texto)"
   ]
  },
  {
   "cell_type": "code",
   "execution_count": null,
   "metadata": {},
   "outputs": [],
   "source": [
    "display(Markdown(texto))"
   ]
  },
  {
   "cell_type": "code",
   "execution_count": null,
   "metadata": {},
   "outputs": [],
   "source": [
    "deslizador = widgets.IntSlider(50, 0, 100, 1)\n",
    "display(deslizador)"
   ]
  },
  {
   "cell_type": "code",
   "execution_count": null,
   "metadata": {},
   "outputs": [],
   "source": [
    "deslizador.value"
   ]
  },
  {
   "cell_type": "code",
   "execution_count": null,
   "metadata": {},
   "outputs": [],
   "source": [
    "from urllib import request\n",
    "import threading\n",
    "\n",
    "# Ejemplo de threading con la biblioteca del mismo nombre\n",
    "url = \"https://sipi.usc.edu/database/{volumen}.zip\"\n",
    "volumenes = [\"textures\", \"aerials\", \"misc\", \"sequences\"]\n",
    "\n",
    "\n",
    "def descargar_volumen(volumen):\n",
    "    request.urlretrieve(url.format(volumen=volumen), f\"{volumen}.zip\")\n",
    "    print(f\"Volumen {volumen} descargado\")\n",
    "\n",
    "\n",
    "hilos = [\n",
    "    threading.Thread(target=descargar_volumen, args=(volumen,))\n",
    "    for volumen in volumenes\n",
    "]\n",
    "\n",
    "for hilo in hilos:\n",
    "    hilo.start()\n",
    "\n",
    "# Pausa y espérate a que terminen las descargas\n",
    "for hilo in hilos:\n",
    "    hilo.join()"
   ]
  },
  {
   "cell_type": "markdown",
   "metadata": {},
   "source": [
    "## 4.2 Creando una línea de ensamblaje para la captura y procesamiento de imágenes"
   ]
  },
  {
   "cell_type": "markdown",
   "metadata": {},
   "source": [
    "A continuación vamos a diseñar una pequeña interfaz gráfica para poder\n",
    "capturar video en tiempo real y aplicarle un filtro de detección de bordes.\n",
    "Nuestra implementación se basa en la biblioteca `ipywidgets`, que nos permite\n",
    "crear widgets interactivos en un cuaderno de Jupyter.\n",
    "En una implementación real, podríamos usar una biblioteca como `tkinter`,\n",
    "`PyQt`, o alguna otra.\n",
    "\n",
    "Nuestra implementación funciona creando un hilo de ejecución que captura\n",
    "fotogramas de la cámara y los muestra en un widget de imagen.\n",
    "Esto nos permite capturar video en tiempo real y aplicarle un filtro sin que\n",
    "la interfaz gráfica se congele."
   ]
  },
  {
   "cell_type": "code",
   "execution_count": null,
   "metadata": {},
   "outputs": [],
   "source": [
    "boton = widgets.ToggleButton(\n",
    "    value=False,\n",
    "    description=\"Detener\",\n",
    "    disabled=False,\n",
    "    button_style=\"danger\",\n",
    "    tooltip=\"Finalizar la captura de video\",\n",
    "    icon=\"square\",  # Para cambiar el icono por uno de \"stop\"\n",
    ")\n",
    "display(boton)"
   ]
  },
  {
   "cell_type": "code",
   "execution_count": null,
   "metadata": {},
   "outputs": [],
   "source": [
    "boton.value"
   ]
  },
  {
   "cell_type": "code",
   "execution_count": null,
   "metadata": {},
   "outputs": [],
   "source": [
    "boton_detener = widgets.ToggleButton(\n",
    "    value=False,\n",
    "    description=\"Detener\",\n",
    "    disabled=False,\n",
    "    button_style=\"danger\",\n",
    "    tooltip=\"Finalizar la captura de video\",\n",
    "    icon=\"square\",  # Para cambiar el icono por uno de \"stop\"\n",
    ")\n",
    "\n",
    "def conectar_camara(id_camara, ancho=640, alto=480, fps=5):\n",
    "    # Conectar con la cámara\n",
    "    dispositivo = cv2.VideoCapture(id_camara, cv2.CAP_V4L2)\n",
    "    \n",
    "    # Establecer el tamaño del cuadro de captura\n",
    "    dispositivo.set(cv2.CAP_PROP_FRAME_WIDTH, ancho)\n",
    "    dispositivo.set(cv2.CAP_PROP_FRAME_HEIGHT, alto)\n",
    "    \n",
    "    # Establecer la tasa de cuadros por segundo\n",
    "    dispositivo.set(cv2.CAP_PROP_FPS, fps)\n",
    "    \n",
    "    return dispositivo\n",
    "\n",
    "\n",
    "def procesar_imagen(cuadro):\n",
    "    # Convertir la imagen a escala de grises\n",
    "    cuadro_gris = cv2.cvtColor(cuadro, cv2.COLOR_BGR2GRAY)\n",
    "    \n",
    "    # Aplicar el detector de bordes de Canny\n",
    "    bordes = cv2.Canny(cuadro_gris, 100, 200)\n",
    "    \n",
    "    # Convertir los bordes a color RGB\n",
    "    cuadro_rgb = cv2.cvtColor(cuadro_gris, cv2.COLOR_GRAY2RGB)\n",
    "    cuadro_rgb[bordes != 0] = [0, 255, 0]\n",
    "    \n",
    "    return cuadro_rgb\n",
    "\n",
    "\n",
    "def capturar(boton, dispositivo):\n",
    "    area_salida = display(None, display_id=True)\n",
    "    salir = False\n",
    "    while not salir:\n",
    "        # Capturar y procesar un cuadro de la cámara\n",
    "        _, cuadro = dispositivo.read()\n",
    "        cuadro = procesar_imagen(cuadro)\n",
    "\n",
    "        # Mostrar la imagen resultante en el área de salida\n",
    "        _, img_jpeg = cv2.imencode(\".jpeg\", cuadro)\n",
    "        area_salida.update(Image(data=img_jpeg.tobytes()))    \n",
    "        \n",
    "        # Verificar si se ha presionado el botón de detener\n",
    "        if boton.value:\n",
    "            dispositivo.release()  # Cerrar la conexión con la cámara\n",
    "            area_salida.update(None)\n",
    "            salir = True\n",
    "\n",
    "dispositivo = conectar_camara(0)\n",
    "display(boton_detener)\n",
    "hilo = threading.Thread(target=capturar, args=(boton_detener, dispositivo))\n",
    "hilo.start()"
   ]
  },
  {
   "cell_type": "markdown",
   "metadata": {},
   "source": [
    "Dado que este curso es acerca de procesamiento de imágenes y no de visión por\n",
    "computadora, no vamos a profundizar más en la detección de bordes u otros\n",
    "filtros de detección de características."
   ]
  }
 ],
 "metadata": {
  "kernelspec": {
   "display_name": ".venv",
   "language": "python",
   "name": "python3"
  },
  "language_info": {
   "codemirror_mode": {
    "name": "ipython",
    "version": 3
   },
   "file_extension": ".py",
   "mimetype": "text/x-python",
   "name": "python",
   "nbconvert_exporter": "python",
   "pygments_lexer": "ipython3",
   "version": "3.11.9"
  }
 },
 "nbformat": 4,
 "nbformat_minor": 2
}
