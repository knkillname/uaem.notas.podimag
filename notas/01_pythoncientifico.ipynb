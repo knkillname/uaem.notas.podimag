{
 "cells": [
  {
   "cell_type": "markdown",
   "metadata": {},
   "source": [
    "# Python en el ámbito científico"
   ]
  },
  {
   "cell_type": "markdown",
   "metadata": {},
   "source": [
    "A lo largo de los años Python a acrecentado sus capacidades en varios ámbitos, \n",
    "uno de ellos es el científico.\n",
    "El proyecto [SciPy](https://www.scipy.org/) originalmente era una colección de\n",
    "paquetes para matemáticas, ciencia e ingeniería que consistía en:\n",
    "\n",
    "- [NumPy](http://www.numpy.org/): Un paquete para la manipulación de arreglos y\n",
    "  matrices numéricas.\n",
    "- [Matplotlib](https://matplotlib.org/): Una biblioteca para la visualización de\n",
    "  datos en 2D.\n",
    "- [SciPy](https://www.scipy.org/): Un paquete de análisis numérico con rutinas\n",
    "  para optimización, álgebra lineal, integración, interpolación, funciones\n",
    "  especiales, y más.\n",
    "- [SymPy](https://www.sympy.org/): Una biblioteca de álgebra simbólica para la\n",
    "  resolución exacta de ecuaciones en cálculo diferencial e integral, álgebra\n",
    "  lineal, y más.\n",
    "- [Pandas](https://pandas.pydata.org/): Una biblioteca para el análisis de datos\n",
    "  tabulares (tablas).\n",
    "- [IPython](https://ipython.org/): Un entorno de trabajo interactivo para\n",
    "  computación científica.\n",
    "  Actualmente [Jupyter](https://jupyter.org/) es el proyecto que ha tomado el\n",
    "  relevo de IPython.\n",
    "\n",
    "Para este curso nos enfocaremos en los paquetes de NumPy y Matplotlib, luego\n",
    "en otras secciones veremos bibliotecas centradas en el procesamiento digital\n",
    "de imágenes y en el aprendizaje automático, concretaente en los paquetes de\n",
    "[scikit image](https://scikit-image.org/), [OpenCV](https://opencv.org/),\n",
    "[scikit-learn](https://scikit-learn.org/stable/), y [Keras](https://keras.io/).\n",
    "\n",
    "Si eres un purista de Python, es posible que te preguntes por qué no usamos\n",
    "las bibliotecas estándar de Python para el procesamiento de datos, como\n",
    "`math`, `random`, `itertools`, `functools`, y demás.\n",
    "La respuesta es que estas bibliotecas están diseñadas para ser generales y\n",
    "flexibles, y no están optimizadas para el procesamiento de datos numéricos.\n",
    "No te sientas agobiado por la cantidad de bibliotecas que necesitas aprender,\n",
    "ya que estas bibliotecas están diseñadas para ser fáciles de usar y tienen el\n",
    "respaldo de una gran comunidad de usuarios y desarrolladores."
   ]
  },
  {
   "cell_type": "markdown",
   "metadata": {},
   "source": [
    "## 1. Agarrándole el hilo a Jupyter\n",
    "<!-- Me rehúso a poner \"Introducción a Jupyter\" -->"
   ]
  },
  {
   "cell_type": "markdown",
   "metadata": {},
   "source": [
    "Cuando uno trata de hacer algún tipo de análisis de datos, es común comenzar a\n",
    "experimentar con instrucciones pequeñas y ver los resultados de inmediato antes\n",
    "de pasar a un entorno de desarrollo más robusto.\n",
    "Más aún, es común querer compartir estos resultados con otras personas.\n",
    "Para estos casos, Jupyter es una herramienta muy útil.\n",
    "\n",
    "- Jupyter combina celdas de texto (en lenguaje \n",
    "  [Markdown](https://youtu.be/X5mkZXmaKp4)) con celdas de código en algún\n",
    "  lenguaje de programación como **Ju**lia, **Pyt**hon, o **R**.\n",
    "- Las celdas de código se pueden ejecutar de manera independiente y puedes\n",
    "  ver los resultados de inmediato.\n",
    "- Las celdas de texto se pueden usar para explicar el código, los resultados, o\n",
    "  cualquier otro aspecto del análisis.\n",
    "- Las celdas de código admiten *comandos mágicos* que permiten realizar tareas\n",
    "  específicas, como medir el tiempo de ejecución de una celda o solicitar ayuda\n",
    "  sobre un objeto.\n",
    "\n",
    "Nosotros usaremos Jupyter para presentar ejemplos de Python en el ámbito\n",
    "del procesamiento digital de imágenes, que es el tema de este curso."
   ]
  },
  {
   "cell_type": "markdown",
   "metadata": {},
   "source": [
    "### 1.1 Obteniendo ayuda"
   ]
  },
  {
   "cell_type": "markdown",
   "metadata": {},
   "source": [
    "En Python puedes solicitar ayuda sobre un objeto usando la función `help`."
   ]
  },
  {
   "cell_type": "code",
   "execution_count": null,
   "metadata": {},
   "outputs": [],
   "source": [
    "help(max)"
   ]
  },
  {
   "cell_type": "code",
   "execution_count": null,
   "metadata": {},
   "outputs": [],
   "source": [
    "max([1,4,782,23,15])"
   ]
  },
  {
   "cell_type": "code",
   "execution_count": null,
   "metadata": {},
   "outputs": [],
   "source": [
    "max(1, 4)"
   ]
  },
  {
   "cell_type": "markdown",
   "metadata": {},
   "source": [
    "Jupyter además utiliza el signo de interrogación `?` para solicitar ayuda sobre\n",
    "un objeto.\n",
    "Dado que esto no es sintaxis estándar de Python, es posible que observes errores\n",
    "de sintaxis en un entorno de desarrollo estándar como Visual Studio Code."
   ]
  },
  {
   "cell_type": "code",
   "execution_count": null,
   "metadata": {},
   "outputs": [],
   "source": [
    "?max"
   ]
  },
  {
   "cell_type": "markdown",
   "metadata": {},
   "source": [
    "Esta notación también funciona con métodos"
   ]
  },
  {
   "cell_type": "code",
   "execution_count": null,
   "metadata": {},
   "outputs": [],
   "source": [
    "canasta = [\"huevos\", \"leche\", \"pan\", \"jamón\", \"manzanas\"]\n",
    "canasta.count?"
   ]
  },
  {
   "cell_type": "markdown",
   "metadata": {},
   "source": [
    "... e incluso con los objetos mismos"
   ]
  },
  {
   "cell_type": "code",
   "execution_count": null,
   "metadata": {},
   "outputs": [],
   "source": [
    "canasta?"
   ]
  },
  {
   "cell_type": "markdown",
   "metadata": {},
   "source": [
    "Hay ocasiones en las que la documentación de una función es suficiente ambigua\n",
    "como para que merite una consulta más detallada.\n",
    "En estos casos, el doble signo de interrogación `??` te mostrará el código\n",
    "fuente del objeto en cuestión."
   ]
  },
  {
   "cell_type": "code",
   "execution_count": null,
   "metadata": {},
   "outputs": [],
   "source": [
    "# Creamos una función en Python con una documentación ambigua\n",
    "def lel(datos):\n",
    "    \"\"\"Aplica la transformación a los datos\"\"\"  # Casos de la vida real :(\n",
    "    datos = datos**2 + 1\n",
    "    return datos"
   ]
  },
  {
   "cell_type": "code",
   "execution_count": null,
   "metadata": {},
   "outputs": [],
   "source": [
    "?lel"
   ]
  },
  {
   "cell_type": "code",
   "execution_count": null,
   "metadata": {},
   "outputs": [],
   "source": [
    "??lel"
   ]
  },
  {
   "cell_type": "markdown",
   "metadata": {},
   "source": [
    "### 1.2 Autocompletado"
   ]
  },
  {
   "cell_type": "markdown",
   "metadata": {},
   "source": [
    "No importa si usas Jupyter o un entorno de desarrollo estándar, el\n",
    "autocompletado es una herramienta muy útil para explorar las capacidades de\n",
    "un objeto.\n",
    "\n",
    "- En Jupyter, puedes presionar la tecla `TAB`\n",
    "- En Visual Studio Code, puedes presionar `CTRL` + `ESPACIO`"
   ]
  },
  {
   "cell_type": "markdown",
   "metadata": {},
   "source": [
    "Prueba esto: escribe `canasta.` en una celda de código y presiona `TAB` (si usas\n",
    "Jupyter) o `CTRL` + `ESPACIO` (si usas Visual Studio Code) para ver una lista de\n",
    "los métodos y atributos del objeto `canasta`."
   ]
  },
  {
   "cell_type": "code",
   "execution_count": null,
   "metadata": {},
   "outputs": [],
   "source": []
  },
  {
   "cell_type": "markdown",
   "metadata": {},
   "source": [
    "Si más o menos recuerdas el nombre de un método o atributo, pero no estás seguro\n",
    "de la ortografía, puedes solicitar a Juptyer que busque todas las coincidencias\n",
    "posibles mediante el comodín `*`."
   ]
  },
  {
   "cell_type": "code",
   "execution_count": null,
   "metadata": {},
   "outputs": [],
   "source": [
    "# Listar los métodos de la canasta que inician con \"re\"\n",
    "canasta.re*?"
   ]
  },
  {
   "cell_type": "code",
   "execution_count": null,
   "metadata": {},
   "outputs": [],
   "source": [
    "# Listar los métodos de la canasta que terminan con \"nd\"\n",
    "canasta.*nd?"
   ]
  },
  {
   "cell_type": "markdown",
   "metadata": {},
   "source": [
    "### 1.2 Los métodos mágicos"
   ]
  },
  {
   "cell_type": "markdown",
   "metadata": {},
   "source": [
    "Jupyter admite *comandos mágicos* que permiten realizar tareas específicas como\n",
    "medir el tiempo de ejecución de una celda o ejecutar un comando externo."
   ]
  },
  {
   "cell_type": "code",
   "execution_count": null,
   "metadata": {},
   "outputs": [],
   "source": [
    "# Cómo crear una lista de números al cuadrado más uno\n",
    "def lol(datos):\n",
    "    resultado = []\n",
    "    for i in datos:\n",
    "        resultado.append(i**2 + 1)\n",
    "    return resultado"
   ]
  },
  {
   "cell_type": "code",
   "execution_count": null,
   "metadata": {},
   "outputs": [],
   "source": [
    "%%timeit\n",
    "resultado = lol([1,2,3,4,5])"
   ]
  },
  {
   "cell_type": "code",
   "execution_count": null,
   "metadata": {},
   "outputs": [],
   "source": [
    "datos = [1,2,3,4,5]"
   ]
  },
  {
   "cell_type": "code",
   "execution_count": null,
   "metadata": {},
   "outputs": [],
   "source": [
    "%%timeit\n",
    "resultado = [i**2 + 1 for i in datos]"
   ]
  },
  {
   "cell_type": "code",
   "execution_count": null,
   "metadata": {},
   "outputs": [],
   "source": [
    "%lsmagic"
   ]
  },
  {
   "cell_type": "code",
   "execution_count": null,
   "metadata": {},
   "outputs": [],
   "source": [
    "%load_ext line_profiler"
   ]
  },
  {
   "cell_type": "code",
   "execution_count": null,
   "metadata": {},
   "outputs": [],
   "source": [
    "def fib(n):\n",
    "    if n <= 1:\n",
    "        return n\n",
    "    return fib(n - 1) + fib(n - 2)\n",
    "\n",
    "%lprun -f fib fib(32)"
   ]
  },
  {
   "cell_type": "markdown",
   "metadata": {},
   "source": [
    "### 1.3 Consultar resultados anteriores"
   ]
  },
  {
   "cell_type": "code",
   "execution_count": null,
   "metadata": {},
   "outputs": [],
   "source": [
    "2761834761897461982376**128"
   ]
  },
  {
   "cell_type": "code",
   "execution_count": null,
   "metadata": {},
   "outputs": [],
   "source": [
    "_//2"
   ]
  },
  {
   "cell_type": "code",
   "execution_count": null,
   "metadata": {},
   "outputs": [],
   "source": [
    "In[19]"
   ]
  },
  {
   "cell_type": "code",
   "execution_count": null,
   "metadata": {},
   "outputs": [],
   "source": [
    "Out[19]"
   ]
  },
  {
   "cell_type": "markdown",
   "metadata": {},
   "source": [
    "## 2. Manipulación de datos con NumPy"
   ]
  },
  {
   "cell_type": "markdown",
   "metadata": {},
   "source": [
    "### 2.1 Creación de arreglos"
   ]
  },
  {
   "cell_type": "markdown",
   "metadata": {},
   "source": [
    "### 2.2 Acceso a elementos"
   ]
  },
  {
   "cell_type": "markdown",
   "metadata": {},
   "source": [
    "\n",
    "### 2.3 Operaciones con arreglos"
   ]
  },
  {
   "cell_type": "markdown",
   "metadata": {},
   "source": [
    "## 3. Visualización de datos con Matplotlib\n",
    "\n",
    "### 3.1 Gráficos de línea\n",
    "\n",
    "### 3.2 Gráficos de dispersión\n",
    "\n",
    "### 3.3 Histogramas"
   ]
  },
  {
   "cell_type": "markdown",
   "metadata": {},
   "source": []
  }
 ],
 "metadata": {
  "kernelspec": {
   "display_name": ".venv",
   "language": "python",
   "name": "python3"
  },
  "language_info": {
   "codemirror_mode": {
    "name": "ipython",
    "version": 3
   },
   "file_extension": ".py",
   "mimetype": "text/x-python",
   "name": "python",
   "nbconvert_exporter": "python",
   "pygments_lexer": "ipython3",
   "version": "3.11.7"
  }
 },
 "nbformat": 4,
 "nbformat_minor": 2
}
