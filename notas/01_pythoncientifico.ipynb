{
 "cells": [
  {
   "cell_type": "code",
   "execution_count": 1,
   "metadata": {},
   "outputs": [],
   "source": [
    "import sys\n",
    "\n",
    "import numpy as np\n",
    "import matplotlib.pyplot as plt"
   ]
  },
  {
   "cell_type": "markdown",
   "metadata": {},
   "source": [
    "# Python en el ámbito científico"
   ]
  },
  {
   "cell_type": "markdown",
   "metadata": {},
   "source": [
    "A lo largo de los años Python a acrecentado sus capacidades en varios ámbitos, \n",
    "uno de ellos es el científico.\n",
    "El proyecto [SciPy](https://www.scipy.org/) originalmente era una colección de\n",
    "paquetes para matemáticas, ciencia e ingeniería que consistía en:\n",
    "\n",
    "- [NumPy](http://www.numpy.org/): Un paquete para la manipulación de arreglos y\n",
    "  matrices numéricas.\n",
    "- [Matplotlib](https://matplotlib.org/): Una biblioteca para la visualización de\n",
    "  datos en 2D.\n",
    "- [SciPy](https://www.scipy.org/): Un paquete de análisis numérico con rutinas\n",
    "  para optimización, álgebra lineal, integración, interpolación, funciones\n",
    "  especiales, y más.\n",
    "- [SymPy](https://www.sympy.org/): Una biblioteca de álgebra simbólica para la\n",
    "  resolución exacta de ecuaciones en cálculo diferencial e integral, álgebra\n",
    "  lineal, y más.\n",
    "- [Pandas](https://pandas.pydata.org/): Una biblioteca para el análisis de datos\n",
    "  tabulares (tablas).\n",
    "- [IPython](https://ipython.org/): Un entorno de trabajo interactivo para\n",
    "  computación científica.\n",
    "  Actualmente [Jupyter](https://jupyter.org/) es el proyecto que ha tomado el\n",
    "  relevo de IPython.\n",
    "\n",
    "Para este curso nos enfocaremos en los paquetes de NumPy y Matplotlib, luego\n",
    "en otras secciones veremos bibliotecas centradas en el procesamiento digital\n",
    "de imágenes y en el aprendizaje automático, concretaente en los paquetes de\n",
    "[scikit image](https://scikit-image.org/), [OpenCV](https://opencv.org/),\n",
    "[scikit-learn](https://scikit-learn.org/stable/), y [Keras](https://keras.io/).\n",
    "\n",
    "Si eres un purista de Python, es posible que te preguntes por qué no usamos\n",
    "las bibliotecas estándar de Python para el procesamiento de datos, como\n",
    "`math`, `random`, `itertools`, `functools`, y demás.\n",
    "La respuesta es que estas bibliotecas están diseñadas para ser generales y\n",
    "flexibles, y no están optimizadas para el procesamiento de datos numéricos.\n",
    "No te sientas agobiado por la cantidad de bibliotecas que necesitas aprender,\n",
    "ya que estas bibliotecas están diseñadas para ser fáciles de usar y tienen el\n",
    "respaldo de una gran comunidad de usuarios y desarrolladores."
   ]
  },
  {
   "cell_type": "markdown",
   "metadata": {},
   "source": [
    "## 1. Agarrándole el hilo a Jupyter\n",
    "<!-- Me rehúso a poner \"Introducción a Jupyter\" -->"
   ]
  },
  {
   "cell_type": "markdown",
   "metadata": {},
   "source": [
    "Cuando uno trata de hacer algún tipo de análisis de datos, es común comenzar a\n",
    "experimentar con instrucciones pequeñas y ver los resultados de inmediato antes\n",
    "de pasar a un entorno de desarrollo más robusto.\n",
    "Más aún, es común querer compartir estos resultados con otras personas.\n",
    "Para estos casos, Jupyter es una herramienta muy útil.\n",
    "\n",
    "- Jupyter combina celdas de texto (en lenguaje \n",
    "  [Markdown](https://youtu.be/X5mkZXmaKp4)) con celdas de código en algún\n",
    "  lenguaje de programación como **Ju**lia, **Pyt**hon, o **R**.\n",
    "- Las celdas de código se pueden ejecutar de manera independiente y puedes\n",
    "  ver los resultados de inmediato.\n",
    "- Las celdas de texto se pueden usar para explicar el código, los resultados, o\n",
    "  cualquier otro aspecto del análisis.\n",
    "- Las celdas de código admiten *comandos mágicos* que permiten realizar tareas\n",
    "  específicas, como medir el tiempo de ejecución de una celda o solicitar ayuda\n",
    "  sobre un objeto.\n",
    "\n",
    "Nosotros usaremos Jupyter para presentar ejemplos de Python en el ámbito\n",
    "del procesamiento digital de imágenes, que es el tema de este curso."
   ]
  },
  {
   "cell_type": "markdown",
   "metadata": {},
   "source": [
    "### 1.1 Obteniendo ayuda"
   ]
  },
  {
   "cell_type": "markdown",
   "metadata": {},
   "source": [
    "En Python puedes solicitar ayuda sobre un objeto usando la función `help`."
   ]
  },
  {
   "cell_type": "code",
   "execution_count": 2,
   "metadata": {},
   "outputs": [
    {
     "name": "stdout",
     "output_type": "stream",
     "text": [
      "Help on built-in function max in module builtins:\n",
      "\n",
      "max(...)\n",
      "    max(iterable, *[, default=obj, key=func]) -> value\n",
      "    max(arg1, arg2, *args, *[, key=func]) -> value\n",
      "    \n",
      "    With a single iterable argument, return its biggest item. The\n",
      "    default keyword-only argument specifies an object to return if\n",
      "    the provided iterable is empty.\n",
      "    With two or more arguments, return the largest argument.\n",
      "\n"
     ]
    }
   ],
   "source": [
    "help(max)"
   ]
  },
  {
   "cell_type": "code",
   "execution_count": 3,
   "metadata": {},
   "outputs": [
    {
     "data": {
      "text/plain": [
       "782"
      ]
     },
     "execution_count": 3,
     "metadata": {},
     "output_type": "execute_result"
    }
   ],
   "source": [
    "max([1,4,782,23,15])"
   ]
  },
  {
   "cell_type": "code",
   "execution_count": 4,
   "metadata": {},
   "outputs": [
    {
     "data": {
      "text/plain": [
       "4"
      ]
     },
     "execution_count": 4,
     "metadata": {},
     "output_type": "execute_result"
    }
   ],
   "source": [
    "max(1, 4)"
   ]
  },
  {
   "cell_type": "markdown",
   "metadata": {},
   "source": [
    "Jupyter además utiliza el signo de interrogación `?` para solicitar ayuda sobre\n",
    "un objeto.\n",
    "Dado que esto no es sintaxis estándar de Python, es posible que observes errores\n",
    "de sintaxis en un entorno de desarrollo estándar como Visual Studio Code."
   ]
  },
  {
   "cell_type": "code",
   "execution_count": 5,
   "metadata": {},
   "outputs": [
    {
     "name": "stdout",
     "output_type": "stream",
     "text": [
      "\u001b[0;31mDocstring:\u001b[0m\n",
      "max(iterable, *[, default=obj, key=func]) -> value\n",
      "max(arg1, arg2, *args, *[, key=func]) -> value\n",
      "\n",
      "With a single iterable argument, return its biggest item. The\n",
      "default keyword-only argument specifies an object to return if\n",
      "the provided iterable is empty.\n",
      "With two or more arguments, return the largest argument.\n",
      "\u001b[0;31mType:\u001b[0m      builtin_function_or_method"
     ]
    }
   ],
   "source": [
    "?max"
   ]
  },
  {
   "cell_type": "markdown",
   "metadata": {},
   "source": [
    "Esta notación también funciona con métodos"
   ]
  },
  {
   "cell_type": "code",
   "execution_count": 6,
   "metadata": {},
   "outputs": [
    {
     "name": "stdout",
     "output_type": "stream",
     "text": [
      "\u001b[0;31mSignature:\u001b[0m \u001b[0mcanasta\u001b[0m\u001b[0;34m.\u001b[0m\u001b[0mcount\u001b[0m\u001b[0;34m(\u001b[0m\u001b[0mvalue\u001b[0m\u001b[0;34m,\u001b[0m \u001b[0;34m/\u001b[0m\u001b[0;34m)\u001b[0m\u001b[0;34m\u001b[0m\u001b[0;34m\u001b[0m\u001b[0m\n",
      "\u001b[0;31mDocstring:\u001b[0m Return number of occurrences of value.\n",
      "\u001b[0;31mType:\u001b[0m      builtin_function_or_method"
     ]
    }
   ],
   "source": [
    "canasta = [\"huevos\", \"leche\", \"pan\", \"jamón\", \"manzanas\"]\n",
    "canasta.count?"
   ]
  },
  {
   "cell_type": "markdown",
   "metadata": {},
   "source": [
    "... e incluso con los objetos mismos"
   ]
  },
  {
   "cell_type": "code",
   "execution_count": 7,
   "metadata": {},
   "outputs": [
    {
     "name": "stdout",
     "output_type": "stream",
     "text": [
      "\u001b[0;31mType:\u001b[0m        list\n",
      "\u001b[0;31mString form:\u001b[0m ['huevos', 'leche', 'pan', 'jamón', 'manzanas']\n",
      "\u001b[0;31mLength:\u001b[0m      5\n",
      "\u001b[0;31mDocstring:\u001b[0m  \n",
      "Built-in mutable sequence.\n",
      "\n",
      "If no argument is given, the constructor creates a new empty list.\n",
      "The argument must be an iterable if specified."
     ]
    }
   ],
   "source": [
    "canasta?"
   ]
  },
  {
   "cell_type": "markdown",
   "metadata": {},
   "source": [
    "Hay ocasiones en las que la documentación de una función es suficiente ambigua\n",
    "como para que merite una consulta más detallada.\n",
    "En estos casos, el doble signo de interrogación `??` te mostrará el código\n",
    "fuente del objeto en cuestión."
   ]
  },
  {
   "cell_type": "code",
   "execution_count": 8,
   "metadata": {},
   "outputs": [],
   "source": [
    "# Creamos una función en Python con una documentación ambigua\n",
    "def lel(datos):\n",
    "    \"\"\"Aplica la transformación a los datos\"\"\"  # Casos de la vida real :(\n",
    "    datos = datos**2 + 1\n",
    "    return datos"
   ]
  },
  {
   "cell_type": "code",
   "execution_count": 9,
   "metadata": {},
   "outputs": [
    {
     "name": "stdout",
     "output_type": "stream",
     "text": [
      "\u001b[0;31mSignature:\u001b[0m \u001b[0mlel\u001b[0m\u001b[0;34m(\u001b[0m\u001b[0mdatos\u001b[0m\u001b[0;34m)\u001b[0m\u001b[0;34m\u001b[0m\u001b[0;34m\u001b[0m\u001b[0m\n",
      "\u001b[0;31mDocstring:\u001b[0m Aplica la transformación a los datos\n",
      "\u001b[0;31mFile:\u001b[0m      /tmp/ipykernel_16481/734126753.py\n",
      "\u001b[0;31mType:\u001b[0m      function"
     ]
    }
   ],
   "source": [
    "?lel"
   ]
  },
  {
   "cell_type": "code",
   "execution_count": 10,
   "metadata": {},
   "outputs": [
    {
     "name": "stdout",
     "output_type": "stream",
     "text": [
      "\u001b[0;31mSignature:\u001b[0m \u001b[0mlel\u001b[0m\u001b[0;34m(\u001b[0m\u001b[0mdatos\u001b[0m\u001b[0;34m)\u001b[0m\u001b[0;34m\u001b[0m\u001b[0;34m\u001b[0m\u001b[0m\n",
      "\u001b[0;31mSource:\u001b[0m   \n",
      "\u001b[0;32mdef\u001b[0m \u001b[0mlel\u001b[0m\u001b[0;34m(\u001b[0m\u001b[0mdatos\u001b[0m\u001b[0;34m)\u001b[0m\u001b[0;34m:\u001b[0m\u001b[0;34m\u001b[0m\n",
      "\u001b[0;34m\u001b[0m    \u001b[0;34m\"\"\"Aplica la transformación a los datos\"\"\"\u001b[0m  \u001b[0;31m# Casos de la vida real :(\u001b[0m\u001b[0;34m\u001b[0m\n",
      "\u001b[0;34m\u001b[0m    \u001b[0mdatos\u001b[0m \u001b[0;34m=\u001b[0m \u001b[0mdatos\u001b[0m\u001b[0;34m**\u001b[0m\u001b[0;36m2\u001b[0m \u001b[0;34m+\u001b[0m \u001b[0;36m1\u001b[0m\u001b[0;34m\u001b[0m\n",
      "\u001b[0;34m\u001b[0m    \u001b[0;32mreturn\u001b[0m \u001b[0mdatos\u001b[0m\u001b[0;34m\u001b[0m\u001b[0;34m\u001b[0m\u001b[0m\n",
      "\u001b[0;31mFile:\u001b[0m      /tmp/ipykernel_16481/734126753.py\n",
      "\u001b[0;31mType:\u001b[0m      function"
     ]
    }
   ],
   "source": [
    "??lel"
   ]
  },
  {
   "cell_type": "markdown",
   "metadata": {},
   "source": [
    "### 1.2 Autocompletado"
   ]
  },
  {
   "cell_type": "markdown",
   "metadata": {},
   "source": [
    "No importa si usas Jupyter o un entorno de desarrollo estándar, el\n",
    "autocompletado es una herramienta muy útil para explorar las capacidades de\n",
    "un objeto.\n",
    "\n",
    "- En Jupyter, puedes presionar la tecla `TAB`\n",
    "- En Visual Studio Code, puedes presionar `CTRL` + `ESPACIO`"
   ]
  },
  {
   "cell_type": "markdown",
   "metadata": {},
   "source": [
    "Prueba esto: escribe `canasta.` en una celda de código y presiona `TAB` (si usas\n",
    "Jupyter) o `CTRL` + `ESPACIO` (si usas Visual Studio Code) para ver una lista de\n",
    "los métodos y atributos del objeto `canasta`."
   ]
  },
  {
   "cell_type": "code",
   "execution_count": null,
   "metadata": {},
   "outputs": [],
   "source": []
  },
  {
   "cell_type": "markdown",
   "metadata": {},
   "source": [
    "Si más o menos recuerdas el nombre de un método o atributo, pero no estás seguro\n",
    "de la ortografía, puedes solicitar a Juptyer que busque todas las coincidencias\n",
    "posibles mediante el comodín `*`."
   ]
  },
  {
   "cell_type": "code",
   "execution_count": 11,
   "metadata": {},
   "outputs": [
    {
     "name": "stdout",
     "output_type": "stream",
     "text": [
      "canasta.remove\n",
      "canasta.reverse"
     ]
    }
   ],
   "source": [
    "# Listar los métodos de la canasta que inician con \"re\"\n",
    "canasta.re*?"
   ]
  },
  {
   "cell_type": "code",
   "execution_count": 12,
   "metadata": {},
   "outputs": [
    {
     "name": "stdout",
     "output_type": "stream",
     "text": [
      "canasta.append\n",
      "canasta.extend"
     ]
    }
   ],
   "source": [
    "# Listar los métodos de la canasta que terminan con \"nd\"\n",
    "canasta.*nd?"
   ]
  },
  {
   "cell_type": "markdown",
   "metadata": {},
   "source": [
    "### 1.2 Los métodos mágicos"
   ]
  },
  {
   "cell_type": "markdown",
   "metadata": {},
   "source": [
    "Jupyter admite *comandos mágicos* que permiten realizar tareas específicas como\n",
    "medir el tiempo de ejecución de una celda o ejecutar un comando externo."
   ]
  },
  {
   "cell_type": "code",
   "execution_count": 13,
   "metadata": {},
   "outputs": [],
   "source": [
    "# Cómo crear una lista de números al cuadrado más uno\n",
    "def lol(datos):\n",
    "    resultado = []\n",
    "    for i in datos:\n",
    "        resultado.append(i**2 + 1)\n",
    "    return resultado"
   ]
  },
  {
   "cell_type": "markdown",
   "metadata": {},
   "source": [
    "El comando mágico `%%timeit` mide el tiempo de ejecución de una celda de código\n",
    "de manera estadística.\n",
    "El resultado es una estimación del tiempo que tarda en ejecutarse la celda en\n",
    "la forma $\\mu \\pm \\sigma$ donde $\\mu$ es el tiempo promedio y $\\sigma$ es la\n",
    "desviación estándar."
   ]
  },
  {
   "cell_type": "code",
   "execution_count": 14,
   "metadata": {},
   "outputs": [
    {
     "name": "stdout",
     "output_type": "stream",
     "text": [
      "1.92 µs ± 92.5 ns per loop (mean ± std. dev. of 7 runs, 100,000 loops each)\n"
     ]
    }
   ],
   "source": [
    "%%timeit\n",
    "resultado = lol([1,2,3,4,5])"
   ]
  },
  {
   "cell_type": "code",
   "execution_count": 15,
   "metadata": {},
   "outputs": [],
   "source": [
    "datos = [1,2,3,4,5]"
   ]
  },
  {
   "cell_type": "code",
   "execution_count": 16,
   "metadata": {},
   "outputs": [
    {
     "name": "stdout",
     "output_type": "stream",
     "text": [
      "2.36 µs ± 368 ns per loop (mean ± std. dev. of 7 runs, 1,000,000 loops each)\n"
     ]
    }
   ],
   "source": [
    "%%timeit\n",
    "resultado = [i**2 + 1 for i in datos]"
   ]
  },
  {
   "cell_type": "markdown",
   "metadata": {},
   "source": [
    "El comando mágico `%lsmagic` muestra una lista de todos los comandos mágicos\n",
    "disponibles."
   ]
  },
  {
   "cell_type": "code",
   "execution_count": 17,
   "metadata": {},
   "outputs": [
    {
     "data": {
      "application/json": {
       "cell": {
        "!": "OSMagics",
        "HTML": "Other",
        "SVG": "Other",
        "bash": "Other",
        "capture": "ExecutionMagics",
        "code_wrap": "ExecutionMagics",
        "debug": "ExecutionMagics",
        "file": "Other",
        "html": "DisplayMagics",
        "javascript": "DisplayMagics",
        "js": "DisplayMagics",
        "latex": "DisplayMagics",
        "markdown": "DisplayMagics",
        "perl": "Other",
        "prun": "ExecutionMagics",
        "pypy": "Other",
        "python": "Other",
        "python2": "Other",
        "python3": "Other",
        "ruby": "Other",
        "script": "ScriptMagics",
        "sh": "Other",
        "svg": "DisplayMagics",
        "sx": "OSMagics",
        "system": "OSMagics",
        "time": "ExecutionMagics",
        "timeit": "ExecutionMagics",
        "writefile": "OSMagics"
       },
       "line": {
        "alias": "OSMagics",
        "alias_magic": "BasicMagics",
        "autoawait": "AsyncMagics",
        "autocall": "AutoMagics",
        "automagic": "AutoMagics",
        "autosave": "KernelMagics",
        "bookmark": "OSMagics",
        "cat": "Other",
        "cd": "OSMagics",
        "clear": "KernelMagics",
        "code_wrap": "ExecutionMagics",
        "colors": "BasicMagics",
        "conda": "PackagingMagics",
        "config": "ConfigMagics",
        "connect_info": "KernelMagics",
        "cp": "Other",
        "debug": "ExecutionMagics",
        "dhist": "OSMagics",
        "dirs": "OSMagics",
        "doctest_mode": "BasicMagics",
        "ed": "Other",
        "edit": "KernelMagics",
        "env": "OSMagics",
        "gui": "BasicMagics",
        "hist": "Other",
        "history": "HistoryMagics",
        "killbgscripts": "ScriptMagics",
        "ldir": "Other",
        "less": "KernelMagics",
        "lf": "Other",
        "lk": "Other",
        "ll": "Other",
        "load": "CodeMagics",
        "load_ext": "ExtensionMagics",
        "loadpy": "CodeMagics",
        "logoff": "LoggingMagics",
        "logon": "LoggingMagics",
        "logstart": "LoggingMagics",
        "logstate": "LoggingMagics",
        "logstop": "LoggingMagics",
        "ls": "Other",
        "lsmagic": "BasicMagics",
        "lx": "Other",
        "macro": "ExecutionMagics",
        "magic": "BasicMagics",
        "mamba": "PackagingMagics",
        "man": "KernelMagics",
        "matplotlib": "PylabMagics",
        "micromamba": "PackagingMagics",
        "mkdir": "Other",
        "more": "KernelMagics",
        "mv": "Other",
        "notebook": "BasicMagics",
        "page": "BasicMagics",
        "pastebin": "CodeMagics",
        "pdb": "ExecutionMagics",
        "pdef": "NamespaceMagics",
        "pdoc": "NamespaceMagics",
        "pfile": "NamespaceMagics",
        "pinfo": "NamespaceMagics",
        "pinfo2": "NamespaceMagics",
        "pip": "PackagingMagics",
        "popd": "OSMagics",
        "pprint": "BasicMagics",
        "precision": "BasicMagics",
        "prun": "ExecutionMagics",
        "psearch": "NamespaceMagics",
        "psource": "NamespaceMagics",
        "pushd": "OSMagics",
        "pwd": "OSMagics",
        "pycat": "OSMagics",
        "pylab": "PylabMagics",
        "qtconsole": "KernelMagics",
        "quickref": "BasicMagics",
        "recall": "HistoryMagics",
        "rehashx": "OSMagics",
        "reload_ext": "ExtensionMagics",
        "rep": "Other",
        "rerun": "HistoryMagics",
        "reset": "NamespaceMagics",
        "reset_selective": "NamespaceMagics",
        "rm": "Other",
        "rmdir": "Other",
        "run": "ExecutionMagics",
        "save": "CodeMagics",
        "sc": "OSMagics",
        "set_env": "OSMagics",
        "store": "StoreMagics",
        "sx": "OSMagics",
        "system": "OSMagics",
        "tb": "ExecutionMagics",
        "time": "ExecutionMagics",
        "timeit": "ExecutionMagics",
        "unalias": "OSMagics",
        "unload_ext": "ExtensionMagics",
        "who": "NamespaceMagics",
        "who_ls": "NamespaceMagics",
        "whos": "NamespaceMagics",
        "xdel": "NamespaceMagics",
        "xmode": "BasicMagics"
       }
      },
      "text/plain": [
       "Available line magics:\n",
       "%alias  %alias_magic  %autoawait  %autocall  %automagic  %autosave  %bookmark  %cat  %cd  %clear  %code_wrap  %colors  %conda  %config  %connect_info  %cp  %debug  %dhist  %dirs  %doctest_mode  %ed  %edit  %env  %gui  %hist  %history  %killbgscripts  %ldir  %less  %lf  %lk  %ll  %load  %load_ext  %loadpy  %logoff  %logon  %logstart  %logstate  %logstop  %ls  %lsmagic  %lx  %macro  %magic  %mamba  %man  %matplotlib  %micromamba  %mkdir  %more  %mv  %notebook  %page  %pastebin  %pdb  %pdef  %pdoc  %pfile  %pinfo  %pinfo2  %pip  %popd  %pprint  %precision  %prun  %psearch  %psource  %pushd  %pwd  %pycat  %pylab  %qtconsole  %quickref  %recall  %rehashx  %reload_ext  %rep  %rerun  %reset  %reset_selective  %rm  %rmdir  %run  %save  %sc  %set_env  %store  %sx  %system  %tb  %time  %timeit  %unalias  %unload_ext  %who  %who_ls  %whos  %xdel  %xmode\n",
       "\n",
       "Available cell magics:\n",
       "%%!  %%HTML  %%SVG  %%bash  %%capture  %%code_wrap  %%debug  %%file  %%html  %%javascript  %%js  %%latex  %%markdown  %%perl  %%prun  %%pypy  %%python  %%python2  %%python3  %%ruby  %%script  %%sh  %%svg  %%sx  %%system  %%time  %%timeit  %%writefile\n",
       "\n",
       "Automagic is ON, % prefix IS NOT needed for line magics."
      ]
     },
     "execution_count": 17,
     "metadata": {},
     "output_type": "execute_result"
    }
   ],
   "source": [
    "%lsmagic"
   ]
  },
  {
   "cell_type": "markdown",
   "metadata": {},
   "source": [
    "Una de las extensiones más útiles de Jupyter sirve para medir el tiempo de\n",
    "ejecución de cada línea de código."
   ]
  },
  {
   "cell_type": "code",
   "execution_count": 18,
   "metadata": {},
   "outputs": [],
   "source": [
    "%load_ext line_profiler"
   ]
  },
  {
   "cell_type": "code",
   "execution_count": 19,
   "metadata": {},
   "outputs": [
    {
     "name": "stdout",
     "output_type": "stream",
     "text": [
      "Timer unit: 1e-09 s\n",
      "\n",
      "Total time: 12.5804 s\n",
      "File: /tmp/ipykernel_16481/384297603.py\n",
      "Function: fib at line 1\n",
      "\n",
      "Line #      Hits         Time  Per Hit   % Time  Line Contents\n",
      "==============================================================\n",
      "     1                                           def fib(n):\n",
      "     2   7049155 5673131540.0    804.8     45.1      if n <= 1:\n",
      "     3   3524578 2341418413.0    664.3     18.6          return n\n",
      "     4   3524577 4565810848.0   1295.4     36.3      return fib(n - 1) + fib(n - 2)"
     ]
    }
   ],
   "source": [
    "def fib(n):\n",
    "    if n <= 1:\n",
    "        return n\n",
    "    return fib(n - 1) + fib(n - 2)\n",
    "\n",
    "%lprun -f fib fib(32)"
   ]
  },
  {
   "cell_type": "markdown",
   "metadata": {},
   "source": [
    "### 1.3 Consultar resultados anteriores"
   ]
  },
  {
   "cell_type": "code",
   "execution_count": 20,
   "metadata": {},
   "outputs": [
    {
     "data": {
      "text/plain": [
       "297375045100143702841578367799709293826139208853006430932343970134065436351152558678355655740402187385865780093146238350007089320137328407837109303292090266922556142369502103548045780289266010953021947509493984383803789717644293689268443751847857972124763568195917812768293964802696992146141791250515645103238469415167116664930161931888821892016357217509504353841298997170808176580706796928927009023834975181838338900511662348484776970729126781964003242306832361795917790819656826139675339324568479867671216203195432969310941944489163754202497402540471996031930077408350348601598906103854805347888534951371144944391905068973281488783863109223927172849785036939165308160433310108223542006149224543977691922829065334922464103681950400086919239710912242247023562195387413804769999963429371468727611877756335629773157000183177000117493375959233480777752443148899788710330149630498555048567194524920692315185114494355581640824535659564498946429600881999225005084799488845219188512342639569857282645807773033042791671620375521448916753734209466773452126311145964346854746379888288768812761525431395556773134835089336127900749231379900741674837493407148881239135158265135926067153937792678406255547981960422528605485383640282614972896063623677622865646096548040674507157415826954634019884523335843920983338706904569085117904824694165944977632045790458798356941331092227942268459240236683321805107387340488243844128829431026454979557005991371288805501102295497661395801493990769221922731106506038686015947326161456506476501847296107949036105220211205016112257562032404148850529613608902396006770622865352975366195782210061348384495790417627244326617519877771310055719733884751310114365576078547296225532279539211642576230875390479755046262354282099993080977297009536290379596538271932414016746712831291423107567901366042900392981385164872968324197649968468884655396502245697178077086178570706812257851420944060038281784727274249543915390721265629539785317003269579058821112745248296436469216894194234852623022525039567095662276177096415666674724592657156390742250347125995076348746608889327874182498554718351076009837183494842347308796814499118894675049283388449208916200009710546486340138796335026317483095442266622821183613080215417893882212724873134925452304650120941373072210017019203299987971122486477461392688133907992653359379051876916608889207762110736190955130419930779053311042797639793301891067193459429933261960190415884995095942133272003740986344189107908789779633141288620533125615920659065701169851092212439946386331438181470209329442006622989088941331113071740771084306423030240864114610355985028772036979365148884913263983869436537471656574339838339263989995502774278404631320687837091449407891300592628634119252803410888986726682853376"
      ]
     },
     "execution_count": 20,
     "metadata": {},
     "output_type": "execute_result"
    }
   ],
   "source": [
    "2761834761897461982376**128"
   ]
  },
  {
   "cell_type": "code",
   "execution_count": 21,
   "metadata": {},
   "outputs": [
    {
     "data": {
      "text/plain": [
       "148687522550071851420789183899854646913069604426503215466171985067032718175576279339177827870201093692932890046573119175003544660068664203918554651646045133461278071184751051774022890144633005476510973754746992191901894858822146844634221875923928986062381784097958906384146982401348496073070895625257822551619234707583558332465080965944410946008178608754752176920649498585404088290353398464463504511917487590919169450255831174242388485364563390982001621153416180897958895409828413069837669662284239933835608101597716484655470972244581877101248701270235998015965038704175174300799453051927402673944267475685572472195952534486640744391931554611963586424892518469582654080216655054111771003074612271988845961414532667461232051840975200043459619855456121123511781097693706902384999981714685734363805938878167814886578500091588500058746687979616740388876221574449894355165074815249277524283597262460346157592557247177790820412267829782249473214800440999612502542399744422609594256171319784928641322903886516521395835810187760724458376867104733386726063155572982173427373189944144384406380762715697778386567417544668063950374615689950370837418746703574440619567579132567963033576968896339203127773990980211264302742691820141307486448031811838811432823048274020337253578707913477317009942261667921960491669353452284542558952412347082972488816022895229399178470665546113971134229620118341660902553693670244121922064414715513227489778502995685644402750551147748830697900746995384610961365553253019343007973663080728253238250923648053974518052610105602508056128781016202074425264806804451198003385311432676487683097891105030674192247895208813622163308759938885655027859866942375655057182788039273648112766139769605821288115437695239877523131177141049996540488648504768145189798269135966207008373356415645711553783950683021450196490692582436484162098824984234442327698251122848589038543089285353406128925710472030019140892363637124771957695360632814769892658501634789529410556372624148218234608447097117426311511262519783547831138088548207833337362296328578195371125173562997538174373304444663937091249277359175538004918591747421173654398407249559447337524641694224604458100004855273243170069398167513158741547721133311410591806540107708946941106362436567462726152325060470686536105008509601649993985561243238730696344066953996326679689525938458304444603881055368095477565209965389526655521398819896650945533596729714966630980095207942497547971066636001870493172094553954394889816570644310266562807960329532850584925546106219973193165719090735104664721003311494544470665556535870385542153211515120432057305177992514386018489682574442456631991934718268735828287169919169631994997751387139202315660343918545724703945650296314317059626401705444493363341426688"
      ]
     },
     "execution_count": 21,
     "metadata": {},
     "output_type": "execute_result"
    }
   ],
   "source": [
    "_//2"
   ]
  },
  {
   "cell_type": "code",
   "execution_count": 22,
   "metadata": {},
   "outputs": [
    {
     "data": {
      "text/plain": [
       "\"def fib(n):\\n    if n <= 1:\\n        return n\\n    return fib(n - 1) + fib(n - 2)\\n\\nget_ipython().run_line_magic('lprun', '-f fib fib(32)')\""
      ]
     },
     "execution_count": 22,
     "metadata": {},
     "output_type": "execute_result"
    }
   ],
   "source": [
    "In[19]"
   ]
  },
  {
   "cell_type": "code",
   "execution_count": 23,
   "metadata": {},
   "outputs": [
    {
     "data": {
      "text/plain": [
       "297375045100143702841578367799709293826139208853006430932343970134065436351152558678355655740402187385865780093146238350007089320137328407837109303292090266922556142369502103548045780289266010953021947509493984383803789717644293689268443751847857972124763568195917812768293964802696992146141791250515645103238469415167116664930161931888821892016357217509504353841298997170808176580706796928927009023834975181838338900511662348484776970729126781964003242306832361795917790819656826139675339324568479867671216203195432969310941944489163754202497402540471996031930077408350348601598906103854805347888534951371144944391905068973281488783863109223927172849785036939165308160433310108223542006149224543977691922829065334922464103681950400086919239710912242247023562195387413804769999963429371468727611877756335629773157000183177000117493375959233480777752443148899788710330149630498555048567194524920692315185114494355581640824535659564498946429600881999225005084799488845219188512342639569857282645807773033042791671620375521448916753734209466773452126311145964346854746379888288768812761525431395556773134835089336127900749231379900741674837493407148881239135158265135926067153937792678406255547981960422528605485383640282614972896063623677622865646096548040674507157415826954634019884523335843920983338706904569085117904824694165944977632045790458798356941331092227942268459240236683321805107387340488243844128829431026454979557005991371288805501102295497661395801493990769221922731106506038686015947326161456506476501847296107949036105220211205016112257562032404148850529613608902396006770622865352975366195782210061348384495790417627244326617519877771310055719733884751310114365576078547296225532279539211642576230875390479755046262354282099993080977297009536290379596538271932414016746712831291423107567901366042900392981385164872968324197649968468884655396502245697178077086178570706812257851420944060038281784727274249543915390721265629539785317003269579058821112745248296436469216894194234852623022525039567095662276177096415666674724592657156390742250347125995076348746608889327874182498554718351076009837183494842347308796814499118894675049283388449208916200009710546486340138796335026317483095442266622821183613080215417893882212724873134925452304650120941373072210017019203299987971122486477461392688133907992653359379051876916608889207762110736190955130419930779053311042797639793301891067193459429933261960190415884995095942133272003740986344189107908789779633141288620533125615920659065701169851092212439946386331438181470209329442006622989088941331113071740771084306423030240864114610355985028772036979365148884913263983869436537471656574339838339263989995502774278404631320687837091449407891300592628634119252803410888986726682853376"
      ]
     },
     "execution_count": 23,
     "metadata": {},
     "output_type": "execute_result"
    }
   ],
   "source": [
    "Out[20]"
   ]
  },
  {
   "cell_type": "markdown",
   "metadata": {},
   "source": [
    "## 2. Manipulación de datos con NumPy"
   ]
  },
  {
   "cell_type": "markdown",
   "metadata": {},
   "source": [
    "**Numpy** es la biblioteca estándar *de facto* para el procesamiento de datos\n",
    "numéricos en Python.\n",
    "Para ver por qué necesitamos NumPy en nuestras vidas, considera el siguiente\n",
    "ejemplo."
   ]
  },
  {
   "cell_type": "code",
   "execution_count": 24,
   "metadata": {},
   "outputs": [],
   "source": [
    "# Creando una matriz con listas de Python:\n",
    "arr = [1,2,3,4,5]"
   ]
  },
  {
   "cell_type": "code",
   "execution_count": 25,
   "metadata": {},
   "outputs": [
    {
     "name": "stdout",
     "output_type": "stream",
     "text": [
      "244\n"
     ]
    }
   ],
   "source": [
    "tam = sys.getsizeof(arr)\n",
    "tam += sum(sys.getsizeof(x) for x in arr)\n",
    "print(tam)"
   ]
  },
  {
   "cell_type": "code",
   "execution_count": 26,
   "metadata": {},
   "outputs": [
    {
     "name": "stdout",
     "output_type": "stream",
     "text": [
      "[[1, 2, 3], [4, 5, 6], [7, 8, 9]]\n"
     ]
    }
   ],
   "source": [
    "arr = [[1,2,3], [4,5,6], [7,8,9]]\n",
    "print(arr)"
   ]
  },
  {
   "cell_type": "code",
   "execution_count": 27,
   "metadata": {},
   "outputs": [
    {
     "data": {
      "text/plain": [
       "[4, 5, 6]"
      ]
     },
     "execution_count": 27,
     "metadata": {},
     "output_type": "execute_result"
    }
   ],
   "source": [
    "arr[1]"
   ]
  },
  {
   "cell_type": "code",
   "execution_count": 28,
   "metadata": {},
   "outputs": [
    {
     "data": {
      "text/plain": [
       "4"
      ]
     },
     "execution_count": 28,
     "metadata": {},
     "output_type": "execute_result"
    }
   ],
   "source": [
    "arr[1][0]"
   ]
  },
  {
   "cell_type": "code",
   "execution_count": 29,
   "metadata": {},
   "outputs": [
    {
     "name": "stdout",
     "output_type": "stream",
     "text": [
      "[[1, 2, 3], [4.1, 5, 6], [7, 8, 9]]\n"
     ]
    }
   ],
   "source": [
    "i, j = 1, 0\n",
    "arr[i][j] += 0.1\n",
    "\n",
    "print(arr)"
   ]
  },
  {
   "cell_type": "code",
   "execution_count": 30,
   "metadata": {},
   "outputs": [
    {
     "name": "stdout",
     "output_type": "stream",
     "text": [
      "[[1.1, 2.1, 3.1], [4.199999999999999, 5.1, 6.1], [7.1, 8.1, 9.1]]\n"
     ]
    }
   ],
   "source": [
    "# Sumar 0.1 a cada elemento de la matriz:\n",
    "for i in range(3):\n",
    "    for j in range(3):\n",
    "        arr[i][j] += 0.1\n",
    "print(arr)"
   ]
  },
  {
   "cell_type": "code",
   "execution_count": 31,
   "metadata": {},
   "outputs": [
    {
     "name": "stdout",
     "output_type": "stream",
     "text": [
      "[2, 5, 8]\n"
     ]
    }
   ],
   "source": [
    "arr = [[1, 2, 3], [4.1, 5, 6], [7, 8, 9]]\n",
    "# Obtener la columna 1 de la matriz:\n",
    "col = [ren[1] for ren in arr]\n",
    "print(col)"
   ]
  },
  {
   "cell_type": "code",
   "execution_count": 32,
   "metadata": {},
   "outputs": [
    {
     "name": "stdout",
     "output_type": "stream",
     "text": [
      "[[0, 0, 0], [0, 0, 0], [0, 0, 0]]\n"
     ]
    }
   ],
   "source": [
    "# Crear una matriz de ceros\n",
    "A = [[0] * 3 for i in range(3)]\n",
    "print(A)"
   ]
  },
  {
   "cell_type": "code",
   "execution_count": 33,
   "metadata": {},
   "outputs": [
    {
     "name": "stdout",
     "output_type": "stream",
     "text": [
      "[[0, 0, 0], [0, 1, 0], [0, 0, 0]]\n"
     ]
    }
   ],
   "source": [
    "A[1][1] = 1\n",
    "print(A)"
   ]
  },
  {
   "cell_type": "code",
   "execution_count": 34,
   "metadata": {},
   "outputs": [
    {
     "name": "stdout",
     "output_type": "stream",
     "text": [
      "[[30, 36, 42], [66, 81, 96], [102, 126, 150]]\n"
     ]
    }
   ],
   "source": [
    "# Elevar la matriz al cuadrado:\n",
    "A = [[1,2,3], [4,5,6], [7,8,9]]\n",
    "\n",
    "resultado = [[0]*3 for i in range(3)]\n",
    "for i in range(3):\n",
    "    for j in range(3):\n",
    "        resultado[i][j] = sum(A[i][k]* A[k][j] for k in range(3))\n",
    "\n",
    "print(resultado)"
   ]
  },
  {
   "cell_type": "code",
   "execution_count": 35,
   "metadata": {},
   "outputs": [
    {
     "name": "stdout",
     "output_type": "stream",
     "text": [
      "596\n"
     ]
    }
   ],
   "source": [
    "# Estimando el tamaño de la matriz en bytes:\n",
    "tam = sys.getsizeof(A)\n",
    "tam += sum(sys.getsizeof(reng) for reng in A)\n",
    "tam += sum(sys.getsizeof(x) for reng in A for x in reng)\n",
    "print(tam)"
   ]
  },
  {
   "cell_type": "code",
   "execution_count": 36,
   "metadata": {},
   "outputs": [],
   "source": [
    "# Usando el módulo `array` de Python:\n",
    "from array import array"
   ]
  },
  {
   "cell_type": "code",
   "execution_count": 37,
   "metadata": {},
   "outputs": [
    {
     "name": "stdout",
     "output_type": "stream",
     "text": [
      "\u001b[0;31mInit signature:\u001b[0m \u001b[0marray\u001b[0m\u001b[0;34m(\u001b[0m\u001b[0mself\u001b[0m\u001b[0;34m,\u001b[0m \u001b[0;34m/\u001b[0m\u001b[0;34m,\u001b[0m \u001b[0;34m*\u001b[0m\u001b[0margs\u001b[0m\u001b[0;34m,\u001b[0m \u001b[0;34m**\u001b[0m\u001b[0mkwargs\u001b[0m\u001b[0;34m)\u001b[0m\u001b[0;34m\u001b[0m\u001b[0;34m\u001b[0m\u001b[0m\n",
      "\u001b[0;31mDocstring:\u001b[0m     \n",
      "array(typecode [, initializer]) -> array\n",
      "\n",
      "Return a new array whose items are restricted by typecode, and\n",
      "initialized from the optional initializer value, which must be a list,\n",
      "string or iterable over elements of the appropriate type.\n",
      "\n",
      "Arrays represent basic values and behave very much like lists, except\n",
      "the type of objects stored in them is constrained. The type is specified\n",
      "at object creation time by using a type code, which is a single character.\n",
      "The following type codes are defined:\n",
      "\n",
      "    Type code   C Type             Minimum size in bytes\n",
      "    'b'         signed integer     1\n",
      "    'B'         unsigned integer   1\n",
      "    'u'         Unicode character  2 (see note)\n",
      "    'h'         signed integer     2\n",
      "    'H'         unsigned integer   2\n",
      "    'i'         signed integer     2\n",
      "    'I'         unsigned integer   2\n",
      "    'l'         signed integer     4\n",
      "    'L'         unsigned integer   4\n",
      "    'q'         signed integer     8 (see note)\n",
      "    'Q'         unsigned integer   8 (see note)\n",
      "    'f'         floating point     4\n",
      "    'd'         floating point     8\n",
      "\n",
      "NOTE: The 'u' typecode corresponds to Python's unicode character. On\n",
      "narrow builds this is 2-bytes on wide builds this is 4-bytes.\n",
      "\n",
      "NOTE: The 'q' and 'Q' type codes are only available if the platform\n",
      "C compiler used to build Python supports 'long long', or, on Windows,\n",
      "'__int64'.\n",
      "\n",
      "Methods:\n",
      "\n",
      "append() -- append a new item to the end of the array\n",
      "buffer_info() -- return information giving the current memory info\n",
      "byteswap() -- byteswap all the items of the array\n",
      "count() -- return number of occurrences of an object\n",
      "extend() -- extend array by appending multiple elements from an iterable\n",
      "fromfile() -- read items from a file object\n",
      "fromlist() -- append items from the list\n",
      "frombytes() -- append items from the string\n",
      "index() -- return index of first occurrence of an object\n",
      "insert() -- insert a new item into the array at a provided position\n",
      "pop() -- remove and return item (default last)\n",
      "remove() -- remove first occurrence of an object\n",
      "reverse() -- reverse the order of the items in the array\n",
      "tofile() -- write all items to a file object\n",
      "tolist() -- return the array converted to an ordinary list\n",
      "tobytes() -- return the array converted to a string\n",
      "\n",
      "Attributes:\n",
      "\n",
      "typecode -- the typecode character used to create the array\n",
      "itemsize -- the length in bytes of one array item\n",
      "\u001b[0;31mFile:\u001b[0m           /usr/local/lib/python3.11/lib-dynload/array.cpython-311-x86_64-linux-gnu.so\n",
      "\u001b[0;31mType:\u001b[0m           type\n",
      "\u001b[0;31mSubclasses:\u001b[0m     "
     ]
    }
   ],
   "source": [
    "?array"
   ]
  },
  {
   "cell_type": "code",
   "execution_count": 38,
   "metadata": {},
   "outputs": [
    {
     "data": {
      "text/plain": [
       "array('b', [1, 2, 3, 4, 5, 127, -128])"
      ]
     },
     "execution_count": 38,
     "metadata": {},
     "output_type": "execute_result"
    }
   ],
   "source": [
    "# Ejemplo de array de enteros de un byte\n",
    "array('b', [1,2,3,4,5, 127, -128])"
   ]
  },
  {
   "cell_type": "code",
   "execution_count": 39,
   "metadata": {},
   "outputs": [
    {
     "data": {
      "text/plain": [
       "array('f', [1.0, 2.0, 3.0, 4.0, 5.0, 127.0, -128.0])"
      ]
     },
     "execution_count": 39,
     "metadata": {},
     "output_type": "execute_result"
    }
   ],
   "source": [
    "# Ejemplo de flotantes\n",
    "array('f', [1,2,3,4,5, 127, -128])"
   ]
  },
  {
   "cell_type": "code",
   "execution_count": 40,
   "metadata": {},
   "outputs": [
    {
     "name": "stdout",
     "output_type": "stream",
     "text": [
      "[array('f', [1.100000023841858, 2.0999999046325684, 3.0999999046325684]), array('f', [4.099999904632568, 5.099999904632568, 6.099999904632568]), array('f', [7.099999904632568, 8.100000381469727, 9.100000381469727])]\n"
     ]
    }
   ],
   "source": [
    "# Sumar 0.1 a cada entrada (otra vez)\n",
    "arr = [array(\"f\", [1, 2, 3]), array(\"f\", [4, 5, 6]), array(\"f\", [7, 8, 9])]\n",
    "for i in range(3):\n",
    "    for j in range(3):\n",
    "        arr[i][j] += 0.1\n",
    "print(arr)"
   ]
  },
  {
   "cell_type": "code",
   "execution_count": 41,
   "metadata": {},
   "outputs": [
    {
     "name": "stdout",
     "output_type": "stream",
     "text": [
      "329\n"
     ]
    }
   ],
   "source": [
    "arr = [array(\"b\", [1, 2, 3]), array(\"b\", [4, 5, 6]), array(\"b\", [7, 8, 9])]\n",
    "tam = sys.getsizeof(arr)\n",
    "tam += sum(sys.getsizeof(ren) for ren in arr)\n",
    "print(tam)\n"
   ]
  },
  {
   "cell_type": "markdown",
   "metadata": {},
   "source": [
    "### 2.1 Creación de arreglos"
   ]
  },
  {
   "cell_type": "code",
   "execution_count": 42,
   "metadata": {},
   "outputs": [],
   "source": [
    "import numpy as np"
   ]
  },
  {
   "cell_type": "code",
   "execution_count": 43,
   "metadata": {},
   "outputs": [
    {
     "name": "stdout",
     "output_type": "stream",
     "text": [
      "[[1 2 3]\n",
      " [4 5 6]\n",
      " [7 8 9]]\n"
     ]
    }
   ],
   "source": [
    "# Conversión de listas a arreglos:\n",
    "arr = np.array([[1,2,3],[4,5,6],[7,8,9]])\n",
    "print(arr)"
   ]
  },
  {
   "cell_type": "code",
   "execution_count": 44,
   "metadata": {},
   "outputs": [
    {
     "data": {
      "text/plain": [
       "dtype('int64')"
      ]
     },
     "execution_count": 44,
     "metadata": {},
     "output_type": "execute_result"
    }
   ],
   "source": [
    "arr.dtype"
   ]
  },
  {
   "cell_type": "code",
   "execution_count": 45,
   "metadata": {},
   "outputs": [
    {
     "data": {
      "text/plain": [
       "72"
      ]
     },
     "execution_count": 45,
     "metadata": {},
     "output_type": "execute_result"
    }
   ],
   "source": [
    "arr.nbytes"
   ]
  },
  {
   "cell_type": "code",
   "execution_count": 46,
   "metadata": {},
   "outputs": [
    {
     "data": {
      "text/plain": [
       "array([0., 0., 0., 0., 0., 0., 0., 0., 0., 0.])"
      ]
     },
     "execution_count": 46,
     "metadata": {},
     "output_type": "execute_result"
    }
   ],
   "source": [
    "# Creación de arreglos en ceros:\n",
    "np.zeros(10)\n"
   ]
  },
  {
   "cell_type": "code",
   "execution_count": 47,
   "metadata": {},
   "outputs": [
    {
     "data": {
      "text/plain": [
       "array([0, 0, 0, 0, 0, 0, 0, 0, 0, 0], dtype=int16)"
      ]
     },
     "execution_count": 47,
     "metadata": {},
     "output_type": "execute_result"
    }
   ],
   "source": [
    "np.zeros(10, dtype=np.int16)\n"
   ]
  },
  {
   "cell_type": "code",
   "execution_count": 48,
   "metadata": {},
   "outputs": [
    {
     "data": {
      "text/plain": [
       "array([[0, 0, 0, 0, 0],\n",
       "       [0, 0, 0, 0, 0],\n",
       "       [0, 0, 0, 0, 0],\n",
       "       [0, 0, 0, 0, 0],\n",
       "       [0, 0, 0, 0, 0]])"
      ]
     },
     "execution_count": 48,
     "metadata": {},
     "output_type": "execute_result"
    }
   ],
   "source": [
    "np.zeros((5, 5), dtype=np.int_)\n"
   ]
  },
  {
   "cell_type": "code",
   "execution_count": 69,
   "metadata": {},
   "outputs": [
    {
     "data": {
      "text/plain": [
       "array([ 0.,  1.,  2.,  3.,  4.,  5.,  6.,  7.,  8.,  9., 10.])"
      ]
     },
     "execution_count": 69,
     "metadata": {},
     "output_type": "execute_result"
    }
   ],
   "source": [
    "# Uso de linspace para crear un arreglo con elementos equiespaciados:\n",
    "np.linspace(0, 10, num=11)"
   ]
  },
  {
   "cell_type": "code",
   "execution_count": 74,
   "metadata": {},
   "outputs": [
    {
     "data": {
      "text/plain": [
       "array([[0.93981564, 0.76353272, 0.65602995, 0.83856162, 0.81965861],\n",
       "       [0.08014655, 0.58034107, 0.56749101, 0.81348429, 0.29122649],\n",
       "       [0.94441105, 0.56044843, 0.50217035, 0.13816643, 0.60913716],\n",
       "       [0.88789237, 0.64782198, 0.44710579, 0.43723768, 0.51635531],\n",
       "       [0.76787282, 0.70787802, 0.97313559, 0.80671269, 0.47136655]])"
      ]
     },
     "execution_count": 74,
     "metadata": {},
     "output_type": "execute_result"
    }
   ],
   "source": [
    "# Creación de arreglos aleatorios:\n",
    "np.random.random((5, 5))"
   ]
  },
  {
   "cell_type": "code",
   "execution_count": 76,
   "metadata": {},
   "outputs": [
    {
     "data": {
      "text/plain": [
       "-0.657152289747132"
      ]
     },
     "execution_count": 76,
     "metadata": {},
     "output_type": "execute_result"
    }
   ],
   "source": [
    "np.random.normal()"
   ]
  },
  {
   "cell_type": "code",
   "execution_count": 78,
   "metadata": {},
   "outputs": [
    {
     "data": {
      "text/plain": [
       "numpy.dtype"
      ]
     },
     "execution_count": 77,
     "metadata": {},
     "output_type": "execute_result"
    },
    {
     "name": "stdout",
     "output_type": "stream",
     "text": [
      "\u001b[0;31mInit signature:\u001b[0m \u001b[0mnp\u001b[0m\u001b[0;34m.\u001b[0m\u001b[0mdtype\u001b[0m\u001b[0;34m(\u001b[0m\u001b[0mself\u001b[0m\u001b[0;34m,\u001b[0m \u001b[0;34m/\u001b[0m\u001b[0;34m,\u001b[0m \u001b[0;34m*\u001b[0m\u001b[0margs\u001b[0m\u001b[0;34m,\u001b[0m \u001b[0;34m**\u001b[0m\u001b[0mkwargs\u001b[0m\u001b[0;34m)\u001b[0m\u001b[0;34m\u001b[0m\u001b[0;34m\u001b[0m\u001b[0m\n",
      "\u001b[0;31mDocstring:\u001b[0m     \n",
      "dtype(dtype, align=False, copy=False, [metadata])\n",
      "\n",
      "Create a data type object.\n",
      "\n",
      "A numpy array is homogeneous, and contains elements described by a\n",
      "dtype object. A dtype object can be constructed from different\n",
      "combinations of fundamental numeric types.\n",
      "\n",
      "Parameters\n",
      "----------\n",
      "dtype\n",
      "    Object to be converted to a data type object.\n",
      "align : bool, optional\n",
      "    Add padding to the fields to match what a C compiler would output\n",
      "    for a similar C-struct. Can be ``True`` only if `obj` is a dictionary\n",
      "    or a comma-separated string. If a struct dtype is being created,\n",
      "    this also sets a sticky alignment flag ``isalignedstruct``.\n",
      "copy : bool, optional\n",
      "    Make a new copy of the data-type object. If ``False``, the result\n",
      "    may just be a reference to a built-in data-type object.\n",
      "metadata : dict, optional\n",
      "    An optional dictionary with dtype metadata.\n",
      "\n",
      "See also\n",
      "--------\n",
      "result_type\n",
      "\n",
      "Examples\n",
      "--------\n",
      "Using array-scalar type:\n",
      "\n",
      ">>> np.dtype(np.int16)\n",
      "dtype('int16')\n",
      "\n",
      "Structured type, one field name 'f1', containing int16:\n",
      "\n",
      ">>> np.dtype([('f1', np.int16)])\n",
      "dtype([('f1', '<i2')])\n",
      "\n",
      "Structured type, one field named 'f1', in itself containing a structured\n",
      "type with one field:\n",
      "\n",
      ">>> np.dtype([('f1', [('f1', np.int16)])])\n",
      "dtype([('f1', [('f1', '<i2')])])\n",
      "\n",
      "Structured type, two fields: the first field contains an unsigned int, the\n",
      "second an int32:\n",
      "\n",
      ">>> np.dtype([('f1', np.uint64), ('f2', np.int32)])\n",
      "dtype([('f1', '<u8'), ('f2', '<i4')])\n",
      "\n",
      "Using array-protocol type strings:\n",
      "\n",
      ">>> np.dtype([('a','f8'),('b','S10')])\n",
      "dtype([('a', '<f8'), ('b', 'S10')])\n",
      "\n",
      "Using comma-separated field formats.  The shape is (2,3):\n",
      "\n",
      ">>> np.dtype(\"i4, (2,3)f8\")\n",
      "dtype([('f0', '<i4'), ('f1', '<f8', (2, 3))])\n",
      "\n",
      "Using tuples.  ``int`` is a fixed type, 3 the field's shape.  ``void``\n",
      "is a flexible type, here of size 10:\n",
      "\n",
      ">>> np.dtype([('hello',(np.int64,3)),('world',np.void,10)])\n",
      "dtype([('hello', '<i8', (3,)), ('world', 'V10')])\n",
      "\n",
      "Subdivide ``int16`` into 2 ``int8``'s, called x and y.  0 and 1 are\n",
      "the offsets in bytes:\n",
      "\n",
      ">>> np.dtype((np.int16, {'x':(np.int8,0), 'y':(np.int8,1)}))\n",
      "dtype((numpy.int16, [('x', 'i1'), ('y', 'i1')]))\n",
      "\n",
      "Using dictionaries.  Two fields named 'gender' and 'age':\n",
      "\n",
      ">>> np.dtype({'names':['gender','age'], 'formats':['S1',np.uint8]})\n",
      "dtype([('gender', 'S1'), ('age', 'u1')])\n",
      "\n",
      "Offsets in bytes, here 0 and 25:\n",
      "\n",
      ">>> np.dtype({'surname':('S25',0),'age':(np.uint8,25)})\n",
      "dtype([('surname', 'S25'), ('age', 'u1')])\n",
      "\u001b[0;31mFile:\u001b[0m           /workspaces/uaem.notas.prodimag/.venv/lib/python3.11/site-packages/numpy/__init__.py\n",
      "\u001b[0;31mType:\u001b[0m           _DTypeMeta\n",
      "\u001b[0;31mSubclasses:\u001b[0m     BoolDType, Int8DType, UInt8DType, Int16DType, UInt16DType, Int32DType, UInt32DType, Int64DType, UInt64DType, LongLongDType, ..."
     ]
    }
   ],
   "source": [
    "# Los tipos de datos de los arreglos en `numpy`:\n",
    "?np.dtype"
   ]
  },
  {
   "cell_type": "markdown",
   "metadata": {},
   "source": [
    "### 2.2 Acceso a elementos"
   ]
  },
  {
   "cell_type": "markdown",
   "metadata": {},
   "source": [
    "Veamos la manera en que podemos acceder a los elementos de un arreglo."
   ]
  },
  {
   "cell_type": "code",
   "execution_count": 83,
   "metadata": {},
   "outputs": [
    {
     "data": {
      "text/plain": [
       "8"
      ]
     },
     "execution_count": 83,
     "metadata": {},
     "output_type": "execute_result"
    }
   ],
   "source": [
    "# Elementos individuales de un arreglo:\n",
    "arr[2, 1]"
   ]
  },
  {
   "cell_type": "code",
   "execution_count": 85,
   "metadata": {},
   "outputs": [
    {
     "data": {
      "text/plain": [
       "['O', 'L', 'A']"
      ]
     },
     "execution_count": 85,
     "metadata": {},
     "output_type": "execute_result"
    }
   ],
   "source": [
    "palabra = [\"H\", \"O\", \"L\", \"A\"]\n",
    "palabra[1:]"
   ]
  },
  {
   "cell_type": "code",
   "execution_count": 86,
   "metadata": {},
   "outputs": [
    {
     "data": {
      "text/plain": [
       "['O', 'L']"
      ]
     },
     "execution_count": 86,
     "metadata": {},
     "output_type": "execute_result"
    }
   ],
   "source": [
    "palabra[1:3]"
   ]
  },
  {
   "cell_type": "code",
   "execution_count": 89,
   "metadata": {},
   "outputs": [
    {
     "data": {
      "text/plain": [
       "['A', 'L', 'O', 'H']"
      ]
     },
     "execution_count": 89,
     "metadata": {},
     "output_type": "execute_result"
    }
   ],
   "source": [
    "palabra[::-1]"
   ]
  },
  {
   "cell_type": "code",
   "execution_count": 88,
   "metadata": {},
   "outputs": [
    {
     "data": {
      "text/plain": [
       "['A', 'L']"
      ]
     },
     "execution_count": 88,
     "metadata": {},
     "output_type": "execute_result"
    }
   ],
   "source": [
    "palabra[3:1:-1]"
   ]
  },
  {
   "cell_type": "code",
   "execution_count": 90,
   "metadata": {},
   "outputs": [
    {
     "data": {
      "text/plain": [
       "array([1, 3, 5])"
      ]
     },
     "execution_count": 90,
     "metadata": {},
     "output_type": "execute_result"
    }
   ],
   "source": [
    "# Acceso a rebanadas de un arreglo 1D:\n",
    "arr1d = np.array([1,2,3,4,5])\n",
    "arr1d[::2]"
   ]
  },
  {
   "cell_type": "code",
   "execution_count": 98,
   "metadata": {},
   "outputs": [
    {
     "data": {
      "text/plain": [
       "array([4, 5, 6])"
      ]
     },
     "execution_count": 98,
     "metadata": {},
     "output_type": "execute_result"
    }
   ],
   "source": [
    "# Acceso a rebanadas de un arreglo 2D:\n",
    "arr2d = np.array(\n",
    "    [[1,2,3], \n",
    "     [4,5,6],\n",
    "     [7,8,9]]\n",
    ")\n",
    "\n",
    "arr2d[1]"
   ]
  },
  {
   "cell_type": "code",
   "execution_count": 99,
   "metadata": {},
   "outputs": [
    {
     "data": {
      "text/plain": [
       "array([[4, 5, 6],\n",
       "       [7, 8, 9]])"
      ]
     },
     "execution_count": 99,
     "metadata": {},
     "output_type": "execute_result"
    }
   ],
   "source": [
    "arr2d[1:]"
   ]
  },
  {
   "cell_type": "code",
   "execution_count": 100,
   "metadata": {},
   "outputs": [
    {
     "data": {
      "text/plain": [
       "array([5, 6])"
      ]
     },
     "execution_count": 100,
     "metadata": {},
     "output_type": "execute_result"
    }
   ],
   "source": [
    "arr2d[1, 1:]"
   ]
  },
  {
   "cell_type": "code",
   "execution_count": 101,
   "metadata": {},
   "outputs": [
    {
     "data": {
      "text/plain": [
       "array([[5, 6],\n",
       "       [8, 9]])"
      ]
     },
     "execution_count": 101,
     "metadata": {},
     "output_type": "execute_result"
    }
   ],
   "source": [
    "arr2d[1:, 1:]"
   ]
  },
  {
   "cell_type": "markdown",
   "metadata": {},
   "source": [
    "Una cuestión muy importante en la obtención de rebanadas de un arreglo es que\n",
    "estas no son copias, sino vistas del arreglo original.\n",
    "Esto significa que si modificas una rebanada, también modificarás el arreglo\n",
    "original."
   ]
  },
  {
   "cell_type": "code",
   "execution_count": 103,
   "metadata": {},
   "outputs": [
    {
     "name": "stdout",
     "output_type": "stream",
     "text": [
      "[3, 'x', 5, 6]\n",
      "[1, 2, 3, 4, 5, 6]\n"
     ]
    }
   ],
   "source": [
    "arr = [1,2,3,4,5,6]\n",
    "resultado = arr[2:]\n",
    "resultado[1] = \"x\"\n",
    "print(resultado)\n",
    "print(arr)"
   ]
  },
  {
   "cell_type": "code",
   "execution_count": 104,
   "metadata": {},
   "outputs": [
    {
     "name": "stdout",
     "output_type": "stream",
     "text": [
      "[ 3 -1  5  6]\n",
      "[ 1  2  3 -1  5  6]\n"
     ]
    }
   ],
   "source": [
    "arr = np.array([1,2,3,4,5,6])\n",
    "resultado = arr[2:]\n",
    "resultado[1] = -1\n",
    "print(resultado)\n",
    "print(arr)\n"
   ]
  },
  {
   "cell_type": "markdown",
   "metadata": {},
   "source": [
    "\n",
    "### 2.3 Operaciones con arreglos"
   ]
  },
  {
   "cell_type": "markdown",
   "metadata": {},
   "source": [
    "Las operaciones con arreglos en NumPy son *vectorizadas*, lo que significa que\n",
    "las operaciones se aplican a cada elemento del arreglo."
   ]
  },
  {
   "cell_type": "code",
   "execution_count": 55,
   "metadata": {},
   "outputs": [],
   "source": [
    "# Aritmética de arreglos"
   ]
  },
  {
   "cell_type": "markdown",
   "metadata": {},
   "source": [
    "En particular, el uso de `linspace` combinado con las operaciones vectorizadas\n",
    "de NumPy es muy útil para la tabulación de funciones, que es una tarea común\n",
    "en visualización de datos así como en el procesamiento digital de imágenes."
   ]
  },
  {
   "cell_type": "code",
   "execution_count": 56,
   "metadata": {},
   "outputs": [],
   "source": [
    "# Tabulación de polinomios:"
   ]
  },
  {
   "cell_type": "markdown",
   "metadata": {},
   "source": [
    "Numpy usa el concepto de *función universal* (**ufunc**) para aplicar\n",
    "operaciones a cada elemento de un arreglo.\n",
    "Las operaciones aritméticas son ejemplos de *ufuncs*, pero también están\n",
    "presentes funciones comunes como `np.abs`, `np.sin`, `np.cos`, `np.exp`,\n",
    "`np.log` y muchas más.\n"
   ]
  },
  {
   "cell_type": "code",
   "execution_count": 57,
   "metadata": {},
   "outputs": [],
   "source": [
    "# Tabulación de funciones elementales:"
   ]
  },
  {
   "cell_type": "markdown",
   "metadata": {},
   "source": [
    "Algunas funciones son de *agregación*, lo que significa que reducen un arreglo\n",
    "a un solo valor.\n",
    "Estas funciones incluyen `np.sum`, `np.prod`, `np.mean`, `np.std`, `np.var`,\n",
    "`np.min`, `np.max`, `np.median`,  `np.percentile`, `np.any` y `np.all`."
   ]
  },
  {
   "cell_type": "code",
   "execution_count": null,
   "metadata": {},
   "outputs": [],
   "source": []
  },
  {
   "cell_type": "markdown",
   "metadata": {},
   "source": [
    "### 2.4 Selección de elementos y operadores booleanos"
   ]
  },
  {
   "cell_type": "code",
   "execution_count": null,
   "metadata": {},
   "outputs": [],
   "source": []
  },
  {
   "cell_type": "markdown",
   "metadata": {},
   "source": [
    "## 3. Visualización de datos con Matplotlib\n"
   ]
  },
  {
   "cell_type": "markdown",
   "metadata": {},
   "source": [
    "### 3.1 Gráficos de línea"
   ]
  },
  {
   "cell_type": "code",
   "execution_count": 58,
   "metadata": {},
   "outputs": [],
   "source": [
    "# Uso de la interfaz `pyplot`:"
   ]
  },
  {
   "cell_type": "code",
   "execution_count": 59,
   "metadata": {},
   "outputs": [],
   "source": [
    "# Uso de la interfaz orientada a objetos de `matplotlib`:"
   ]
  },
  {
   "cell_type": "code",
   "execution_count": 60,
   "metadata": {},
   "outputs": [],
   "source": [
    "# Repaso de la tabulación de funciones elementales:"
   ]
  },
  {
   "cell_type": "code",
   "execution_count": 61,
   "metadata": {},
   "outputs": [],
   "source": [
    "# Ajuste de colores y estilos"
   ]
  },
  {
   "cell_type": "code",
   "execution_count": 62,
   "metadata": {},
   "outputs": [],
   "source": [
    "# Ajuste de la proporción de aspecto:"
   ]
  },
  {
   "cell_type": "code",
   "execution_count": 63,
   "metadata": {},
   "outputs": [],
   "source": [
    "# Etiquetado de curvas, ejes y títulos:"
   ]
  },
  {
   "cell_type": "markdown",
   "metadata": {},
   "source": [
    "### 3.2 Gráficos de dispersión"
   ]
  },
  {
   "cell_type": "code",
   "execution_count": 64,
   "metadata": {},
   "outputs": [],
   "source": [
    "# Uso de marcadores en las curvas:"
   ]
  },
  {
   "cell_type": "code",
   "execution_count": 65,
   "metadata": {},
   "outputs": [],
   "source": [
    "# Uso de ax.scatter para gráficos de dispersión:"
   ]
  },
  {
   "cell_type": "code",
   "execution_count": 66,
   "metadata": {},
   "outputs": [],
   "source": [
    "# Ejemplo con el dataset Iris:"
   ]
  },
  {
   "cell_type": "markdown",
   "metadata": {},
   "source": [
    "### 3.3 Histogramas\n"
   ]
  },
  {
   "cell_type": "code",
   "execution_count": 67,
   "metadata": {},
   "outputs": [],
   "source": [
    "# Generando una distribución normal de datos:"
   ]
  },
  {
   "cell_type": "code",
   "execution_count": null,
   "metadata": {},
   "outputs": [],
   "source": []
  },
  {
   "cell_type": "code",
   "execution_count": null,
   "metadata": {},
   "outputs": [],
   "source": []
  },
  {
   "cell_type": "markdown",
   "metadata": {},
   "source": [
    "### 3.4 Graficiación de una función bidimensional"
   ]
  }
 ],
 "metadata": {
  "kernelspec": {
   "display_name": ".venv",
   "language": "python",
   "name": "python3"
  },
  "language_info": {
   "codemirror_mode": {
    "name": "ipython",
    "version": 3
   },
   "file_extension": ".py",
   "mimetype": "text/x-python",
   "name": "python",
   "nbconvert_exporter": "python",
   "pygments_lexer": "ipython3",
   "version": "3.11.7"
  }
 },
 "nbformat": 4,
 "nbformat_minor": 2
}
