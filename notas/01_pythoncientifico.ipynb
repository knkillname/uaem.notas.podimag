{
 "cells": [
  {
   "cell_type": "code",
   "execution_count": 1,
   "metadata": {},
   "outputs": [],
   "source": [
    "import math\n",
    "import sys\n",
    "\n",
    "import numpy as np\n",
    "import matplotlib.pyplot as plt"
   ]
  },
  {
   "cell_type": "markdown",
   "metadata": {},
   "source": [
    "# Python en el ámbito científico"
   ]
  },
  {
   "cell_type": "markdown",
   "metadata": {},
   "source": [
    "A lo largo de los años Python a acrecentado sus capacidades en varios ámbitos, \n",
    "uno de ellos es el científico.\n",
    "El proyecto [SciPy](https://www.scipy.org/) originalmente era una colección de\n",
    "paquetes para matemáticas, ciencia e ingeniería que consistía en:\n",
    "\n",
    "- [NumPy](http://www.numpy.org/): Un paquete para la manipulación de arreglos y\n",
    "  matrices numéricas.\n",
    "- [Matplotlib](https://matplotlib.org/): Una biblioteca para la visualización de\n",
    "  datos en 2D.\n",
    "- [SciPy](https://www.scipy.org/): Un paquete de análisis numérico con rutinas\n",
    "  para optimización, álgebra lineal, integración, interpolación, funciones\n",
    "  especiales, y más.\n",
    "- [SymPy](https://www.sympy.org/): Una biblioteca de álgebra simbólica para la\n",
    "  resolución exacta de ecuaciones en cálculo diferencial e integral, álgebra\n",
    "  lineal, y más.\n",
    "- [Pandas](https://pandas.pydata.org/): Una biblioteca para el análisis de datos\n",
    "  tabulares (tablas).\n",
    "- [IPython](https://ipython.org/): Un entorno de trabajo interactivo para\n",
    "  computación científica.\n",
    "  Actualmente [Jupyter](https://jupyter.org/) es el proyecto que ha tomado el\n",
    "  relevo de IPython.\n",
    "\n",
    "Para este curso nos enfocaremos en los paquetes de NumPy y Matplotlib, luego\n",
    "en otras secciones veremos bibliotecas centradas en el procesamiento digital\n",
    "de imágenes y en el aprendizaje automático, concretaente en los paquetes de\n",
    "[scikit image](https://scikit-image.org/), [OpenCV](https://opencv.org/),\n",
    "[scikit-learn](https://scikit-learn.org/stable/), y [Keras](https://keras.io/).\n",
    "\n",
    "Si eres un purista de Python, es posible que te preguntes por qué no usamos\n",
    "las bibliotecas estándar de Python para el procesamiento de datos, como\n",
    "`math`, `random`, `itertools`, `functools`, y demás.\n",
    "La respuesta es que estas bibliotecas están diseñadas para ser generales y\n",
    "flexibles, y no están optimizadas para el procesamiento de datos numéricos.\n",
    "No te sientas agobiado por la cantidad de bibliotecas que necesitas aprender,\n",
    "ya que estas bibliotecas están diseñadas para ser fáciles de usar y tienen el\n",
    "respaldo de una gran comunidad de usuarios y desarrolladores."
   ]
  },
  {
   "cell_type": "markdown",
   "metadata": {},
   "source": [
    "## 1. Agarrándole el hilo a Jupyter\n",
    "<!-- Me rehúso a poner \"Introducción a Jupyter\" -->"
   ]
  },
  {
   "cell_type": "markdown",
   "metadata": {},
   "source": [
    "Cuando uno trata de hacer algún tipo de análisis de datos, es común comenzar a\n",
    "experimentar con instrucciones pequeñas y ver los resultados de inmediato antes\n",
    "de pasar a un entorno de desarrollo más robusto.\n",
    "Más aún, es común querer compartir estos resultados con otras personas.\n",
    "Para estos casos, Jupyter es una herramienta muy útil.\n",
    "\n",
    "- Jupyter combina celdas de texto (en lenguaje \n",
    "  [Markdown](https://youtu.be/X5mkZXmaKp4)) con celdas de código en algún\n",
    "  lenguaje de programación como **Ju**lia, **Pyt**hon, o **R**.\n",
    "- Las celdas de código se pueden ejecutar de manera independiente y puedes\n",
    "  ver los resultados de inmediato.\n",
    "- Las celdas de texto se pueden usar para explicar el código, los resultados, o\n",
    "  cualquier otro aspecto del análisis.\n",
    "- Las celdas de código admiten *comandos mágicos* que permiten realizar tareas\n",
    "  específicas, como medir el tiempo de ejecución de una celda o solicitar ayuda\n",
    "  sobre un objeto.\n",
    "\n",
    "Nosotros usaremos Jupyter para presentar ejemplos de Python en el ámbito\n",
    "del procesamiento digital de imágenes, que es el tema de este curso."
   ]
  },
  {
   "cell_type": "markdown",
   "metadata": {},
   "source": [
    "### 1.1 Obteniendo ayuda"
   ]
  },
  {
   "cell_type": "markdown",
   "metadata": {},
   "source": [
    "En Python puedes solicitar ayuda sobre un objeto usando la función `help`."
   ]
  },
  {
   "cell_type": "code",
   "execution_count": 2,
   "metadata": {},
   "outputs": [
    {
     "name": "stdout",
     "output_type": "stream",
     "text": [
      "Help on built-in function max in module builtins:\n",
      "\n",
      "max(...)\n",
      "    max(iterable, *[, default=obj, key=func]) -> value\n",
      "    max(arg1, arg2, *args, *[, key=func]) -> value\n",
      "    \n",
      "    With a single iterable argument, return its biggest item. The\n",
      "    default keyword-only argument specifies an object to return if\n",
      "    the provided iterable is empty.\n",
      "    With two or more arguments, return the largest argument.\n",
      "\n"
     ]
    }
   ],
   "source": [
    "help(max)"
   ]
  },
  {
   "cell_type": "code",
   "execution_count": 3,
   "metadata": {},
   "outputs": [
    {
     "data": {
      "text/plain": [
       "782"
      ]
     },
     "execution_count": 3,
     "metadata": {},
     "output_type": "execute_result"
    }
   ],
   "source": [
    "max([1,4,782,23,15])"
   ]
  },
  {
   "cell_type": "code",
   "execution_count": 4,
   "metadata": {},
   "outputs": [
    {
     "data": {
      "text/plain": [
       "4"
      ]
     },
     "execution_count": 4,
     "metadata": {},
     "output_type": "execute_result"
    }
   ],
   "source": [
    "max(1, 4)"
   ]
  },
  {
   "cell_type": "markdown",
   "metadata": {},
   "source": [
    "Jupyter además utiliza el signo de interrogación `?` para solicitar ayuda sobre\n",
    "un objeto.\n",
    "Dado que esto no es sintaxis estándar de Python, es posible que observes errores\n",
    "de sintaxis en un entorno de desarrollo estándar como Visual Studio Code."
   ]
  },
  {
   "cell_type": "code",
   "execution_count": 5,
   "metadata": {},
   "outputs": [
    {
     "name": "stdout",
     "output_type": "stream",
     "text": [
      "\u001b[0;31mDocstring:\u001b[0m\n",
      "max(iterable, *[, default=obj, key=func]) -> value\n",
      "max(arg1, arg2, *args, *[, key=func]) -> value\n",
      "\n",
      "With a single iterable argument, return its biggest item. The\n",
      "default keyword-only argument specifies an object to return if\n",
      "the provided iterable is empty.\n",
      "With two or more arguments, return the largest argument.\n",
      "\u001b[0;31mType:\u001b[0m      builtin_function_or_method"
     ]
    }
   ],
   "source": [
    "?max"
   ]
  },
  {
   "cell_type": "markdown",
   "metadata": {},
   "source": [
    "Esta notación también funciona con métodos"
   ]
  },
  {
   "cell_type": "code",
   "execution_count": 6,
   "metadata": {},
   "outputs": [
    {
     "name": "stdout",
     "output_type": "stream",
     "text": [
      "\u001b[0;31mSignature:\u001b[0m \u001b[0mcanasta\u001b[0m\u001b[0;34m.\u001b[0m\u001b[0mcount\u001b[0m\u001b[0;34m(\u001b[0m\u001b[0mvalue\u001b[0m\u001b[0;34m,\u001b[0m \u001b[0;34m/\u001b[0m\u001b[0;34m)\u001b[0m\u001b[0;34m\u001b[0m\u001b[0;34m\u001b[0m\u001b[0m\n",
      "\u001b[0;31mDocstring:\u001b[0m Return number of occurrences of value.\n",
      "\u001b[0;31mType:\u001b[0m      builtin_function_or_method"
     ]
    }
   ],
   "source": [
    "canasta = [\"huevos\", \"leche\", \"pan\", \"jamón\", \"manzanas\"]\n",
    "canasta.count?"
   ]
  },
  {
   "cell_type": "markdown",
   "metadata": {},
   "source": [
    "... e incluso con los objetos mismos"
   ]
  },
  {
   "cell_type": "code",
   "execution_count": 7,
   "metadata": {},
   "outputs": [
    {
     "name": "stdout",
     "output_type": "stream",
     "text": [
      "\u001b[0;31mType:\u001b[0m        list\n",
      "\u001b[0;31mString form:\u001b[0m ['huevos', 'leche', 'pan', 'jamón', 'manzanas']\n",
      "\u001b[0;31mLength:\u001b[0m      5\n",
      "\u001b[0;31mDocstring:\u001b[0m  \n",
      "Built-in mutable sequence.\n",
      "\n",
      "If no argument is given, the constructor creates a new empty list.\n",
      "The argument must be an iterable if specified."
     ]
    }
   ],
   "source": [
    "canasta?"
   ]
  },
  {
   "cell_type": "markdown",
   "metadata": {},
   "source": [
    "Hay ocasiones en las que la documentación de una función es suficiente ambigua\n",
    "como para que merite una consulta más detallada.\n",
    "En estos casos, el doble signo de interrogación `??` te mostrará el código\n",
    "fuente del objeto en cuestión."
   ]
  },
  {
   "cell_type": "code",
   "execution_count": 8,
   "metadata": {},
   "outputs": [],
   "source": [
    "# Creamos una función en Python con una documentación ambigua\n",
    "def lel(datos):\n",
    "    \"\"\"Aplica la transformación a los datos\"\"\"  # Casos de la vida real :(\n",
    "    datos = datos**2 + 1\n",
    "    return datos"
   ]
  },
  {
   "cell_type": "code",
   "execution_count": 9,
   "metadata": {},
   "outputs": [
    {
     "name": "stdout",
     "output_type": "stream",
     "text": [
      "\u001b[0;31mSignature:\u001b[0m \u001b[0mlel\u001b[0m\u001b[0;34m(\u001b[0m\u001b[0mdatos\u001b[0m\u001b[0;34m)\u001b[0m\u001b[0;34m\u001b[0m\u001b[0;34m\u001b[0m\u001b[0m\n",
      "\u001b[0;31mDocstring:\u001b[0m Aplica la transformación a los datos\n",
      "\u001b[0;31mFile:\u001b[0m      /tmp/ipykernel_18092/734126753.py\n",
      "\u001b[0;31mType:\u001b[0m      function"
     ]
    }
   ],
   "source": [
    "?lel"
   ]
  },
  {
   "cell_type": "code",
   "execution_count": 10,
   "metadata": {},
   "outputs": [
    {
     "name": "stdout",
     "output_type": "stream",
     "text": [
      "\u001b[0;31mSignature:\u001b[0m \u001b[0mlel\u001b[0m\u001b[0;34m(\u001b[0m\u001b[0mdatos\u001b[0m\u001b[0;34m)\u001b[0m\u001b[0;34m\u001b[0m\u001b[0;34m\u001b[0m\u001b[0m\n",
      "\u001b[0;31mSource:\u001b[0m   \n",
      "\u001b[0;32mdef\u001b[0m \u001b[0mlel\u001b[0m\u001b[0;34m(\u001b[0m\u001b[0mdatos\u001b[0m\u001b[0;34m)\u001b[0m\u001b[0;34m:\u001b[0m\u001b[0;34m\u001b[0m\n",
      "\u001b[0;34m\u001b[0m    \u001b[0;34m\"\"\"Aplica la transformación a los datos\"\"\"\u001b[0m  \u001b[0;31m# Casos de la vida real :(\u001b[0m\u001b[0;34m\u001b[0m\n",
      "\u001b[0;34m\u001b[0m    \u001b[0mdatos\u001b[0m \u001b[0;34m=\u001b[0m \u001b[0mdatos\u001b[0m\u001b[0;34m**\u001b[0m\u001b[0;36m2\u001b[0m \u001b[0;34m+\u001b[0m \u001b[0;36m1\u001b[0m\u001b[0;34m\u001b[0m\n",
      "\u001b[0;34m\u001b[0m    \u001b[0;32mreturn\u001b[0m \u001b[0mdatos\u001b[0m\u001b[0;34m\u001b[0m\u001b[0;34m\u001b[0m\u001b[0m\n",
      "\u001b[0;31mFile:\u001b[0m      /tmp/ipykernel_18092/734126753.py\n",
      "\u001b[0;31mType:\u001b[0m      function"
     ]
    }
   ],
   "source": [
    "??lel"
   ]
  },
  {
   "cell_type": "markdown",
   "metadata": {},
   "source": [
    "### 1.2 Autocompletado"
   ]
  },
  {
   "cell_type": "markdown",
   "metadata": {},
   "source": [
    "No importa si usas Jupyter o un entorno de desarrollo estándar, el\n",
    "autocompletado es una herramienta muy útil para explorar las capacidades de\n",
    "un objeto.\n",
    "\n",
    "- En Jupyter, puedes presionar la tecla `TAB`\n",
    "- En Visual Studio Code, puedes presionar `CTRL` + `ESPACIO`"
   ]
  },
  {
   "cell_type": "markdown",
   "metadata": {},
   "source": [
    "Prueba esto: escribe `canasta.` en una celda de código y presiona `TAB` (si usas\n",
    "Jupyter) o `CTRL` + `ESPACIO` (si usas Visual Studio Code) para ver una lista de\n",
    "los métodos y atributos del objeto `canasta`."
   ]
  },
  {
   "cell_type": "code",
   "execution_count": null,
   "metadata": {},
   "outputs": [],
   "source": []
  },
  {
   "cell_type": "markdown",
   "metadata": {},
   "source": [
    "Si más o menos recuerdas el nombre de un método o atributo, pero no estás seguro\n",
    "de la ortografía, puedes solicitar a Juptyer que busque todas las coincidencias\n",
    "posibles mediante el comodín `*`."
   ]
  },
  {
   "cell_type": "code",
   "execution_count": 11,
   "metadata": {},
   "outputs": [
    {
     "name": "stdout",
     "output_type": "stream",
     "text": [
      "canasta.remove\n",
      "canasta.reverse"
     ]
    }
   ],
   "source": [
    "# Listar los métodos de la canasta que inician con \"re\"\n",
    "canasta.re*?"
   ]
  },
  {
   "cell_type": "code",
   "execution_count": 12,
   "metadata": {},
   "outputs": [
    {
     "name": "stdout",
     "output_type": "stream",
     "text": [
      "canasta.append\n",
      "canasta.extend"
     ]
    }
   ],
   "source": [
    "# Listar los métodos de la canasta que terminan con \"nd\"\n",
    "canasta.*nd?"
   ]
  },
  {
   "cell_type": "markdown",
   "metadata": {},
   "source": [
    "### 1.2 Los métodos mágicos"
   ]
  },
  {
   "cell_type": "markdown",
   "metadata": {},
   "source": [
    "Jupyter admite *comandos mágicos* que permiten realizar tareas específicas como\n",
    "medir el tiempo de ejecución de una celda o ejecutar un comando externo."
   ]
  },
  {
   "cell_type": "code",
   "execution_count": 13,
   "metadata": {},
   "outputs": [],
   "source": [
    "# Cómo crear una lista de números al cuadrado más uno\n",
    "def lol(datos):\n",
    "    resultado = []\n",
    "    for i in datos:\n",
    "        resultado.append(i**2 + 1)\n",
    "    return resultado"
   ]
  },
  {
   "cell_type": "markdown",
   "metadata": {},
   "source": [
    "El comando mágico `%%timeit` mide el tiempo de ejecución de una celda de código\n",
    "de manera estadística.\n",
    "El resultado es una estimación del tiempo que tarda en ejecutarse la celda en\n",
    "la forma $\\mu \\pm \\sigma$ donde $\\mu$ es el tiempo promedio y $\\sigma$ es la\n",
    "desviación estándar."
   ]
  },
  {
   "cell_type": "code",
   "execution_count": 14,
   "metadata": {},
   "outputs": [
    {
     "name": "stdout",
     "output_type": "stream",
     "text": [
      "619 ns ± 68.9 ns per loop (mean ± std. dev. of 7 runs, 1,000,000 loops each)\n"
     ]
    }
   ],
   "source": [
    "%%timeit\n",
    "resultado = lol([1,2,3,4,5])"
   ]
  },
  {
   "cell_type": "code",
   "execution_count": 15,
   "metadata": {},
   "outputs": [],
   "source": [
    "datos = [1,2,3,4,5]"
   ]
  },
  {
   "cell_type": "code",
   "execution_count": 16,
   "metadata": {},
   "outputs": [
    {
     "name": "stdout",
     "output_type": "stream",
     "text": [
      "615 ns ± 52.3 ns per loop (mean ± std. dev. of 7 runs, 1,000,000 loops each)\n"
     ]
    }
   ],
   "source": [
    "%%timeit\n",
    "resultado = [i**2 + 1 for i in datos]"
   ]
  },
  {
   "cell_type": "markdown",
   "metadata": {},
   "source": [
    "El comando mágico `%lsmagic` muestra una lista de todos los comandos mágicos\n",
    "disponibles."
   ]
  },
  {
   "cell_type": "code",
   "execution_count": 17,
   "metadata": {},
   "outputs": [
    {
     "data": {
      "application/json": {
       "cell": {
        "!": "OSMagics",
        "HTML": "Other",
        "SVG": "Other",
        "bash": "Other",
        "capture": "ExecutionMagics",
        "code_wrap": "ExecutionMagics",
        "debug": "ExecutionMagics",
        "file": "Other",
        "html": "DisplayMagics",
        "javascript": "DisplayMagics",
        "js": "DisplayMagics",
        "latex": "DisplayMagics",
        "markdown": "DisplayMagics",
        "perl": "Other",
        "prun": "ExecutionMagics",
        "pypy": "Other",
        "python": "Other",
        "python2": "Other",
        "python3": "Other",
        "ruby": "Other",
        "script": "ScriptMagics",
        "sh": "Other",
        "svg": "DisplayMagics",
        "sx": "OSMagics",
        "system": "OSMagics",
        "time": "ExecutionMagics",
        "timeit": "ExecutionMagics",
        "writefile": "OSMagics"
       },
       "line": {
        "alias": "OSMagics",
        "alias_magic": "BasicMagics",
        "autoawait": "AsyncMagics",
        "autocall": "AutoMagics",
        "automagic": "AutoMagics",
        "autosave": "KernelMagics",
        "bookmark": "OSMagics",
        "cat": "Other",
        "cd": "OSMagics",
        "clear": "KernelMagics",
        "code_wrap": "ExecutionMagics",
        "colors": "BasicMagics",
        "conda": "PackagingMagics",
        "config": "ConfigMagics",
        "connect_info": "KernelMagics",
        "cp": "Other",
        "debug": "ExecutionMagics",
        "dhist": "OSMagics",
        "dirs": "OSMagics",
        "doctest_mode": "BasicMagics",
        "ed": "Other",
        "edit": "KernelMagics",
        "env": "OSMagics",
        "gui": "BasicMagics",
        "hist": "Other",
        "history": "HistoryMagics",
        "killbgscripts": "ScriptMagics",
        "ldir": "Other",
        "less": "KernelMagics",
        "lf": "Other",
        "lk": "Other",
        "ll": "Other",
        "load": "CodeMagics",
        "load_ext": "ExtensionMagics",
        "loadpy": "CodeMagics",
        "logoff": "LoggingMagics",
        "logon": "LoggingMagics",
        "logstart": "LoggingMagics",
        "logstate": "LoggingMagics",
        "logstop": "LoggingMagics",
        "ls": "Other",
        "lsmagic": "BasicMagics",
        "lx": "Other",
        "macro": "ExecutionMagics",
        "magic": "BasicMagics",
        "mamba": "PackagingMagics",
        "man": "KernelMagics",
        "matplotlib": "PylabMagics",
        "micromamba": "PackagingMagics",
        "mkdir": "Other",
        "more": "KernelMagics",
        "mv": "Other",
        "notebook": "BasicMagics",
        "page": "BasicMagics",
        "pastebin": "CodeMagics",
        "pdb": "ExecutionMagics",
        "pdef": "NamespaceMagics",
        "pdoc": "NamespaceMagics",
        "pfile": "NamespaceMagics",
        "pinfo": "NamespaceMagics",
        "pinfo2": "NamespaceMagics",
        "pip": "PackagingMagics",
        "popd": "OSMagics",
        "pprint": "BasicMagics",
        "precision": "BasicMagics",
        "prun": "ExecutionMagics",
        "psearch": "NamespaceMagics",
        "psource": "NamespaceMagics",
        "pushd": "OSMagics",
        "pwd": "OSMagics",
        "pycat": "OSMagics",
        "pylab": "PylabMagics",
        "qtconsole": "KernelMagics",
        "quickref": "BasicMagics",
        "recall": "HistoryMagics",
        "rehashx": "OSMagics",
        "reload_ext": "ExtensionMagics",
        "rep": "Other",
        "rerun": "HistoryMagics",
        "reset": "NamespaceMagics",
        "reset_selective": "NamespaceMagics",
        "rm": "Other",
        "rmdir": "Other",
        "run": "ExecutionMagics",
        "save": "CodeMagics",
        "sc": "OSMagics",
        "set_env": "OSMagics",
        "store": "StoreMagics",
        "sx": "OSMagics",
        "system": "OSMagics",
        "tb": "ExecutionMagics",
        "time": "ExecutionMagics",
        "timeit": "ExecutionMagics",
        "unalias": "OSMagics",
        "unload_ext": "ExtensionMagics",
        "who": "NamespaceMagics",
        "who_ls": "NamespaceMagics",
        "whos": "NamespaceMagics",
        "xdel": "NamespaceMagics",
        "xmode": "BasicMagics"
       }
      },
      "text/plain": [
       "Available line magics:\n",
       "%alias  %alias_magic  %autoawait  %autocall  %automagic  %autosave  %bookmark  %cat  %cd  %clear  %code_wrap  %colors  %conda  %config  %connect_info  %cp  %debug  %dhist  %dirs  %doctest_mode  %ed  %edit  %env  %gui  %hist  %history  %killbgscripts  %ldir  %less  %lf  %lk  %ll  %load  %load_ext  %loadpy  %logoff  %logon  %logstart  %logstate  %logstop  %ls  %lsmagic  %lx  %macro  %magic  %mamba  %man  %matplotlib  %micromamba  %mkdir  %more  %mv  %notebook  %page  %pastebin  %pdb  %pdef  %pdoc  %pfile  %pinfo  %pinfo2  %pip  %popd  %pprint  %precision  %prun  %psearch  %psource  %pushd  %pwd  %pycat  %pylab  %qtconsole  %quickref  %recall  %rehashx  %reload_ext  %rep  %rerun  %reset  %reset_selective  %rm  %rmdir  %run  %save  %sc  %set_env  %store  %sx  %system  %tb  %time  %timeit  %unalias  %unload_ext  %who  %who_ls  %whos  %xdel  %xmode\n",
       "\n",
       "Available cell magics:\n",
       "%%!  %%HTML  %%SVG  %%bash  %%capture  %%code_wrap  %%debug  %%file  %%html  %%javascript  %%js  %%latex  %%markdown  %%perl  %%prun  %%pypy  %%python  %%python2  %%python3  %%ruby  %%script  %%sh  %%svg  %%sx  %%system  %%time  %%timeit  %%writefile\n",
       "\n",
       "Automagic is ON, % prefix IS NOT needed for line magics."
      ]
     },
     "execution_count": 17,
     "metadata": {},
     "output_type": "execute_result"
    }
   ],
   "source": [
    "%lsmagic"
   ]
  },
  {
   "cell_type": "markdown",
   "metadata": {},
   "source": [
    "Una de las extensiones más útiles de Jupyter sirve para medir el tiempo de\n",
    "ejecución de cada línea de código."
   ]
  },
  {
   "cell_type": "code",
   "execution_count": 18,
   "metadata": {},
   "outputs": [],
   "source": [
    "%load_ext line_profiler"
   ]
  },
  {
   "cell_type": "code",
   "execution_count": 19,
   "metadata": {},
   "outputs": [
    {
     "name": "stdout",
     "output_type": "stream",
     "text": [
      "Timer unit: 1e-09 s\n",
      "\n",
      "Total time: 4.2147 s\n",
      "File: /tmp/ipykernel_18092/384297603.py\n",
      "Function: fib at line 1\n",
      "\n",
      "Line #      Hits         Time  Per Hit   % Time  Line Contents\n",
      "==============================================================\n",
      "     1                                           def fib(n):\n",
      "     2   7049155 1940694192.0    275.3     46.0      if n <= 1:\n",
      "     3   3524578  756635603.0    214.7     18.0          return n\n",
      "     4   3524577 1517369144.0    430.5     36.0      return fib(n - 1) + fib(n - 2)"
     ]
    }
   ],
   "source": [
    "def fib(n):\n",
    "    if n <= 1:\n",
    "        return n\n",
    "    return fib(n - 1) + fib(n - 2)\n",
    "\n",
    "%lprun -f fib fib(32)"
   ]
  },
  {
   "cell_type": "markdown",
   "metadata": {},
   "source": [
    "### 1.3 Consultar resultados anteriores"
   ]
  },
  {
   "cell_type": "code",
   "execution_count": 20,
   "metadata": {},
   "outputs": [
    {
     "data": {
      "text/plain": [
       "297375045100143702841578367799709293826139208853006430932343970134065436351152558678355655740402187385865780093146238350007089320137328407837109303292090266922556142369502103548045780289266010953021947509493984383803789717644293689268443751847857972124763568195917812768293964802696992146141791250515645103238469415167116664930161931888821892016357217509504353841298997170808176580706796928927009023834975181838338900511662348484776970729126781964003242306832361795917790819656826139675339324568479867671216203195432969310941944489163754202497402540471996031930077408350348601598906103854805347888534951371144944391905068973281488783863109223927172849785036939165308160433310108223542006149224543977691922829065334922464103681950400086919239710912242247023562195387413804769999963429371468727611877756335629773157000183177000117493375959233480777752443148899788710330149630498555048567194524920692315185114494355581640824535659564498946429600881999225005084799488845219188512342639569857282645807773033042791671620375521448916753734209466773452126311145964346854746379888288768812761525431395556773134835089336127900749231379900741674837493407148881239135158265135926067153937792678406255547981960422528605485383640282614972896063623677622865646096548040674507157415826954634019884523335843920983338706904569085117904824694165944977632045790458798356941331092227942268459240236683321805107387340488243844128829431026454979557005991371288805501102295497661395801493990769221922731106506038686015947326161456506476501847296107949036105220211205016112257562032404148850529613608902396006770622865352975366195782210061348384495790417627244326617519877771310055719733884751310114365576078547296225532279539211642576230875390479755046262354282099993080977297009536290379596538271932414016746712831291423107567901366042900392981385164872968324197649968468884655396502245697178077086178570706812257851420944060038281784727274249543915390721265629539785317003269579058821112745248296436469216894194234852623022525039567095662276177096415666674724592657156390742250347125995076348746608889327874182498554718351076009837183494842347308796814499118894675049283388449208916200009710546486340138796335026317483095442266622821183613080215417893882212724873134925452304650120941373072210017019203299987971122486477461392688133907992653359379051876916608889207762110736190955130419930779053311042797639793301891067193459429933261960190415884995095942133272003740986344189107908789779633141288620533125615920659065701169851092212439946386331438181470209329442006622989088941331113071740771084306423030240864114610355985028772036979365148884913263983869436537471656574339838339263989995502774278404631320687837091449407891300592628634119252803410888986726682853376"
      ]
     },
     "execution_count": 20,
     "metadata": {},
     "output_type": "execute_result"
    }
   ],
   "source": [
    "2761834761897461982376**128"
   ]
  },
  {
   "cell_type": "code",
   "execution_count": 21,
   "metadata": {},
   "outputs": [
    {
     "data": {
      "text/plain": [
       "148687522550071851420789183899854646913069604426503215466171985067032718175576279339177827870201093692932890046573119175003544660068664203918554651646045133461278071184751051774022890144633005476510973754746992191901894858822146844634221875923928986062381784097958906384146982401348496073070895625257822551619234707583558332465080965944410946008178608754752176920649498585404088290353398464463504511917487590919169450255831174242388485364563390982001621153416180897958895409828413069837669662284239933835608101597716484655470972244581877101248701270235998015965038704175174300799453051927402673944267475685572472195952534486640744391931554611963586424892518469582654080216655054111771003074612271988845961414532667461232051840975200043459619855456121123511781097693706902384999981714685734363805938878167814886578500091588500058746687979616740388876221574449894355165074815249277524283597262460346157592557247177790820412267829782249473214800440999612502542399744422609594256171319784928641322903886516521395835810187760724458376867104733386726063155572982173427373189944144384406380762715697778386567417544668063950374615689950370837418746703574440619567579132567963033576968896339203127773990980211264302742691820141307486448031811838811432823048274020337253578707913477317009942261667921960491669353452284542558952412347082972488816022895229399178470665546113971134229620118341660902553693670244121922064414715513227489778502995685644402750551147748830697900746995384610961365553253019343007973663080728253238250923648053974518052610105602508056128781016202074425264806804451198003385311432676487683097891105030674192247895208813622163308759938885655027859866942375655057182788039273648112766139769605821288115437695239877523131177141049996540488648504768145189798269135966207008373356415645711553783950683021450196490692582436484162098824984234442327698251122848589038543089285353406128925710472030019140892363637124771957695360632814769892658501634789529410556372624148218234608447097117426311511262519783547831138088548207833337362296328578195371125173562997538174373304444663937091249277359175538004918591747421173654398407249559447337524641694224604458100004855273243170069398167513158741547721133311410591806540107708946941106362436567462726152325060470686536105008509601649993985561243238730696344066953996326679689525938458304444603881055368095477565209965389526655521398819896650945533596729714966630980095207942497547971066636001870493172094553954394889816570644310266562807960329532850584925546106219973193165719090735104664721003311494544470665556535870385542153211515120432057305177992514386018489682574442456631991934718268735828287169919169631994997751387139202315660343918545724703945650296314317059626401705444493363341426688"
      ]
     },
     "execution_count": 21,
     "metadata": {},
     "output_type": "execute_result"
    }
   ],
   "source": [
    "_//2"
   ]
  },
  {
   "cell_type": "code",
   "execution_count": 22,
   "metadata": {},
   "outputs": [
    {
     "data": {
      "text/plain": [
       "\"def fib(n):\\n    if n <= 1:\\n        return n\\n    return fib(n - 1) + fib(n - 2)\\n\\nget_ipython().run_line_magic('lprun', '-f fib fib(32)')\""
      ]
     },
     "execution_count": 22,
     "metadata": {},
     "output_type": "execute_result"
    }
   ],
   "source": [
    "In[19]"
   ]
  },
  {
   "cell_type": "code",
   "execution_count": 23,
   "metadata": {},
   "outputs": [
    {
     "data": {
      "text/plain": [
       "297375045100143702841578367799709293826139208853006430932343970134065436351152558678355655740402187385865780093146238350007089320137328407837109303292090266922556142369502103548045780289266010953021947509493984383803789717644293689268443751847857972124763568195917812768293964802696992146141791250515645103238469415167116664930161931888821892016357217509504353841298997170808176580706796928927009023834975181838338900511662348484776970729126781964003242306832361795917790819656826139675339324568479867671216203195432969310941944489163754202497402540471996031930077408350348601598906103854805347888534951371144944391905068973281488783863109223927172849785036939165308160433310108223542006149224543977691922829065334922464103681950400086919239710912242247023562195387413804769999963429371468727611877756335629773157000183177000117493375959233480777752443148899788710330149630498555048567194524920692315185114494355581640824535659564498946429600881999225005084799488845219188512342639569857282645807773033042791671620375521448916753734209466773452126311145964346854746379888288768812761525431395556773134835089336127900749231379900741674837493407148881239135158265135926067153937792678406255547981960422528605485383640282614972896063623677622865646096548040674507157415826954634019884523335843920983338706904569085117904824694165944977632045790458798356941331092227942268459240236683321805107387340488243844128829431026454979557005991371288805501102295497661395801493990769221922731106506038686015947326161456506476501847296107949036105220211205016112257562032404148850529613608902396006770622865352975366195782210061348384495790417627244326617519877771310055719733884751310114365576078547296225532279539211642576230875390479755046262354282099993080977297009536290379596538271932414016746712831291423107567901366042900392981385164872968324197649968468884655396502245697178077086178570706812257851420944060038281784727274249543915390721265629539785317003269579058821112745248296436469216894194234852623022525039567095662276177096415666674724592657156390742250347125995076348746608889327874182498554718351076009837183494842347308796814499118894675049283388449208916200009710546486340138796335026317483095442266622821183613080215417893882212724873134925452304650120941373072210017019203299987971122486477461392688133907992653359379051876916608889207762110736190955130419930779053311042797639793301891067193459429933261960190415884995095942133272003740986344189107908789779633141288620533125615920659065701169851092212439946386331438181470209329442006622989088941331113071740771084306423030240864114610355985028772036979365148884913263983869436537471656574339838339263989995502774278404631320687837091449407891300592628634119252803410888986726682853376"
      ]
     },
     "execution_count": 23,
     "metadata": {},
     "output_type": "execute_result"
    }
   ],
   "source": [
    "Out[20]"
   ]
  },
  {
   "cell_type": "markdown",
   "metadata": {},
   "source": [
    "## 2. Manipulación de datos con NumPy"
   ]
  },
  {
   "cell_type": "markdown",
   "metadata": {},
   "source": [
    "**Numpy** es la biblioteca estándar *de facto* para el procesamiento de datos\n",
    "numéricos en Python.\n",
    "Para ver por qué necesitamos NumPy en nuestras vidas, considera el siguiente\n",
    "ejemplo."
   ]
  },
  {
   "cell_type": "markdown",
   "metadata": {},
   "source": [
    "### 2.1 Repaso de listas de Python"
   ]
  },
  {
   "cell_type": "code",
   "execution_count": 24,
   "metadata": {},
   "outputs": [],
   "source": [
    "# Creando una lista de Python:\n",
    "arr = [1,2,3,4,5]"
   ]
  },
  {
   "cell_type": "markdown",
   "metadata": {},
   "source": [
    "Para acceder a cada elemento de una lista usamos el operador de indexación `[]`.\n",
    "Por ejemplo, para acceder al primer elemento de la lista `a` usamos `a[0]`, para\n",
    "acceder al segundo elemento usamos `a[1]`, y así sucesivamente.\n",
    "\n",
    "> **Recordatorio:** Los lenguajes de programación suelen comenzar a contar desde\n",
    "> cero debido a las [carreras de yates][cero], no por razones matemáticas o\n",
    "> técnicas.\n",
    ">\n",
    "> [cero]: https://exple.tive.org/blarg/2013/10/22/citation-needed/"
   ]
  },
  {
   "cell_type": "code",
   "execution_count": 25,
   "metadata": {},
   "outputs": [
    {
     "data": {
      "text/plain": [
       "23"
      ]
     },
     "execution_count": 25,
     "metadata": {},
     "output_type": "execute_result"
    }
   ],
   "source": [
    "suerte = [7, 13, 23, 42]  # Números de la suerte\n",
    "suerte[2]"
   ]
  },
  {
   "cell_type": "code",
   "execution_count": 26,
   "metadata": {},
   "outputs": [
    {
     "data": {
      "text/plain": [
       "42"
      ]
     },
     "execution_count": 26,
     "metadata": {},
     "output_type": "execute_result"
    }
   ],
   "source": [
    "suerte[-1]  # Último elemento"
   ]
  },
  {
   "cell_type": "markdown",
   "metadata": {},
   "source": [
    "Python admite una *notación de rebanadas* para acceder a una sublista de una\n",
    "lista.\n",
    "Esta tiene la forma `a[i:j]` y devuelve una lista que contiene los elementos\n",
    "de `a` desde el índice `i` hasta el índice `j-1`. ¿Confuso? Piensa en las\n",
    "rebanadas como los cortes que existen entre los elementos de la lista.\n",
    "Por ejemplo, la palabra \"Rebanadas\" tiene 10 cortes entre sus letras:\n",
    "\n",
    "```\n",
    " +---+---+---+---+---+---+---+---+---+\n",
    " | R | e | b | a | n | a | d | a | s |\n",
    " +---+---+---+---+---+---+---+---+---+\n",
    " 0   1   2   3   4   5   6   7   8   9\n",
    "-9  -8  -7  -6  -5  -4  -3  -2  -1    \n",
    "```"
   ]
  },
  {
   "cell_type": "code",
   "execution_count": 27,
   "metadata": {},
   "outputs": [
    {
     "data": {
      "text/plain": [
       "[13, 23]"
      ]
     },
     "execution_count": 27,
     "metadata": {},
     "output_type": "execute_result"
    }
   ],
   "source": [
    "# Probando rebanadas\n",
    "suerte[1:3]  # De la rebanada 1 a la 3"
   ]
  },
  {
   "cell_type": "code",
   "execution_count": 28,
   "metadata": {},
   "outputs": [
    {
     "data": {
      "text/plain": [
       "[13, 23, 42]"
      ]
     },
     "execution_count": 28,
     "metadata": {},
     "output_type": "execute_result"
    }
   ],
   "source": [
    "suerte[1:]  # De la rebanada 1 en adelante"
   ]
  },
  {
   "cell_type": "code",
   "execution_count": 29,
   "metadata": {},
   "outputs": [
    {
     "data": {
      "text/plain": [
       "[7, 13, 23]"
      ]
     },
     "execution_count": 29,
     "metadata": {},
     "output_type": "execute_result"
    }
   ],
   "source": [
    "suerte[:3]  # Hasta la rebanada 3"
   ]
  },
  {
   "cell_type": "code",
   "execution_count": 30,
   "metadata": {},
   "outputs": [
    {
     "data": {
      "text/plain": [
       "[7, 13, 23, 42]"
      ]
     },
     "execution_count": 30,
     "metadata": {},
     "output_type": "execute_result"
    }
   ],
   "source": [
    "suerte[:]  # Toda la lista"
   ]
  },
  {
   "cell_type": "markdown",
   "metadata": {},
   "source": [
    "Si además colocamos un segundo `:` después de `j`, podemos especificar un\n",
    "*salto* entre los elementos de la lista."
   ]
  },
  {
   "cell_type": "code",
   "execution_count": 31,
   "metadata": {},
   "outputs": [
    {
     "data": {
      "text/plain": [
       "[7, 23]"
      ]
     },
     "execution_count": 31,
     "metadata": {},
     "output_type": "execute_result"
    }
   ],
   "source": [
    "suerte[::2]  # La lista de dos en dos"
   ]
  },
  {
   "cell_type": "code",
   "execution_count": 32,
   "metadata": {},
   "outputs": [
    {
     "data": {
      "text/plain": [
       "[42, 23, 13, 7]"
      ]
     },
     "execution_count": 32,
     "metadata": {},
     "output_type": "execute_result"
    }
   ],
   "source": [
    "suerte[::-1]  # La lista al revés"
   ]
  },
  {
   "cell_type": "code",
   "execution_count": 33,
   "metadata": {},
   "outputs": [
    {
     "data": {
      "text/plain": [
       "[13, 42]"
      ]
     },
     "execution_count": 33,
     "metadata": {},
     "output_type": "execute_result"
    }
   ],
   "source": [
    "suerte[1::2]  # La lista de dos en dos, empezando en el elemento 1"
   ]
  },
  {
   "cell_type": "markdown",
   "metadata": {},
   "source": [
    "Las listas de Python se guardan como arreglos de punteros a objetos; a su vez,\n",
    "cada objeto es un puntero a una dirección de memoria que contiene el tipo de\n",
    "dato, el valor del objeto, e información adicional como el número de referencias\n",
    "al objeto (cuando este valor es cero, el objeto es eliminado de la memoria por\n",
    "el *recolector de basura* de Python).\n",
    "Puedes leer más sobre esto en [este tutorial][pyobject] de Real Python.\n",
    "\n",
    "[pyobject]: https://realpython.com/pointers-in-python/"
   ]
  },
  {
   "cell_type": "code",
   "execution_count": 34,
   "metadata": {},
   "outputs": [
    {
     "name": "stdout",
     "output_type": "stream",
     "text": [
      "\u001b[0;31mDocstring:\u001b[0m\n",
      "getsizeof(object [, default]) -> int\n",
      "\n",
      "Return the size of object in bytes.\n",
      "\u001b[0;31mType:\u001b[0m      builtin_function_or_method"
     ]
    }
   ],
   "source": [
    "sys.getsizeof?"
   ]
  },
  {
   "cell_type": "code",
   "execution_count": 35,
   "metadata": {},
   "outputs": [
    {
     "name": "stdout",
     "output_type": "stream",
     "text": [
      "La lista [1, 2, 3, 4, 5] ocupa 244 bytes en memoria\n"
     ]
    }
   ],
   "source": [
    "# Verificando el tamaño de la lista:\n",
    "tam = sys.getsizeof(arr) # El tamaño de la lista\n",
    "tam += sum(sys.getsizeof(x) for x in arr)  # El tamaño de los elementos\n",
    "print(f\"La lista {arr} ocupa {tam} bytes en memoria\")"
   ]
  },
  {
   "cell_type": "markdown",
   "metadata": {},
   "source": [
    "Para simular una matriz (de dos dimensiones) en Python, podemos usar una lista\n",
    "de listas.\n",
    "Cada lista interna representa un renglón de la matriz."
   ]
  },
  {
   "cell_type": "code",
   "execution_count": 36,
   "metadata": {},
   "outputs": [
    {
     "name": "stdout",
     "output_type": "stream",
     "text": [
      "[[1, 2, 3], [4, 5, 6], [7, 8, 9]]\n"
     ]
    }
   ],
   "source": [
    "arr = [[1,2,3], [4,5,6], [7,8,9]]\n",
    "print(arr)"
   ]
  },
  {
   "cell_type": "code",
   "execution_count": 37,
   "metadata": {},
   "outputs": [
    {
     "name": "stdout",
     "output_type": "stream",
     "text": [
      "[1, 2, 3]\n",
      "[4, 5, 6]\n",
      "[7, 8, 9]\n"
     ]
    }
   ],
   "source": [
    "for renglon in arr:\n",
    "    print(renglon)"
   ]
  },
  {
   "cell_type": "code",
   "execution_count": 38,
   "metadata": {},
   "outputs": [
    {
     "data": {
      "text/plain": [
       "[4, 5, 6]"
      ]
     },
     "execution_count": 38,
     "metadata": {},
     "output_type": "execute_result"
    }
   ],
   "source": [
    "arr[1]  # Segundo renglón"
   ]
  },
  {
   "cell_type": "code",
   "execution_count": 39,
   "metadata": {},
   "outputs": [
    {
     "data": {
      "text/plain": [
       "4"
      ]
     },
     "execution_count": 39,
     "metadata": {},
     "output_type": "execute_result"
    }
   ],
   "source": [
    "arr[1][0]  # Renglón 1, columna 0"
   ]
  },
  {
   "cell_type": "code",
   "execution_count": 40,
   "metadata": {},
   "outputs": [
    {
     "name": "stdout",
     "output_type": "stream",
     "text": [
      "[[1, 2, 3], [4.1, 5, 6], [7, 8, 9]]\n"
     ]
    }
   ],
   "source": [
    "arr[1][0] += 0.1  # Modificando el valor del renglón 1, columna 0\n",
    "\n",
    "print(arr)"
   ]
  },
  {
   "cell_type": "code",
   "execution_count": 41,
   "metadata": {},
   "outputs": [
    {
     "name": "stdout",
     "output_type": "stream",
     "text": [
      "[[1.1, 2.1, 3.1], [4.199999999999999, 5.1, 6.1], [7.1, 8.1, 9.1]]\n"
     ]
    }
   ],
   "source": [
    "# Sumar 0.1 a cada elemento de la matriz:\n",
    "for divisores in range(3):\n",
    "    for j in range(3):\n",
    "        arr[divisores][j] += 0.1\n",
    "print(arr)"
   ]
  },
  {
   "cell_type": "code",
   "execution_count": 42,
   "metadata": {},
   "outputs": [
    {
     "name": "stdout",
     "output_type": "stream",
     "text": [
      "[2, 5, 8]\n"
     ]
    }
   ],
   "source": [
    "arr = [[1, 2, 3], [4.1, 5, 6], [7, 8, 9]]\n",
    "# Obtener la columna 1 de la matriz:\n",
    "col = [ren[1] for ren in arr]\n",
    "print(col)"
   ]
  },
  {
   "cell_type": "code",
   "execution_count": 43,
   "metadata": {},
   "outputs": [
    {
     "name": "stdout",
     "output_type": "stream",
     "text": [
      "[[0, 0, 0], [0, 0, 0], [0, 0, 0]]\n"
     ]
    }
   ],
   "source": [
    "# Crear una matriz de ceros\n",
    "A = [[0] * 3 for i in range(3)]\n",
    "print(A)"
   ]
  },
  {
   "cell_type": "code",
   "execution_count": 44,
   "metadata": {},
   "outputs": [
    {
     "name": "stdout",
     "output_type": "stream",
     "text": [
      "[[0, 0, 0], [0, 1, 0], [0, 0, 0]]\n"
     ]
    }
   ],
   "source": [
    "A[1][1] = 1\n",
    "print(A)"
   ]
  },
  {
   "cell_type": "code",
   "execution_count": 45,
   "metadata": {},
   "outputs": [
    {
     "name": "stdout",
     "output_type": "stream",
     "text": [
      "[[30, 36, 42], [66, 81, 96], [102, 126, 150]]\n"
     ]
    }
   ],
   "source": [
    "# Elevar la matriz al cuadrado:\n",
    "A = [[1,2,3], [4,5,6], [7,8,9]]\n",
    "\n",
    "resultado = [[0]*3 for i in range(3)]\n",
    "for divisores in range(3):\n",
    "    for j in range(3):\n",
    "        resultado[divisores][j] = sum(A[divisores][k]* A[k][j] for k in range(3))\n",
    "\n",
    "print(resultado)"
   ]
  },
  {
   "cell_type": "code",
   "execution_count": 46,
   "metadata": {},
   "outputs": [
    {
     "name": "stdout",
     "output_type": "stream",
     "text": [
      "596\n"
     ]
    }
   ],
   "source": [
    "# Estimando el tamaño de la matriz en bytes:\n",
    "tam = sys.getsizeof(A)  # El tamaño de la lista más externa\n",
    "tam += sum(sys.getsizeof(reng) for reng in A)  # El tamaño de los renglones\n",
    "tam += sum(sys.getsizeof(x) for reng in A for x in reng)  # El tamaño de los elementos\n",
    "print(tam)"
   ]
  },
  {
   "cell_type": "markdown",
   "metadata": {},
   "source": [
    "Ahorrando memoria con el módulo `array` de la biblioteca estándar de Python."
   ]
  },
  {
   "cell_type": "code",
   "execution_count": 47,
   "metadata": {},
   "outputs": [],
   "source": [
    "# Usando el módulo `array` de Python:\n",
    "from array import array"
   ]
  },
  {
   "cell_type": "code",
   "execution_count": 48,
   "metadata": {},
   "outputs": [
    {
     "name": "stdout",
     "output_type": "stream",
     "text": [
      "\u001b[0;31mInit signature:\u001b[0m \u001b[0marray\u001b[0m\u001b[0;34m(\u001b[0m\u001b[0mself\u001b[0m\u001b[0;34m,\u001b[0m \u001b[0;34m/\u001b[0m\u001b[0;34m,\u001b[0m \u001b[0;34m*\u001b[0m\u001b[0margs\u001b[0m\u001b[0;34m,\u001b[0m \u001b[0;34m**\u001b[0m\u001b[0mkwargs\u001b[0m\u001b[0;34m)\u001b[0m\u001b[0;34m\u001b[0m\u001b[0;34m\u001b[0m\u001b[0m\n",
      "\u001b[0;31mDocstring:\u001b[0m     \n",
      "array(typecode [, initializer]) -> array\n",
      "\n",
      "Return a new array whose items are restricted by typecode, and\n",
      "initialized from the optional initializer value, which must be a list,\n",
      "string or iterable over elements of the appropriate type.\n",
      "\n",
      "Arrays represent basic values and behave very much like lists, except\n",
      "the type of objects stored in them is constrained. The type is specified\n",
      "at object creation time by using a type code, which is a single character.\n",
      "The following type codes are defined:\n",
      "\n",
      "    Type code   C Type             Minimum size in bytes\n",
      "    'b'         signed integer     1\n",
      "    'B'         unsigned integer   1\n",
      "    'u'         Unicode character  2 (see note)\n",
      "    'h'         signed integer     2\n",
      "    'H'         unsigned integer   2\n",
      "    'i'         signed integer     2\n",
      "    'I'         unsigned integer   2\n",
      "    'l'         signed integer     4\n",
      "    'L'         unsigned integer   4\n",
      "    'q'         signed integer     8 (see note)\n",
      "    'Q'         unsigned integer   8 (see note)\n",
      "    'f'         floating point     4\n",
      "    'd'         floating point     8\n",
      "\n",
      "NOTE: The 'u' typecode corresponds to Python's unicode character. On\n",
      "narrow builds this is 2-bytes on wide builds this is 4-bytes.\n",
      "\n",
      "NOTE: The 'q' and 'Q' type codes are only available if the platform\n",
      "C compiler used to build Python supports 'long long', or, on Windows,\n",
      "'__int64'.\n",
      "\n",
      "Methods:\n",
      "\n",
      "append() -- append a new item to the end of the array\n",
      "buffer_info() -- return information giving the current memory info\n",
      "byteswap() -- byteswap all the items of the array\n",
      "count() -- return number of occurrences of an object\n",
      "extend() -- extend array by appending multiple elements from an iterable\n",
      "fromfile() -- read items from a file object\n",
      "fromlist() -- append items from the list\n",
      "frombytes() -- append items from the string\n",
      "index() -- return index of first occurrence of an object\n",
      "insert() -- insert a new item into the array at a provided position\n",
      "pop() -- remove and return item (default last)\n",
      "remove() -- remove first occurrence of an object\n",
      "reverse() -- reverse the order of the items in the array\n",
      "tofile() -- write all items to a file object\n",
      "tolist() -- return the array converted to an ordinary list\n",
      "tobytes() -- return the array converted to a string\n",
      "\n",
      "Attributes:\n",
      "\n",
      "typecode -- the typecode character used to create the array\n",
      "itemsize -- the length in bytes of one array item\n",
      "\u001b[0;31mFile:\u001b[0m           /usr/local/lib/python3.11/lib-dynload/array.cpython-311-x86_64-linux-gnu.so\n",
      "\u001b[0;31mType:\u001b[0m           type\n",
      "\u001b[0;31mSubclasses:\u001b[0m     "
     ]
    }
   ],
   "source": [
    "?array"
   ]
  },
  {
   "cell_type": "code",
   "execution_count": 49,
   "metadata": {},
   "outputs": [
    {
     "data": {
      "text/plain": [
       "array('b', [1, 2, 3, 4, 5, 127, -128])"
      ]
     },
     "execution_count": 49,
     "metadata": {},
     "output_type": "execute_result"
    }
   ],
   "source": [
    "# Ejemplo de arreglo de enteros de un byte\n",
    "arr = array('b', [1,2,3,4,5, 127, -128])\n",
    "arr"
   ]
  },
  {
   "cell_type": "code",
   "execution_count": 50,
   "metadata": {},
   "outputs": [
    {
     "name": "stdout",
     "output_type": "stream",
     "text": [
      "Error: signed char is greater than maximum\n"
     ]
    }
   ],
   "source": [
    "# Los bytes tienen un rango de -128 a 127\n",
    "try:\n",
    "    arr.append(128)  # Fuera de rango\n",
    "except OverflowError as err:\n",
    "    print(f\"Error: {err}\")"
   ]
  },
  {
   "cell_type": "code",
   "execution_count": 51,
   "metadata": {},
   "outputs": [
    {
     "data": {
      "text/plain": [
       "array('f', [0.5, 0.1428571492433548, 0.6180340051651001])"
      ]
     },
     "execution_count": 51,
     "metadata": {},
     "output_type": "execute_result"
    }
   ],
   "source": [
    "# Ejemplo de arreglo de flotantes\n",
    "arr = array(\"f\", [0.5, 1 / 7, 0.5 * 5.0**0.5 - 0.5])\n",
    "arr"
   ]
  },
  {
   "cell_type": "code",
   "execution_count": 52,
   "metadata": {},
   "outputs": [
    {
     "data": {
      "text/plain": [
       "array('f', [0.5, 0.1428571492433548, 0.6180340051651001, 2.7182817459106445, 3.1415927410125732, nan, inf])"
      ]
     },
     "execution_count": 52,
     "metadata": {},
     "output_type": "execute_result"
    }
   ],
   "source": [
    "# Los flotantes incluyen constantes especiales como `nan` e `inf`\n",
    "arr.extend([math.e, math.pi, math.nan, math.inf])\n",
    "arr"
   ]
  },
  {
   "cell_type": "code",
   "execution_count": 53,
   "metadata": {},
   "outputs": [
    {
     "data": {
      "text/plain": [
       "array('f', [1.0, 42.0, 0.6180340051651001, 2.7182817459106445, 3.1415927410125732, nan, inf])"
      ]
     },
     "execution_count": 53,
     "metadata": {},
     "output_type": "execute_result"
    }
   ],
   "source": [
    "# Cualquier otro tipo de dato se intentará convertir a flotante\n",
    "arr[0] = True\n",
    "arr[1] = 42\n",
    "arr"
   ]
  },
  {
   "cell_type": "markdown",
   "metadata": {},
   "source": [
    "Los array de Python son 1D, por lo que no podemos usarlos para representar\n",
    "matrices de dos dimensiones de manera directa.\n",
    "En su lugar, podemos usar una lista de arrays de Python, donde cada array\n",
    "representa un renglón de la matriz."
   ]
  },
  {
   "cell_type": "code",
   "execution_count": 54,
   "metadata": {},
   "outputs": [
    {
     "name": "stdout",
     "output_type": "stream",
     "text": [
      "[array('f', [1.100000023841858, 2.0999999046325684, 3.0999999046325684]), array('f', [4.099999904632568, 5.099999904632568, 6.099999904632568]), array('f', [7.099999904632568, 8.100000381469727, 9.100000381469727])]\n"
     ]
    }
   ],
   "source": [
    "# Sumar 0.1 a cada entrada (otra vez)\n",
    "arr = [array(\"f\", [1, 2, 3]), array(\"f\", [4, 5, 6]), array(\"f\", [7, 8, 9])]\n",
    "for divisores in range(3):\n",
    "    for j in range(3):\n",
    "        arr[divisores][j] += 0.1\n",
    "# Dado que estamos usando flotantes de precisión simple, el resultado no\n",
    "# es exacto debido a errores de redondeo en la representación binaria.\n",
    "print(arr)"
   ]
  },
  {
   "cell_type": "code",
   "execution_count": 55,
   "metadata": {},
   "outputs": [
    {
     "data": {
      "text/plain": [
       "87"
      ]
     },
     "execution_count": 55,
     "metadata": {},
     "output_type": "execute_result"
    }
   ],
   "source": [
    "# Podemos apreciar que el tamaño de un arreglo de bytes es mucho menor:\n",
    "sys.getsizeof(array('b', [1,2,3,4,5, 127, -128]))"
   ]
  },
  {
   "cell_type": "code",
   "execution_count": 56,
   "metadata": {},
   "outputs": [
    {
     "name": "stdout",
     "output_type": "stream",
     "text": [
      "329\n"
     ]
    }
   ],
   "source": [
    "arr = [array(\"b\", [1, 2, 3]), array(\"b\", [4, 5, 6]), array(\"b\", [7, 8, 9])]\n",
    "tam = sys.getsizeof(arr)\n",
    "tam += sum(sys.getsizeof(ren) for ren in arr)\n",
    "print(tam)"
   ]
  },
  {
   "cell_type": "markdown",
   "metadata": {},
   "source": [
    "### 2.2 Creación de arreglos de NumPy"
   ]
  },
  {
   "cell_type": "code",
   "execution_count": 57,
   "metadata": {},
   "outputs": [],
   "source": [
    "import numpy as np  # Usamos \"np\" por convención"
   ]
  },
  {
   "cell_type": "code",
   "execution_count": 58,
   "metadata": {},
   "outputs": [
    {
     "name": "stdout",
     "output_type": "stream",
     "text": [
      "[[1 2 3]\n",
      " [4 5 6]\n",
      " [7 8 9]]\n"
     ]
    }
   ],
   "source": [
    "# Conversión de listas a arreglos:\n",
    "arr = np.array([[1,2,3],[4,5,6],[7,8,9]])\n",
    "print(arr)"
   ]
  },
  {
   "cell_type": "code",
   "execution_count": 59,
   "metadata": {},
   "outputs": [
    {
     "data": {
      "text/plain": [
       "dtype('int64')"
      ]
     },
     "execution_count": 59,
     "metadata": {},
     "output_type": "execute_result"
    }
   ],
   "source": [
    "# El tipo de dato del arreglo se infiere automáticamente:\n",
    "arr.dtype"
   ]
  },
  {
   "cell_type": "code",
   "execution_count": 60,
   "metadata": {},
   "outputs": [
    {
     "data": {
      "text/plain": [
       "72"
      ]
     },
     "execution_count": 60,
     "metadata": {},
     "output_type": "execute_result"
    }
   ],
   "source": [
    "# El tamaño del arreglo es mucho menor:\n",
    "arr.nbytes"
   ]
  },
  {
   "cell_type": "code",
   "execution_count": 61,
   "metadata": {},
   "outputs": [
    {
     "data": {
      "text/plain": [
       "array([0., 0., 0., 0., 0., 0., 0., 0., 0., 0.])"
      ]
     },
     "execution_count": 61,
     "metadata": {},
     "output_type": "execute_result"
    }
   ],
   "source": [
    "# Creación de arreglos en ceros:\n",
    "np.zeros(10)  # Un vector de 10 ceros"
   ]
  },
  {
   "cell_type": "code",
   "execution_count": 62,
   "metadata": {},
   "outputs": [
    {
     "data": {
      "text/plain": [
       "array([0, 0, 0, 0, 0, 0, 0, 0, 0, 0], dtype=int16)"
      ]
     },
     "execution_count": 62,
     "metadata": {},
     "output_type": "execute_result"
    }
   ],
   "source": [
    "np.zeros(10, dtype=np.int16)  # Un vector de 10 ceros enteros de 16 bits"
   ]
  },
  {
   "cell_type": "code",
   "execution_count": 63,
   "metadata": {},
   "outputs": [
    {
     "data": {
      "text/plain": [
       "array([[0, 0, 0, 0, 0],\n",
       "       [0, 0, 0, 0, 0],\n",
       "       [0, 0, 0, 0, 0],\n",
       "       [0, 0, 0, 0, 0],\n",
       "       [0, 0, 0, 0, 0]])"
      ]
     },
     "execution_count": 63,
     "metadata": {},
     "output_type": "execute_result"
    }
   ],
   "source": [
    "np.zeros((5, 5), dtype=np.int_)"
   ]
  },
  {
   "cell_type": "code",
   "execution_count": 64,
   "metadata": {},
   "outputs": [
    {
     "data": {
      "text/plain": [
       "array([ 0.,  1.,  2.,  3.,  4.,  5.,  6.,  7.,  8.,  9., 10.])"
      ]
     },
     "execution_count": 64,
     "metadata": {},
     "output_type": "execute_result"
    }
   ],
   "source": [
    "# Uso de linspace para crear un arreglo con elementos equiespaciados:\n",
    "np.linspace(0, 10, num=11)  # 11 números de 0 a 10"
   ]
  },
  {
   "cell_type": "code",
   "execution_count": 65,
   "metadata": {},
   "outputs": [
    {
     "data": {
      "text/plain": [
       "array([[0.6865995 , 0.65037192, 0.11266948, 0.95463219, 0.66161701],\n",
       "       [0.66232435, 0.14932956, 0.92375086, 0.61319932, 0.88173883],\n",
       "       [0.17964647, 0.31872257, 0.11507158, 0.04476491, 0.16061379],\n",
       "       [0.88307935, 0.08667292, 0.29298013, 0.00740072, 0.48590321],\n",
       "       [0.05797283, 0.33871742, 0.13294903, 0.13862041, 0.28694189]])"
      ]
     },
     "execution_count": 65,
     "metadata": {},
     "output_type": "execute_result"
    }
   ],
   "source": [
    "# Creación de arreglos aleatorios:\n",
    "np.random.random((5, 5))  # Arreglo de 5x5 con números aleatorios entre 0 y 1"
   ]
  },
  {
   "cell_type": "code",
   "execution_count": 66,
   "metadata": {},
   "outputs": [
    {
     "data": {
      "text/plain": [
       "array([ 1.65322867,  0.37912013,  0.86292447, -0.32679158,  0.32946471,\n",
       "       -0.825083  , -0.81906456,  1.35124596, -0.17241881,  0.36767491])"
      ]
     },
     "execution_count": 66,
     "metadata": {},
     "output_type": "execute_result"
    }
   ],
   "source": [
    "np.random.normal(size=10)  # 10 números aleatorios con distribución normal"
   ]
  },
  {
   "cell_type": "markdown",
   "metadata": {},
   "source": [
    "### 2.3 Acceso a elementos"
   ]
  },
  {
   "cell_type": "markdown",
   "metadata": {},
   "source": [
    "Veamos la manera en que podemos acceder a los elementos de un arreglo."
   ]
  },
  {
   "cell_type": "code",
   "execution_count": 67,
   "metadata": {},
   "outputs": [
    {
     "data": {
      "text/plain": [
       "8"
      ]
     },
     "execution_count": 67,
     "metadata": {},
     "output_type": "execute_result"
    }
   ],
   "source": [
    "# Elementos individuales de un arreglo:\n",
    "arr[2, 1]"
   ]
  },
  {
   "cell_type": "code",
   "execution_count": 68,
   "metadata": {},
   "outputs": [
    {
     "data": {
      "text/plain": [
       "array([1, 3, 5])"
      ]
     },
     "execution_count": 68,
     "metadata": {},
     "output_type": "execute_result"
    }
   ],
   "source": [
    "# Acceso a rebanadas de un arreglo 1D:\n",
    "arr1d = np.array([1,2,3,4,5])\n",
    "arr1d[::2]"
   ]
  },
  {
   "cell_type": "code",
   "execution_count": 69,
   "metadata": {},
   "outputs": [
    {
     "data": {
      "text/plain": [
       "array([4, 5, 6])"
      ]
     },
     "execution_count": 69,
     "metadata": {},
     "output_type": "execute_result"
    }
   ],
   "source": [
    "# Acceso a rebanadas de un arreglo 2D:\n",
    "arr2d = np.array(\n",
    "    [[1,2,3], \n",
    "     [4,5,6],\n",
    "     [7,8,9]]\n",
    ")\n",
    "\n",
    "arr2d[1]"
   ]
  },
  {
   "cell_type": "code",
   "execution_count": 70,
   "metadata": {},
   "outputs": [
    {
     "data": {
      "text/plain": [
       "array([[4, 5, 6],\n",
       "       [7, 8, 9]])"
      ]
     },
     "execution_count": 70,
     "metadata": {},
     "output_type": "execute_result"
    }
   ],
   "source": [
    "arr2d[1:]"
   ]
  },
  {
   "cell_type": "code",
   "execution_count": 71,
   "metadata": {},
   "outputs": [
    {
     "data": {
      "text/plain": [
       "array([[7, 8, 9],\n",
       "       [4, 5, 6],\n",
       "       [1, 2, 3]])"
      ]
     },
     "execution_count": 71,
     "metadata": {},
     "output_type": "execute_result"
    }
   ],
   "source": [
    "arr2d[::-1]  # Invertir el orden de los renglones"
   ]
  },
  {
   "cell_type": "code",
   "execution_count": 72,
   "metadata": {},
   "outputs": [
    {
     "data": {
      "text/plain": [
       "array([[9, 8, 7],\n",
       "       [6, 5, 4],\n",
       "       [3, 2, 1]])"
      ]
     },
     "execution_count": 72,
     "metadata": {},
     "output_type": "execute_result"
    }
   ],
   "source": [
    "arr2d[::-1, ::-1]  # Invertir el orden de los renglones y columnas"
   ]
  },
  {
   "cell_type": "code",
   "execution_count": 73,
   "metadata": {},
   "outputs": [
    {
     "data": {
      "text/plain": [
       "array([5, 6])"
      ]
     },
     "execution_count": 73,
     "metadata": {},
     "output_type": "execute_result"
    }
   ],
   "source": [
    "arr2d[1, 1:]"
   ]
  },
  {
   "cell_type": "code",
   "execution_count": 74,
   "metadata": {},
   "outputs": [
    {
     "data": {
      "text/plain": [
       "array([[5, 6],\n",
       "       [8, 9]])"
      ]
     },
     "execution_count": 74,
     "metadata": {},
     "output_type": "execute_result"
    }
   ],
   "source": [
    "arr2d[1:, 1:]"
   ]
  },
  {
   "cell_type": "markdown",
   "metadata": {},
   "source": [
    "Una cuestión muy importante en la obtención de rebanadas de un arreglo es que\n",
    "estas no son copias, sino vistas del arreglo original.\n",
    "Esto significa que si modificas una rebanada, también modificarás el arreglo\n",
    "original."
   ]
  },
  {
   "cell_type": "code",
   "execution_count": 75,
   "metadata": {},
   "outputs": [
    {
     "name": "stdout",
     "output_type": "stream",
     "text": [
      "resultado=[3, 0, 5, 6]\n",
      "arr=[1, 2, 3, 4, 5, 6]\n"
     ]
    }
   ],
   "source": [
    "# Primero veamos lo que pasa con las rebanadas de listas:\n",
    "arr = [1,2,3,4,5,6]\n",
    "resultado = arr[2:]\n",
    "resultado[1] = 0\n",
    "print(f\"{resultado=}\")\n",
    "print(f\"{arr=}\")"
   ]
  },
  {
   "cell_type": "code",
   "execution_count": 76,
   "metadata": {},
   "outputs": [
    {
     "name": "stdout",
     "output_type": "stream",
     "text": [
      "resultado=array([3, 0, 5, 6])\n",
      "arr=array([1, 2, 3, 0, 5, 6])\n"
     ]
    }
   ],
   "source": [
    "# Lo mismo, pero con arreglos de NumPy:\n",
    "arr = np.array([1,2,3,4,5,6])\n",
    "resultado = arr[2:]\n",
    "resultado[1] = 0\n",
    "print(f\"{resultado=}\")\n",
    "print(f\"{arr=}\")"
   ]
  },
  {
   "cell_type": "markdown",
   "metadata": {},
   "source": [
    "### 2.4 Operaciones con arreglos"
   ]
  },
  {
   "cell_type": "markdown",
   "metadata": {},
   "source": [
    "Las operaciones con arreglos en NumPy son *vectorizadas*, lo que significa que\n",
    "las operaciones se aplican a cada elemento del arreglo."
   ]
  },
  {
   "cell_type": "code",
   "execution_count": 77,
   "metadata": {},
   "outputs": [
    {
     "data": {
      "text/plain": [
       "array([2, 3, 4, 5, 6])"
      ]
     },
     "execution_count": 77,
     "metadata": {},
     "output_type": "execute_result"
    }
   ],
   "source": [
    "# Aritmética de arreglos\n",
    "arr = np.array([1,2,3,4,5])\n",
    "arr + 1"
   ]
  },
  {
   "cell_type": "code",
   "execution_count": 78,
   "metadata": {},
   "outputs": [
    {
     "data": {
      "text/plain": [
       "array([5, 5, 5, 5])"
      ]
     },
     "execution_count": 78,
     "metadata": {},
     "output_type": "execute_result"
    }
   ],
   "source": [
    "arr1 = np.array([1,2,3,4])\n",
    "arr2 = np.array([4,3,2,1])\n",
    "arr1 + arr2"
   ]
  },
  {
   "cell_type": "markdown",
   "metadata": {},
   "source": [
    "En particular, el uso de `linspace` combinado con las operaciones vectorizadas\n",
    "de NumPy es muy útil para la tabulación de funciones, que es una tarea común\n",
    "en visualización de datos así como en el procesamiento digital de imágenes."
   ]
  },
  {
   "cell_type": "code",
   "execution_count": 79,
   "metadata": {},
   "outputs": [
    {
     "data": {
      "text/plain": [
       "array([8.10000000e+01, 7.38196585e+01, 6.69725115e+01, 6.04585589e+01,\n",
       "       5.42778009e+01, 4.84302374e+01, 4.29158684e+01, 3.77346939e+01,\n",
       "       3.28867139e+01, 2.83719284e+01, 2.41903374e+01, 2.03419409e+01,\n",
       "       1.68267389e+01, 1.36447314e+01, 1.07959184e+01, 8.28029988e+00,\n",
       "       6.09787589e+00, 4.24864640e+00, 2.73261141e+00, 1.54977093e+00,\n",
       "       7.00124948e-01, 1.83673469e-01, 4.16493128e-04, 1.50354019e-01,\n",
       "       6.33486047e-01, 1.44981258e+00, 2.59933361e+00, 4.08204915e+00,\n",
       "       5.89795918e+00, 8.04706372e+00, 1.05293628e+01, 1.33448563e+01,\n",
       "       1.64935444e+01, 1.99754269e+01, 2.37905040e+01, 2.79387755e+01,\n",
       "       3.24202416e+01, 3.72349021e+01, 4.23827572e+01, 4.78638067e+01,\n",
       "       5.36780508e+01, 5.98254894e+01, 6.63061224e+01, 7.31199500e+01,\n",
       "       8.02669721e+01, 8.77471887e+01, 9.55605998e+01, 1.03707205e+02,\n",
       "       1.12187005e+02, 1.21000000e+02])"
      ]
     },
     "execution_count": 79,
     "metadata": {},
     "output_type": "execute_result"
    }
   ],
   "source": [
    "# Tabulación de polinomios:\n",
    "x = np.linspace(-10, 10)\n",
    "y = x**2 + 2*x + 1\n",
    "y"
   ]
  },
  {
   "cell_type": "markdown",
   "metadata": {},
   "source": [
    "Numpy usa el concepto de *función universal* (**ufunc**) para aplicar\n",
    "operaciones a cada elemento de un arreglo.\n",
    "Las operaciones aritméticas son ejemplos de *ufuncs*, pero también están\n",
    "presentes funciones comunes como `np.abs`, `np.sin`, `np.cos`, `np.exp`,\n",
    "`np.log` y muchas más.\n"
   ]
  },
  {
   "cell_type": "code",
   "execution_count": 80,
   "metadata": {},
   "outputs": [
    {
     "data": {
      "text/plain": [
       "array([ 1.        ,  1.18931394,  1.24991384,  1.21170834,  1.12387362,\n",
       "        1.0396238 ,  1.00051352,  1.02444348,  1.10054098,  1.19226648,\n",
       "        1.24792657,  1.21581503,  1.05996523,  0.77229975,  0.37786116,\n",
       "       -0.06842845, -0.49285478, -0.8191914 , -0.98615869, -0.96170966,\n",
       "       -0.75056307, -0.39309195,  0.04415326,  0.48390767,  0.85577027,\n",
       "        1.11152459,  1.23444168,  1.24037432,  1.17057102,  1.07826218,\n",
       "        1.01265391,  1.00459953,  1.05774544,  1.14748973,  1.22802834,\n",
       "        1.24562864,  1.15461701,  0.93182479,  0.58559859,  0.15685677,\n",
       "       -0.28828951, -0.67265764, -0.92541235, -0.99845891, -0.87771191,\n",
       "       -0.58641191, -0.17965676,  0.26847873,  0.68200477,  1.        ])"
      ]
     },
     "execution_count": 80,
     "metadata": {},
     "output_type": "execute_result"
    }
   ],
   "source": [
    "# Tabulación de funciones elementales:\n",
    "x = np.linspace(-2*np.pi, 2*np.pi)\n",
    "y = np.sin(x) + np.cos(x)**2\n",
    "y"
   ]
  },
  {
   "cell_type": "code",
   "execution_count": 81,
   "metadata": {},
   "outputs": [
    {
     "data": {
      "text/plain": [
       "array([0.00186396, 0.00240757, 0.00310921, 0.00401452, 0.00518205,\n",
       "       0.00668685, 0.00862484, 0.01111822, 0.014322  , 0.01843176,\n",
       "       0.02369248, 0.03040819, 0.03895153, 0.04977196, 0.06339992,\n",
       "       0.08044344, 0.10157182, 0.12748022, 0.1588289 , 0.19615347,\n",
       "       0.2397493 , 0.28954438, 0.34498858, 0.40499748, 0.46798678,\n",
       "       0.53201322, 0.59500252, 0.65501142, 0.71045562, 0.7602507 ,\n",
       "       0.80384653, 0.8411711 , 0.87251978, 0.89842818, 0.91955656,\n",
       "       0.93660008, 0.95022804, 0.96104847, 0.96959181, 0.97630752,\n",
       "       0.98156824, 0.985678  , 0.98888178, 0.99137516, 0.99331315,\n",
       "       0.99481795, 0.99598548, 0.99689079, 0.99759243, 0.99813604])"
      ]
     },
     "execution_count": 81,
     "metadata": {},
     "output_type": "execute_result"
    }
   ],
   "source": [
    "# La función logística (también llamada `expit`) manda valores reales\n",
    "# (-inf, inf) a (0, 1); es útil para modelar probabilidades:\n",
    "x = np.linspace(-2*np.pi, 2*np.pi)\n",
    "y = 1/(1 + np.exp(-x))\n",
    "y"
   ]
  },
  {
   "cell_type": "code",
   "execution_count": 82,
   "metadata": {},
   "outputs": [
    {
     "name": "stderr",
     "output_type": "stream",
     "text": [
      "/tmp/ipykernel_18092/3779991517.py:4: RuntimeWarning: divide by zero encountered in divide\n",
      "  y = np.log(x/(1 - x))\n",
      "/tmp/ipykernel_18092/3779991517.py:4: RuntimeWarning: divide by zero encountered in log\n",
      "  y = np.log(x/(1 - x))\n"
     ]
    },
    {
     "data": {
      "text/plain": [
       "array([       -inf, -3.87120101, -3.15700042, -2.73002911, -2.42036813,\n",
       "       -2.17475172, -1.96944065, -1.79175947, -1.63413053, -1.49165488,\n",
       "       -1.36097655, -1.23969089, -1.12601126, -1.01856958, -0.91629073,\n",
       "       -0.81831032, -0.72391884, -0.63252256, -0.54361545, -0.4567584 ,\n",
       "       -0.37156356, -0.28768207, -0.20479441, -0.12260232, -0.04082199,\n",
       "        0.04082199,  0.12260232,  0.20479441,  0.28768207,  0.37156356,\n",
       "        0.4567584 ,  0.54361545,  0.63252256,  0.72391884,  0.81831032,\n",
       "        0.91629073,  1.01856958,  1.12601126,  1.23969089,  1.36097655,\n",
       "        1.49165488,  1.63413053,  1.79175947,  1.96944065,  2.17475172,\n",
       "        2.42036813,  2.73002911,  3.15700042,  3.87120101,         inf])"
      ]
     },
     "execution_count": 82,
     "metadata": {},
     "output_type": "execute_result"
    }
   ],
   "source": [
    "# La función inversa a expit es la función logit, que manda valores\n",
    "# (0, 1) a (-inf, inf):\n",
    "x = np.linspace(0, 1)\n",
    "y = np.log(x/(1 - x))\n",
    "y"
   ]
  },
  {
   "cell_type": "markdown",
   "metadata": {},
   "source": [
    "Algunas funciones son de *agregación*, lo que significa que reducen un arreglo\n",
    "a un solo valor.\n",
    "Estas funciones incluyen `np.sum`, `np.prod`, `np.mean`, `np.std`, `np.var`,\n",
    "`np.min`, `np.max`, `np.median`,  `np.percentile`, `np.any` y `np.all`."
   ]
  },
  {
   "cell_type": "code",
   "execution_count": 83,
   "metadata": {},
   "outputs": [
    {
     "data": {
      "text/plain": [
       "497.17783852843195"
      ]
     },
     "execution_count": 83,
     "metadata": {},
     "output_type": "execute_result"
    }
   ],
   "source": [
    "rng = np.random.default_rng(42)\n",
    "arr = rng.random(1000)  # Mil números aleatorios entre 0 y 1\n",
    "np.sum(arr)  # Suma de todos los elementos"
   ]
  },
  {
   "cell_type": "markdown",
   "metadata": {},
   "source": [
    "La manera más simple de representar una distribución de datos es mediante la\n",
    "expresión $\\mu \\pm \\sigma$, donde $\\mu$ es la media y $\\sigma$ es la desviación\n",
    "estándar, usualmente redondeada a dos o tres decimales."
   ]
  },
  {
   "cell_type": "code",
   "execution_count": 84,
   "metadata": {},
   "outputs": [
    {
     "name": "stdout",
     "output_type": "stream",
     "text": [
      "0.497 ± 0.291\n"
     ]
    }
   ],
   "source": [
    "print(f\"{np.mean(arr):.3} ± {np.std(arr):.3}\")"
   ]
  },
  {
   "cell_type": "code",
   "execution_count": 85,
   "metadata": {},
   "outputs": [
    {
     "name": "stdout",
     "output_type": "stream",
     "text": [
      "np.max(arr)=0.9991047304742386\n",
      "np.quantile(arr, 0.25)=0.2402592486877074\n",
      "np.median(arr)=0.4948241015730209\n",
      "np.quantile(arr, 0.75)=0.7588933903124163\n",
      "np.min(arr)=0.001233062511908134\n"
     ]
    }
   ],
   "source": [
    "# Otra forma común es mediante los 5 números resumen:\n",
    "print(f\"{np.max(arr)=}\")\n",
    "print(f\"{np.quantile(arr, 0.25)=}\")\n",
    "print(f\"{np.median(arr)=}\")\n",
    "print(f\"{np.quantile(arr, 0.75)=}\")\n",
    "print(f\"{np.min(arr)=}\")"
   ]
  },
  {
   "cell_type": "markdown",
   "metadata": {},
   "source": [
    "### 2.5 Selección de elementos y operadores booleanos"
   ]
  },
  {
   "cell_type": "code",
   "execution_count": 86,
   "metadata": {},
   "outputs": [
    {
     "data": {
      "text/plain": [
       "array([False, False, False, False, False, False, False, False, False,\n",
       "       False, False, False, False, False, False, False, False, False,\n",
       "       False, False, False, False, False, False, False, False,  True,\n",
       "        True,  True,  True,  True,  True,  True,  True,  True,  True,\n",
       "        True,  True,  True,  True,  True,  True,  True,  True,  True,\n",
       "        True,  True,  True,  True,  True])"
      ]
     },
     "execution_count": 86,
     "metadata": {},
     "output_type": "execute_result"
    }
   ],
   "source": [
    "arr = np.arange(50)  # Un arreglo de 50 elementos: 0, 1, 2, ..., 49\n",
    "mask = arr > 25  # ¿Cuáles elementos son mayores a 25?\n",
    "mask"
   ]
  },
  {
   "cell_type": "code",
   "execution_count": 87,
   "metadata": {},
   "outputs": [
    {
     "data": {
      "text/plain": [
       "array([26, 27, 28, 29, 30, 31, 32, 33, 34, 35, 36, 37, 38, 39, 40, 41, 42,\n",
       "       43, 44, 45, 46, 47, 48, 49])"
      ]
     },
     "execution_count": 87,
     "metadata": {},
     "output_type": "execute_result"
    }
   ],
   "source": [
    "arr[mask]  # Los elementos que son mayores a 25"
   ]
  },
  {
   "cell_type": "code",
   "execution_count": 88,
   "metadata": {},
   "outputs": [
    {
     "name": "stdout",
     "output_type": "stream",
     "text": [
      "\u001b[0;31mDocstring:\u001b[0m\n",
      "frompyfunc(func, /, nin, nout, *[, identity])\n",
      "\n",
      "Takes an arbitrary Python function and returns a NumPy ufunc.\n",
      "\n",
      "Can be used, for example, to add broadcasting to a built-in Python\n",
      "function (see Examples section).\n",
      "\n",
      "Parameters\n",
      "----------\n",
      "func : Python function object\n",
      "    An arbitrary Python function.\n",
      "nin : int\n",
      "    The number of input arguments.\n",
      "nout : int\n",
      "    The number of objects returned by `func`.\n",
      "identity : object, optional\n",
      "    The value to use for the `~numpy.ufunc.identity` attribute of the resulting\n",
      "    object. If specified, this is equivalent to setting the underlying\n",
      "    C ``identity`` field to ``PyUFunc_IdentityValue``.\n",
      "    If omitted, the identity is set to ``PyUFunc_None``. Note that this is\n",
      "    _not_ equivalent to setting the identity to ``None``, which implies the\n",
      "    operation is reorderable.\n",
      "\n",
      "Returns\n",
      "-------\n",
      "out : ufunc\n",
      "    Returns a NumPy universal function (``ufunc``) object.\n",
      "\n",
      "See Also\n",
      "--------\n",
      "vectorize : Evaluates pyfunc over input arrays using broadcasting rules of numpy.\n",
      "\n",
      "Notes\n",
      "-----\n",
      "The returned ufunc always returns PyObject arrays.\n",
      "\n",
      "Examples\n",
      "--------\n",
      "Use frompyfunc to add broadcasting to the Python function ``oct``:\n",
      "\n",
      ">>> oct_array = np.frompyfunc(oct, 1, 1)\n",
      ">>> oct_array(np.array((10, 30, 100)))\n",
      "array(['0o12', '0o36', '0o144'], dtype=object)\n",
      ">>> np.array((oct(10), oct(30), oct(100))) # for comparison\n",
      "array(['0o12', '0o36', '0o144'], dtype='<U5')\n",
      "\u001b[0;31mType:\u001b[0m      builtin_function_or_method"
     ]
    }
   ],
   "source": [
    "np.frompyfunc?"
   ]
  },
  {
   "cell_type": "code",
   "execution_count": 89,
   "metadata": {},
   "outputs": [
    {
     "data": {
      "text/plain": [
       "array([False, False,  True,  True, False,  True, False,  True, False,\n",
       "       False, False,  True, False,  True, False, False, False,  True,\n",
       "       False,  True, False, False, False,  True, False, False, False,\n",
       "       False, False,  True, False,  True, False, False, False, False,\n",
       "       False,  True, False, False, False,  True, False,  True, False,\n",
       "       False, False,  True, False, False])"
      ]
     },
     "execution_count": 89,
     "metadata": {},
     "output_type": "execute_result"
    }
   ],
   "source": [
    "def es_primo(n: int) -> bool:\n",
    "    if n < 2:\n",
    "        return False\n",
    "    divisores = np.arange(2, math.isqrt(n) + 1)\n",
    "    return not np.any(n % divisores == 0)\n",
    "\n",
    "# Hagamos que la función `es_primo` funcione con arreglos de NumPy:\n",
    "es_primo_ufunc = np.frompyfunc(es_primo, 1, 1, identity=None)\n",
    "mask = es_primo_ufunc(arr).astype(bool)  # ¿Cuáles elementos son primos?\n",
    "mask"
   ]
  },
  {
   "cell_type": "code",
   "execution_count": 90,
   "metadata": {},
   "outputs": [
    {
     "data": {
      "text/plain": [
       "array([ 2,  3,  5,  7, 11, 13, 17, 19, 23, 29, 31, 37, 41, 43, 47])"
      ]
     },
     "execution_count": 90,
     "metadata": {},
     "output_type": "execute_result"
    }
   ],
   "source": [
    "arr[mask]  # Los elementos que son primos"
   ]
  },
  {
   "cell_type": "markdown",
   "metadata": {},
   "source": [
    "## 3. Visualización de datos con Matplotlib\n"
   ]
  },
  {
   "cell_type": "markdown",
   "metadata": {},
   "source": [
    "### 3.1 Gráficos de línea"
   ]
  },
  {
   "cell_type": "markdown",
   "metadata": {},
   "source": [
    "*Matplotlib* es una biblioteca para la visualización de datos y está diseñada\n",
    "a imagen y semejanza de la visualización de datos en MATLAB (de ahí el nombre)."
   ]
  },
  {
   "cell_type": "code",
   "execution_count": 91,
   "metadata": {},
   "outputs": [
    {
     "data": {
      "image/png": "[encoded data removed]",
      "text/plain": [
       "<Figure size 640x480 with 1 Axes>"
      ]
     },
     "metadata": {},
     "output_type": "display_data"
    }
   ],
   "source": [
    "# Creamos las coordenadas de una letra Z:\n",
    "x = [0, 1, 0, 1]\n",
    "y = [1, 1, 0, 0]\n",
    "\n",
    "# La graficamos con la función `plot`:\n",
    "plt.plot(x, y)\n",
    "\n",
    "# Mostramos la gráfica (opcional en Jupyter, obligatorio en scripts):\n",
    "plt.show()"
   ]
  },
  {
   "cell_type": "markdown",
   "metadata": {},
   "source": [
    "Sin embargo, dado que Python es un lenguaje de programación general y orientado\n",
    "a objetos, Matplotlib también es una biblioteca orientada a objetos; lo que\n",
    "nos permite programar gráficos de manera más flexible y poderosa (de forma\n",
    "decente, por lo menos).\n",
    "\n",
    "En esta interfaz orientada a objetos tenemos algunas clases principales:\n",
    "\n",
    "- `Artist` (**Artista**): Cualquier cosa que se pueda dibujar en un gráfico.\n",
    "  Esto incluye objetos como líneas (`Line2D`), texto (`Text`), polígonos\n",
    "  (`Polygon`), imágenes (`Image`), y más.\n",
    "- `Axes` (**Ejes**): El área donde dibujan los artistas, esta está delimitada\n",
    "  por los ejes.\n",
    "- `Figure` (**Figura**): La ventana que contiene uno o varios ejes."
   ]
  },
  {
   "cell_type": "code",
   "execution_count": 92,
   "metadata": {},
   "outputs": [
    {
     "name": "stdout",
     "output_type": "stream",
     "text": [
      "\u001b[0;31mSignature:\u001b[0m\n",
      "\u001b[0mplt\u001b[0m\u001b[0;34m.\u001b[0m\u001b[0msubplots\u001b[0m\u001b[0;34m(\u001b[0m\u001b[0;34m\u001b[0m\n",
      "\u001b[0;34m\u001b[0m    \u001b[0mnrows\u001b[0m\u001b[0;34m:\u001b[0m \u001b[0;34m'int'\u001b[0m \u001b[0;34m=\u001b[0m \u001b[0;36m1\u001b[0m\u001b[0;34m,\u001b[0m\u001b[0;34m\u001b[0m\n",
      "\u001b[0;34m\u001b[0m    \u001b[0mncols\u001b[0m\u001b[0;34m:\u001b[0m \u001b[0;34m'int'\u001b[0m \u001b[0;34m=\u001b[0m \u001b[0;36m1\u001b[0m\u001b[0;34m,\u001b[0m\u001b[0;34m\u001b[0m\n",
      "\u001b[0;34m\u001b[0m    \u001b[0;34m*\u001b[0m\u001b[0;34m,\u001b[0m\u001b[0;34m\u001b[0m\n",
      "\u001b[0;34m\u001b[0m    \u001b[0msharex\u001b[0m\u001b[0;34m:\u001b[0m \u001b[0;34m\"bool | Literal['none', 'all', 'row', 'col']\"\u001b[0m \u001b[0;34m=\u001b[0m \u001b[0;32mFalse\u001b[0m\u001b[0;34m,\u001b[0m\u001b[0;34m\u001b[0m\n",
      "\u001b[0;34m\u001b[0m    \u001b[0msharey\u001b[0m\u001b[0;34m:\u001b[0m \u001b[0;34m\"bool | Literal['none', 'all', 'row', 'col']\"\u001b[0m \u001b[0;34m=\u001b[0m \u001b[0;32mFalse\u001b[0m\u001b[0;34m,\u001b[0m\u001b[0;34m\u001b[0m\n",
      "\u001b[0;34m\u001b[0m    \u001b[0msqueeze\u001b[0m\u001b[0;34m:\u001b[0m \u001b[0;34m'bool'\u001b[0m \u001b[0;34m=\u001b[0m \u001b[0;32mTrue\u001b[0m\u001b[0;34m,\u001b[0m\u001b[0;34m\u001b[0m\n",
      "\u001b[0;34m\u001b[0m    \u001b[0mwidth_ratios\u001b[0m\u001b[0;34m:\u001b[0m \u001b[0;34m'Sequence[float] | None'\u001b[0m \u001b[0;34m=\u001b[0m \u001b[0;32mNone\u001b[0m\u001b[0;34m,\u001b[0m\u001b[0;34m\u001b[0m\n",
      "\u001b[0;34m\u001b[0m    \u001b[0mheight_ratios\u001b[0m\u001b[0;34m:\u001b[0m \u001b[0;34m'Sequence[float] | None'\u001b[0m \u001b[0;34m=\u001b[0m \u001b[0;32mNone\u001b[0m\u001b[0;34m,\u001b[0m\u001b[0;34m\u001b[0m\n",
      "\u001b[0;34m\u001b[0m    \u001b[0msubplot_kw\u001b[0m\u001b[0;34m:\u001b[0m \u001b[0;34m'dict[str, Any] | None'\u001b[0m \u001b[0;34m=\u001b[0m \u001b[0;32mNone\u001b[0m\u001b[0;34m,\u001b[0m\u001b[0;34m\u001b[0m\n",
      "\u001b[0;34m\u001b[0m    \u001b[0mgridspec_kw\u001b[0m\u001b[0;34m:\u001b[0m \u001b[0;34m'dict[str, Any] | None'\u001b[0m \u001b[0;34m=\u001b[0m \u001b[0;32mNone\u001b[0m\u001b[0;34m,\u001b[0m\u001b[0;34m\u001b[0m\n",
      "\u001b[0;34m\u001b[0m    \u001b[0;34m**\u001b[0m\u001b[0mfig_kw\u001b[0m\u001b[0;34m,\u001b[0m\u001b[0;34m\u001b[0m\n",
      "\u001b[0;34m\u001b[0m\u001b[0;34m)\u001b[0m \u001b[0;34m->\u001b[0m \u001b[0;34m'tuple[Figure, Any]'\u001b[0m\u001b[0;34m\u001b[0m\u001b[0;34m\u001b[0m\u001b[0m\n",
      "\u001b[0;31mDocstring:\u001b[0m\n",
      "Create a figure and a set of subplots.\n",
      "\n",
      "This utility wrapper makes it convenient to create common layouts of\n",
      "subplots, including the enclosing figure object, in a single call.\n",
      "\n",
      "Parameters\n",
      "----------\n",
      "nrows, ncols : int, default: 1\n",
      "    Number of rows/columns of the subplot grid.\n",
      "\n",
      "sharex, sharey : bool or {'none', 'all', 'row', 'col'}, default: False\n",
      "    Controls sharing of properties among x (*sharex*) or y (*sharey*)\n",
      "    axes:\n",
      "\n",
      "    - True or 'all': x- or y-axis will be shared among all subplots.\n",
      "    - False or 'none': each subplot x- or y-axis will be independent.\n",
      "    - 'row': each subplot row will share an x- or y-axis.\n",
      "    - 'col': each subplot column will share an x- or y-axis.\n",
      "\n",
      "    When subplots have a shared x-axis along a column, only the x tick\n",
      "    labels of the bottom subplot are created. Similarly, when subplots\n",
      "    have a shared y-axis along a row, only the y tick labels of the first\n",
      "    column subplot are created. To later turn other subplots' ticklabels\n",
      "    on, use `~matplotlib.axes.Axes.tick_params`.\n",
      "\n",
      "    When subplots have a shared axis that has units, calling\n",
      "    `~matplotlib.axis.Axis.set_units` will update each axis with the\n",
      "    new units.\n",
      "\n",
      "squeeze : bool, default: True\n",
      "    - If True, extra dimensions are squeezed out from the returned\n",
      "      array of `~matplotlib.axes.Axes`:\n",
      "\n",
      "      - if only one subplot is constructed (nrows=ncols=1), the\n",
      "        resulting single Axes object is returned as a scalar.\n",
      "      - for Nx1 or 1xM subplots, the returned object is a 1D numpy\n",
      "        object array of Axes objects.\n",
      "      - for NxM, subplots with N>1 and M>1 are returned as a 2D array.\n",
      "\n",
      "    - If False, no squeezing at all is done: the returned Axes object is\n",
      "      always a 2D array containing Axes instances, even if it ends up\n",
      "      being 1x1.\n",
      "\n",
      "width_ratios : array-like of length *ncols*, optional\n",
      "    Defines the relative widths of the columns. Each column gets a\n",
      "    relative width of ``width_ratios[i] / sum(width_ratios)``.\n",
      "    If not given, all columns will have the same width.  Equivalent\n",
      "    to ``gridspec_kw={'width_ratios': [...]}``.\n",
      "\n",
      "height_ratios : array-like of length *nrows*, optional\n",
      "    Defines the relative heights of the rows. Each row gets a\n",
      "    relative height of ``height_ratios[i] / sum(height_ratios)``.\n",
      "    If not given, all rows will have the same height. Convenience\n",
      "    for ``gridspec_kw={'height_ratios': [...]}``.\n",
      "\n",
      "subplot_kw : dict, optional\n",
      "    Dict with keywords passed to the\n",
      "    `~matplotlib.figure.Figure.add_subplot` call used to create each\n",
      "    subplot.\n",
      "\n",
      "gridspec_kw : dict, optional\n",
      "    Dict with keywords passed to the `~matplotlib.gridspec.GridSpec`\n",
      "    constructor used to create the grid the subplots are placed on.\n",
      "\n",
      "**fig_kw\n",
      "    All additional keyword arguments are passed to the\n",
      "    `.pyplot.figure` call.\n",
      "\n",
      "Returns\n",
      "-------\n",
      "fig : `.Figure`\n",
      "\n",
      "ax : `~matplotlib.axes.Axes` or array of Axes\n",
      "    *ax* can be either a single `~.axes.Axes` object, or an array of Axes\n",
      "    objects if more than one subplot was created.  The dimensions of the\n",
      "    resulting array can be controlled with the squeeze keyword, see above.\n",
      "\n",
      "    Typical idioms for handling the return value are::\n",
      "\n",
      "        # using the variable ax for single a Axes\n",
      "        fig, ax = plt.subplots()\n",
      "\n",
      "        # using the variable axs for multiple Axes\n",
      "        fig, axs = plt.subplots(2, 2)\n",
      "\n",
      "        # using tuple unpacking for multiple Axes\n",
      "        fig, (ax1, ax2) = plt.subplots(1, 2)\n",
      "        fig, ((ax1, ax2), (ax3, ax4)) = plt.subplots(2, 2)\n",
      "\n",
      "    The names ``ax`` and pluralized ``axs`` are preferred over ``axes``\n",
      "    because for the latter it's not clear if it refers to a single\n",
      "    `~.axes.Axes` instance or a collection of these.\n",
      "\n",
      "See Also\n",
      "--------\n",
      ".pyplot.figure\n",
      ".pyplot.subplot\n",
      ".pyplot.axes\n",
      ".Figure.subplots\n",
      ".Figure.add_subplot\n",
      "\n",
      "Examples\n",
      "--------\n",
      "::\n",
      "\n",
      "    # First create some toy data:\n",
      "    x = np.linspace(0, 2*np.pi, 400)\n",
      "    y = np.sin(x**2)\n",
      "\n",
      "    # Create just a figure and only one subplot\n",
      "    fig, ax = plt.subplots()\n",
      "    ax.plot(x, y)\n",
      "    ax.set_title('Simple plot')\n",
      "\n",
      "    # Create two subplots and unpack the output array immediately\n",
      "    f, (ax1, ax2) = plt.subplots(1, 2, sharey=True)\n",
      "    ax1.plot(x, y)\n",
      "    ax1.set_title('Sharing Y axis')\n",
      "    ax2.scatter(x, y)\n",
      "\n",
      "    # Create four polar axes and access them through the returned array\n",
      "    fig, axs = plt.subplots(2, 2, subplot_kw=dict(projection=\"polar\"))\n",
      "    axs[0, 0].plot(x, y)\n",
      "    axs[1, 1].scatter(x, y)\n",
      "\n",
      "    # Share a X axis with each column of subplots\n",
      "    plt.subplots(2, 2, sharex='col')\n",
      "\n",
      "    # Share a Y axis with each row of subplots\n",
      "    plt.subplots(2, 2, sharey='row')\n",
      "\n",
      "    # Share both X and Y axes with all subplots\n",
      "    plt.subplots(2, 2, sharex='all', sharey='all')\n",
      "\n",
      "    # Note that this is the same as\n",
      "    plt.subplots(2, 2, sharex=True, sharey=True)\n",
      "\n",
      "    # Create figure number 10 with a single subplot\n",
      "    # and clears it if it already exists.\n",
      "    fig, ax = plt.subplots(num=10, clear=True)\n",
      "\u001b[0;31mFile:\u001b[0m      /workspaces/uaem.notas.prodimag/.venv/lib/python3.11/site-packages/matplotlib/pyplot.py\n",
      "\u001b[0;31mType:\u001b[0m      function"
     ]
    }
   ],
   "source": [
    "# Para comenzar una figura nueva, se comienza con `plt.subplots`:\n",
    "plt.subplots?"
   ]
  },
  {
   "cell_type": "code",
   "execution_count": 93,
   "metadata": {},
   "outputs": [
    {
     "data": {
      "image/png": "[encoded data removed]",
      "text/plain": [
       "<Figure size 640x480 with 1 Axes>"
      ]
     },
     "metadata": {},
     "output_type": "display_data"
    }
   ],
   "source": [
    "# Uso de la interfaz orientada a objetos de `matplotlib`:\n",
    "fig, ax = plt.subplots()\n",
    "artists1 = ax.plot(x, y)"
   ]
  },
  {
   "cell_type": "code",
   "execution_count": 94,
   "metadata": {},
   "outputs": [
    {
     "data": {
      "text/plain": [
       "[<matplotlib.lines.Line2D at 0x7f9146414090>]"
      ]
     },
     "execution_count": 94,
     "metadata": {},
     "output_type": "execute_result"
    }
   ],
   "source": [
    "# Observamos que `artists1` es una lista con un solo elemento (la línea):\n",
    "artists1"
   ]
  },
  {
   "cell_type": "code",
   "execution_count": 95,
   "metadata": {},
   "outputs": [
    {
     "data": {
      "image/png": "[encoded data removed]",
      "text/plain": [
       "<Figure size 640x480 with 1 Axes>"
      ]
     },
     "execution_count": 95,
     "metadata": {},
     "output_type": "execute_result"
    }
   ],
   "source": [
    "linea_azul = artists1[0]\n",
    "linea_azul.set_xdata([1, 0, 0, 1])  # Cambiamos a una letra C\n",
    "fig  # Mostremos la figura nuevamente"
   ]
  },
  {
   "cell_type": "code",
   "execution_count": 96,
   "metadata": {},
   "outputs": [
    {
     "data": {
      "text/plain": [
       "<matplotlib.legend.Legend at 0x7f914638f990>"
      ]
     },
     "execution_count": 96,
     "metadata": {},
     "output_type": "execute_result"
    },
    {
     "data": {
      "image/png": "[encoded data removed]",
      "text/plain": [
       "<Figure size 640x480 with 1 Axes>"
      ]
     },
     "metadata": {},
     "output_type": "display_data"
    }
   ],
   "source": [
    "# Repaso de la tabulación de funciones elementales:\n",
    "x = np.linspace(-10*np.pi, 10*np.pi, 1000)\n",
    "y = np.sin(x)/x\n",
    "\n",
    "fig, ax = plt.subplots()\n",
    "ax.plot(x, y, label=r\"$\\frac{\\sin(x)}{x}$\")\n",
    "ax.set_xlabel(r\"$x$\")\n",
    "ax.set_ylabel(r\"$y$\")\n",
    "ax.legend()"
   ]
  },
  {
   "cell_type": "code",
   "execution_count": 104,
   "metadata": {},
   "outputs": [
    {
     "data": {
      "image/png": "[encoded data removed]",
      "text/plain": [
       "<Figure size 640x480 with 1 Axes>"
      ]
     },
     "metadata": {},
     "output_type": "display_data"
    }
   ],
   "source": [
    "# Ajuste de colores y estilos\n",
    "x = np.linspace(-2 * np.pi, 2 * np.pi)\n",
    "y1 = 1 / (1 + np.exp(-x))\n",
    "y2 = 1 / (1 + np.exp(-0.5 * x))\n",
    "y3 = 1 / (1 + np.exp(-2 * x))\n",
    "\n",
    "fig, ax = plt.subplots()\n",
    "ax.plot(\n",
    "    x,\n",
    "    y,\n",
    "    label=r\"$1/(1 + e^{-x})$\",\n",
    "    color=\"green\",\n",
    "    linestyle=\"--\",  # Línea de guiones\n",
    ")\n",
    "ax.plot(\n",
    "    x,\n",
    "    y2,\n",
    "    label=r\"$1/(1 + e^{-\\frac{1}{2}x})$\",\n",
    "    color=\"red\",\n",
    "    linestyle=\":\",  # Línea de puntos\n",
    ")\n",
    "ax.plot(\n",
    "    x,\n",
    "    y3,\n",
    "    label=r\"$1/(1 + e^{-2x})$\",\n",
    "    color=\"blue\",\n",
    "    linestyle=\"-.\", # Línea de puntos y guiones\n",
    ")\n",
    "\n",
    "ax.legend()  # Mostrar la leyenda de las líneas\n",
    "ax.set_xlabel(r\"$x$\")  # Etiqueta del eje x\n",
    "ax.set_ylabel(r\"$y$\")  # Etiqueta del eje y\n",
    "ax.set_title(\"Función logística\")  # Título de la gráfica\n",
    "\n",
    "# Quitar los ejes superior y derecho\n",
    "ax.spines[\"top\"].set_visible(False)\n",
    "ax.spines[\"right\"].set_visible(False)"
   ]
  },
  {
   "cell_type": "code",
   "execution_count": 114,
   "metadata": {},
   "outputs": [
    {
     "data": {
      "image/png": "[encoded data removed]",
      "text/plain": [
       "<Figure size 640x480 with 1 Axes>"
      ]
     },
     "metadata": {},
     "output_type": "display_data"
    }
   ],
   "source": [
    "fig, ax = plt.subplots()\n",
    "x = np.linspace(-2 * np.pi, 2 * np.pi)\n",
    "y = np.sin(x) + x\n",
    "\n",
    "ax.plot(x, y, label=r\"$\\sin(x) + x$\")\n",
    "ax.set_xlabel(r\"$x$\")\n",
    "ax.set_ylabel(r\"$y$\")\n",
    "ax.legend()\n",
    "\n",
    "ax.set_aspect(\"auto\")  # Relación de aspecto automática (predeterminada)"
   ]
  },
  {
   "cell_type": "code",
   "execution_count": 115,
   "metadata": {},
   "outputs": [
    {
     "data": {
      "image/png": "[encoded data removed]",
      "text/plain": [
       "<Figure size 640x480 with 1 Axes>"
      ]
     },
     "execution_count": 115,
     "metadata": {},
     "output_type": "execute_result"
    }
   ],
   "source": [
    "ax.set_aspect(\"equal\")  # Relación de aspecto igual\n",
    "fig"
   ]
  },
  {
   "cell_type": "markdown",
   "metadata": {},
   "source": [
    "### 3.2 Gráficos de dispersión"
   ]
  },
  {
   "cell_type": "code",
   "execution_count": null,
   "metadata": {},
   "outputs": [],
   "source": [
    "# Uso de marcadores en las curvas:"
   ]
  },
  {
   "cell_type": "code",
   "execution_count": null,
   "metadata": {},
   "outputs": [],
   "source": [
    "# Uso de ax.scatter para gráficos de dispersión:"
   ]
  },
  {
   "cell_type": "code",
   "execution_count": null,
   "metadata": {},
   "outputs": [],
   "source": [
    "# Ejemplo con el dataset Iris:"
   ]
  },
  {
   "cell_type": "markdown",
   "metadata": {},
   "source": [
    "### 3.3 Histogramas\n"
   ]
  },
  {
   "cell_type": "code",
   "execution_count": null,
   "metadata": {},
   "outputs": [],
   "source": [
    "# Generando una distribución normal de datos:"
   ]
  },
  {
   "cell_type": "code",
   "execution_count": null,
   "metadata": {},
   "outputs": [],
   "source": []
  },
  {
   "cell_type": "code",
   "execution_count": null,
   "metadata": {},
   "outputs": [],
   "source": []
  },
  {
   "cell_type": "markdown",
   "metadata": {},
   "source": [
    "### 3.4 Graficiación de una función bidimensional"
   ]
  }
 ],
 "metadata": {
  "kernelspec": {
   "display_name": ".venv",
   "language": "python",
   "name": "python3"
  },
  "language_info": {
   "codemirror_mode": {
    "name": "ipython",
    "version": 3
   },
   "file_extension": ".py",
   "mimetype": "text/x-python",
   "name": "python",
   "nbconvert_exporter": "python",
   "pygments_lexer": "ipython3",
   "version": "3.11.7"
  }
 },
 "nbformat": 4,
 "nbformat_minor": 2
}
