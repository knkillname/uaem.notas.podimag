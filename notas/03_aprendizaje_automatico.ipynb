{
 "cells": [
  {
   "cell_type": "markdown",
   "metadata": {},
   "source": [
    "# Procesamiento digital de imágenes con aprendizaje automático"
   ]
  },
  {
   "cell_type": "markdown",
   "metadata": {},
   "source": [
    "El aprendizaje automático (*Machine Learning*) es una disciplina que se enfoca\n",
    "en el desarrollo de algoritmos que permiten generalizar comportamientos a partir\n",
    "de muchos ejemplos.\n",
    "Combina conceptos de matemáticas, estadística y computación; y se puede dividir\n",
    "en dos grandes categorías: aprendizaje supervisado y no supervisado.\n"
   ]
  },
  {
   "cell_type": "markdown",
   "metadata": {},
   "source": [
    "## 1.1. El problema del agrupamiento y la posterización de imágenes"
   ]
  },
  {
   "cell_type": "code",
   "execution_count": null,
   "metadata": {},
   "outputs": [],
   "source": [
    "from sklearn import datasets\n",
    "\n",
    "datos_iris = datasets.load_iris()\n",
    "datos_iris.keys()"
   ]
  },
  {
   "cell_type": "code",
   "execution_count": null,
   "metadata": {},
   "outputs": [],
   "source": [
    "X, y = datos_iris[\"data\"], datos_iris[\"target\"]"
   ]
  },
  {
   "cell_type": "code",
   "execution_count": null,
   "metadata": {},
   "outputs": [],
   "source": [
    "import random\n",
    "indices = random.sample(range(len(X)), k=3)\n",
    "centroides = X[indices]\n",
    "centroides"
   ]
  },
  {
   "cell_type": "code",
   "execution_count": null,
   "metadata": {},
   "outputs": [],
   "source": [
    "import math\n",
    "import numpy as np\n",
    "\n",
    "\n",
    "def distancia(vec_x, vec_y):\n",
    "    return math.sqrt(sum((vec_x - vec_y)**2))\n",
    "\n",
    "def encontar_centroide(X, centroides):\n",
    "    def distancia_a_centroide(i):\n",
    "        return distancia(vec_x, centroides[i])\n",
    "    \n",
    "    indices = range(len(centroides))\n",
    "    etiquetas = [None]*len(X)\n",
    "    for i, vec_x in enumerate(X):\n",
    "        etiquetas[i] = min(indices, key=distancia_a_centroide)\n",
    "    \n",
    "    return etiquetas\n",
    "\n",
    "def centro_de_masa(X):\n",
    "    return sum(X)/len(X)\n",
    "\n",
    "def inercia(X, centroides):\n",
    "    etiquetas = np.array(encontar_centroide(X, centroides))\n",
    "    total = 0.0\n",
    "    for i in range(len(centroides)):\n",
    "        seleccion = X[etiquetas == i]\n",
    "        distancias = [distancia(vec_x, centroides[i]) for vec_x in seleccion]\n",
    "        total += sum(d**2 for d in distancias)\n",
    "    return total"
   ]
  },
  {
   "cell_type": "code",
   "execution_count": null,
   "metadata": {},
   "outputs": [],
   "source": [
    "\n",
    "indices = random.sample(range(len(X)), k=3)\n",
    "centroides = X[indices]\n",
    "print(\"Inercia inicial:\", inercia(X, centroides))\n",
    "\n",
    "for t in range(15):\n",
    "    etiquetas = np.array(encontar_centroide(X, centroides))\n",
    "    for i in range(len(centroides)):\n",
    "        seleccion = X[etiquetas == i]\n",
    "        centroides[i] = centro_de_masa(seleccion)\n",
    "    print(f\"Inercia al tiempo {t}: {inercia(X, centroides)}\")\n"
   ]
  },
  {
   "cell_type": "code",
   "execution_count": null,
   "metadata": {},
   "outputs": [],
   "source": [
    "from sklearn.cluster import KMeans\n",
    "\n",
    "# PASO 1: Definir el modelo\n",
    "modelo = KMeans(n_clusters=3)\n",
    "# PASO 2: Realizar entrenamiento\n",
    "modelo.fit(X)"
   ]
  },
  {
   "cell_type": "code",
   "execution_count": null,
   "metadata": {},
   "outputs": [],
   "source": [
    "modelo.labels_"
   ]
  },
  {
   "cell_type": "code",
   "execution_count": null,
   "metadata": {},
   "outputs": [],
   "source": [
    "datos_iris[\"target\"]"
   ]
  },
  {
   "cell_type": "code",
   "execution_count": null,
   "metadata": {},
   "outputs": [],
   "source": [
    "modelo.inertia_"
   ]
  },
  {
   "cell_type": "code",
   "execution_count": null,
   "metadata": {},
   "outputs": [],
   "source": [
    "import skimage as ski\n",
    "from materiales.sipi import ejemplo_sipi "
   ]
  },
  {
   "cell_type": "code",
   "execution_count": null,
   "metadata": {},
   "outputs": [],
   "source": [
    "img = ski.io.imread(\"sipi/misc/4.2.03.tiff\")\n",
    "img[0, :2]"
   ]
  },
  {
   "cell_type": "code",
   "execution_count": null,
   "metadata": {},
   "outputs": [],
   "source": [
    "alto, ancho, canales = img.shape\n",
    "X = img.reshape((alto*ancho, canales))\n",
    "\n",
    "modelo = KMeans(4)\n",
    "modelo.fit(X)"
   ]
  },
  {
   "cell_type": "code",
   "execution_count": null,
   "metadata": {},
   "outputs": [],
   "source": [
    "modelo.cluster_centers_"
   ]
  },
  {
   "cell_type": "code",
   "execution_count": null,
   "metadata": {},
   "outputs": [],
   "source": [
    "poster = np.array([modelo.cluster_centers_[etiqueta] for etiqueta in modelo.labels_])\n",
    "poster = poster.reshape((alto, ancho, canales))/255"
   ]
  },
  {
   "cell_type": "code",
   "execution_count": null,
   "metadata": {},
   "outputs": [],
   "source": [
    "ski.io.imshow(poster)"
   ]
  },
  {
   "cell_type": "code",
   "execution_count": null,
   "metadata": {},
   "outputs": [],
   "source": []
  }
 ],
 "metadata": {
  "kernelspec": {
   "display_name": "Python 3",
   "language": "python",
   "name": "python3"
  },
  "language_info": {
   "codemirror_mode": {
    "name": "ipython",
    "version": 3
   },
   "file_extension": ".py",
   "mimetype": "text/x-python",
   "name": "python",
   "nbconvert_exporter": "python",
   "pygments_lexer": "ipython3",
   "version": "3.11.8"
  }
 },
 "nbformat": 4,
 "nbformat_minor": 2
}
